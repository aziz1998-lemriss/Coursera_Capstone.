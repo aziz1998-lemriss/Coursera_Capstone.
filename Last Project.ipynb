{
 "cells": [
  {
   "cell_type": "markdown",
   "metadata": {
    "button": false,
    "new_sheet": false,
    "run_control": {
     "read_only": false
    }
   },
   "source": [
    "\n"
   ]
  },
  {
   "cell_type": "markdown",
   "metadata": {
    "button": false,
    "new_sheet": false,
    "run_control": {
     "read_only": false
    }
   },
   "source": [
    "## Introduction\n",
    "\n",
    "\n",
    "Marrakech city in Morocco is one of the best touristic cities in Africa, every year more than 2M tourists come to this city. Since the most tourist that come to the city are Europeans, so they always need to party during weekends, but the problem is that Bars or restaurants with wine/Alcohol are not everywhere in the city, for this i will use the Fouursquare website and data in order to hep"
   ]
  },
  {
   "cell_type": "markdown",
   "metadata": {
    "button": false,
    "new_sheet": false,
    "run_control": {
     "read_only": false
    }
   },
   "source": [
    "### Import necessary Libraries\n"
   ]
  },
  {
   "cell_type": "code",
   "execution_count": 53,
   "metadata": {
    "button": false,
    "jupyter": {
     "outputs_hidden": false
    },
    "new_sheet": false,
    "run_control": {
     "read_only": false
    }
   },
   "outputs": [
    {
     "name": "stdout",
     "output_type": "stream",
     "text": [
      "Folium installed\n",
      "Libraries imported.\n"
     ]
    }
   ],
   "source": [
    "import requests \n",
    "import numpy as np\n",
    "import random \n",
    "import pandas as pd\n",
    "\n",
    "from geopy.geocoders import Nominatim \n",
    "\n",
    "from IPython.display import Image \n",
    "from IPython.core.display import HTML \n",
    "    \n",
    "from pandas.io.json import json_normalize\n",
    "\n",
    "\n",
    "import folium \n",
    "\n",
    "print('Folium installed')\n",
    "print('Libraries imported.')"
   ]
  },
  {
   "cell_type": "markdown",
   "metadata": {
    "button": false,
    "new_sheet": false,
    "run_control": {
     "read_only": false
    }
   },
   "source": [
    "### Define Foursquare Credentials and Version\n"
   ]
  },
  {
   "cell_type": "code",
   "execution_count": 3,
   "metadata": {
    "button": false,
    "jupyter": {
     "outputs_hidden": false
    },
    "new_sheet": false,
    "run_control": {
     "read_only": false
    }
   },
   "outputs": [
    {
     "name": "stdout",
     "output_type": "stream",
     "text": [
      "Your credentails:\n",
      "CLIENT_ID: MFW2HK5GAQTV31UUEMWA3GY5RJHEAWLSH5GMRMD0S5D0B0CG\n",
      "CLIENT_SECRET:12120DVOH2CZU0YRRNA4JP00V2VDJKL5QTAA035AGNULYO15\n"
     ]
    }
   ],
   "source": [
    "CLIENT_ID = 'MFW2HK5GAQTV31UUEMWA3GY5RJHEAWLSH5GMRMD0S5D0B0CG' \n",
    "CLIENT_SECRET = '12120DVOH2CZU0YRRNA4JP00V2VDJKL5QTAA035AGNULYO15'\n",
    "ACCESS_TOKEN = 'E3LQ05DBS5WOS50GX40UGCUVDGCF2HE41UTOS3WSJDJZF3AP' \n",
    "VERSION = '20180604'\n",
    "LIMIT = 30\n",
    "print('Your credentails:')\n",
    "print('CLIENT_ID: ' + CLIENT_ID)\n",
    "print('CLIENT_SECRET:' + CLIENT_SECRET)"
   ]
  },
  {
   "cell_type": "markdown",
   "metadata": {},
   "source": [
    "In order to define an instance of the geocoder, we need to define a user_agent. We will name our agent <em>foursquare_agent</em>, as shown below.\n"
   ]
  },
  {
   "cell_type": "code",
   "execution_count": 4,
   "metadata": {
    "button": false,
    "jupyter": {
     "outputs_hidden": false
    },
    "new_sheet": false,
    "run_control": {
     "read_only": false
    }
   },
   "outputs": [
    {
     "name": "stdout",
     "output_type": "stream",
     "text": [
      "31.6258257 -7.9891608\n"
     ]
    }
   ],
   "source": [
    "address = 'Marrakech'\n",
    "\n",
    "geolocator = Nominatim(user_agent=\"foursquare_agent\")\n",
    "location = geolocator.geocode(address)\n",
    "latitude = location.latitude\n",
    "longitude = location.longitude\n",
    "print(latitude, longitude)"
   ]
  },
  {
   "cell_type": "markdown",
   "metadata": {
    "button": false,
    "new_sheet": false,
    "run_control": {
     "read_only": false
    }
   },
   "source": [
    "\n"
   ]
  },
  {
   "cell_type": "markdown",
   "metadata": {
    "button": false,
    "new_sheet": false,
    "run_control": {
     "read_only": false
    }
   },
   "source": [
    "<a id=\"item1\"></a>\n"
   ]
  },
  {
   "cell_type": "markdown",
   "metadata": {
    "button": false,
    "new_sheet": false,
    "run_control": {
     "read_only": false
    }
   },
   "source": [
    "## 1. Search for a specific venue category\n",
    "\n"
   ]
  },
  {
   "cell_type": "markdown",
   "metadata": {
    "button": false,
    "new_sheet": false,
    "run_control": {
     "read_only": false
    }
   },
   "source": [
    "#### Now, let's assume that it is weekend, and and a couple wants to look for a restaurant with wine and alcodol. So, let's define a query to search for it within 500 metres in the city.\n"
   ]
  },
  {
   "cell_type": "code",
   "execution_count": 19,
   "metadata": {
    "button": false,
    "jupyter": {
     "outputs_hidden": false
    },
    "new_sheet": false,
    "run_control": {
     "read_only": false
    },
    "scrolled": true
   },
   "outputs": [
    {
     "name": "stdout",
     "output_type": "stream",
     "text": [
      "bar .... OK!\n"
     ]
    }
   ],
   "source": [
    "search_query = 'bar'\n",
    "radius = 10000\n",
    "print(search_query + ' .... OK!')"
   ]
  },
  {
   "cell_type": "markdown",
   "metadata": {
    "button": false,
    "new_sheet": false,
    "run_control": {
     "read_only": false
    }
   },
   "source": [
    "#### Define the corresponding URL\n"
   ]
  },
  {
   "cell_type": "code",
   "execution_count": 20,
   "metadata": {
    "button": false,
    "jupyter": {
     "outputs_hidden": false
    },
    "new_sheet": false,
    "run_control": {
     "read_only": false
    }
   },
   "outputs": [
    {
     "data": {
      "text/plain": [
       "'https://api.foursquare.com/v2/venues/search?client_id=MFW2HK5GAQTV31UUEMWA3GY5RJHEAWLSH5GMRMD0S5D0B0CG&client_secret=12120DVOH2CZU0YRRNA4JP00V2VDJKL5QTAA035AGNULYO15&ll=31.6258257,-7.9891608&oauth_token=E3LQ05DBS5WOS50GX40UGCUVDGCF2HE41UTOS3WSJDJZF3AP&v=20180604&query=bar&radius=10000&limit=30'"
      ]
     },
     "execution_count": 20,
     "metadata": {},
     "output_type": "execute_result"
    }
   ],
   "source": [
    "url = 'https://api.foursquare.com/v2/venues/search?client_id={}&client_secret={}&ll={},{}&oauth_token={}&v={}&query={}&radius={}&limit={}'.format(CLIENT_ID, CLIENT_SECRET, latitude, longitude,ACCESS_TOKEN, VERSION, search_query, radius, LIMIT)\n",
    "url"
   ]
  },
  {
   "cell_type": "markdown",
   "metadata": {
    "button": false,
    "new_sheet": false,
    "run_control": {
     "read_only": false
    }
   },
   "source": [
    "#### Send the GET Request and examine the results\n"
   ]
  },
  {
   "cell_type": "code",
   "execution_count": 21,
   "metadata": {
    "button": false,
    "jupyter": {
     "outputs_hidden": false
    },
    "new_sheet": false,
    "run_control": {
     "read_only": false
    },
    "scrolled": true
   },
   "outputs": [
    {
     "data": {
      "text/plain": [
       "{'meta': {'code': 200, 'requestId': '5fc501b1a4d7af1eca8a7998'},\n",
       " 'notifications': [{'type': 'notificationTray', 'item': {'unreadCount': 0}}],\n",
       " 'response': {'venues': [{'id': '4e42ea831fc78b855c199b61',\n",
       "    'name': 'Inara Bar and Lounge at Four Seasons Resort Marrakech',\n",
       "    'location': {'address': '1 Boulevard de la Menara',\n",
       "     'lat': 31.621666920228197,\n",
       "     'lng': -7.984399795532227,\n",
       "     'labeledLatLngs': [{'label': 'display',\n",
       "       'lat': 31.621666920228197,\n",
       "       'lng': -7.984399795532227}],\n",
       "     'distance': 646,\n",
       "     'postalCode': '40000',\n",
       "     'cc': 'MA',\n",
       "     'city': 'مراكش',\n",
       "     'state': 'Marrakech-Tensift-Al Haouz',\n",
       "     'country': 'المغرب',\n",
       "     'formattedAddress': ['1 Boulevard de la Menara',\n",
       "      '40000 مراكش',\n",
       "      'المغرب']},\n",
       "    'categories': [{'id': '4bf58dd8d48988d121941735',\n",
       "      'name': 'Lounge',\n",
       "      'pluralName': 'Lounges',\n",
       "      'shortName': 'Lounge',\n",
       "      'icon': {'prefix': 'https://ss3.4sqi.net/img/categories_v2/nightlife/default_',\n",
       "       'suffix': '.png'},\n",
       "      'primary': True}],\n",
       "    'referralId': 'v-1606746545',\n",
       "    'hasPerk': False},\n",
       "   {'id': '5a243af8b37e2b5bbfd62cc3',\n",
       "    'name': 'Le Bar',\n",
       "    'location': {'lat': 31.62575,\n",
       "     'lng': -7.998657,\n",
       "     'labeledLatLngs': [{'label': 'display',\n",
       "       'lat': 31.62575,\n",
       "       'lng': -7.998657}],\n",
       "     'distance': 900,\n",
       "     'postalCode': '40000',\n",
       "     'cc': 'MA',\n",
       "     'city': 'Marrakech Médina',\n",
       "     'state': 'Marrakech-Tensift-Al Haouz',\n",
       "     'country': 'المغرب',\n",
       "     'formattedAddress': ['40000 Marrakech Médina', 'المغرب']},\n",
       "    'categories': [{'id': '4bf58dd8d48988d1d5941735',\n",
       "      'name': 'Hotel Bar',\n",
       "      'pluralName': 'Hotel Bars',\n",
       "      'shortName': 'Hotel Bar',\n",
       "      'icon': {'prefix': 'https://ss3.4sqi.net/img/categories_v2/travel/hotel_bar_',\n",
       "       'suffix': '.png'},\n",
       "      'primary': True}],\n",
       "    'referralId': 'v-1606746545',\n",
       "    'hasPerk': False},\n",
       "   {'id': '4e5e9cf262e121012040f109',\n",
       "    'name': 'Lawrence Bar at Sofitel Marrakech',\n",
       "    'location': {'address': \"Rue Harroun Errachid, Quartier de L'Hivernage\",\n",
       "     'lat': 31.62140831776903,\n",
       "     'lng': -8.002334257289304,\n",
       "     'labeledLatLngs': [{'label': 'display',\n",
       "       'lat': 31.62140831776903,\n",
       "       'lng': -8.002334257289304}],\n",
       "     'distance': 1342,\n",
       "     'cc': 'MA',\n",
       "     'city': '40000 Marrakech',\n",
       "     'state': '40000 Marrakech',\n",
       "     'country': 'المغرب',\n",
       "     'formattedAddress': [\"Rue Harroun Errachid, Quartier de L'Hivernage\",\n",
       "      '40000 Marrakech',\n",
       "      'المغرب']},\n",
       "    'categories': [],\n",
       "    'referralId': 'v-1606746545',\n",
       "    'hasPerk': False},\n",
       "   {'id': '51e07588498e838526a55355',\n",
       "    'name': 'Nuphar bar',\n",
       "    'location': {'address': 'rue Djbel Lakhder',\n",
       "     'crossStreet': 'Bab Doukkala',\n",
       "     'lat': 31.628368,\n",
       "     'lng': -7.994823,\n",
       "     'labeledLatLngs': [{'label': 'display',\n",
       "       'lat': 31.628368,\n",
       "       'lng': -7.994823}],\n",
       "     'distance': 606,\n",
       "     'postalCode': '40000',\n",
       "     'cc': 'MA',\n",
       "     'city': 'مراكش',\n",
       "     'state': 'Marrakech-Tensift-Al Haouz',\n",
       "     'country': 'المغرب',\n",
       "     'formattedAddress': ['rue Djbel Lakhder (Bab Doukkala)',\n",
       "      '40000 مراكش',\n",
       "      'المغرب']},\n",
       "    'categories': [{'id': '4bf58dd8d48988d1d5941735',\n",
       "      'name': 'Hotel Bar',\n",
       "      'pluralName': 'Hotel Bars',\n",
       "      'shortName': 'Hotel Bar',\n",
       "      'icon': {'prefix': 'https://ss3.4sqi.net/img/categories_v2/travel/hotel_bar_',\n",
       "       'suffix': '.png'},\n",
       "      'primary': True}],\n",
       "    'referralId': 'v-1606746545',\n",
       "    'hasPerk': False},\n",
       "   {'id': '4f2db27ee4b0c1a8190d8c5d',\n",
       "    'name': 'Le bar Italien - La Mamounia Marrakech',\n",
       "    'location': {'address': '1 Avenue Bab Jdid',\n",
       "     'lat': 31.62087309937967,\n",
       "     'lng': -7.997202096409871,\n",
       "     'labeledLatLngs': [{'label': 'display',\n",
       "       'lat': 31.62087309937967,\n",
       "       'lng': -7.997202096409871}],\n",
       "     'distance': 940,\n",
       "     'postalCode': '40000',\n",
       "     'cc': 'MA',\n",
       "     'city': 'مراكش',\n",
       "     'state': 'Marrakech-Tensift-Al Haouz',\n",
       "     'country': 'المغرب',\n",
       "     'formattedAddress': ['1 Avenue Bab Jdid', '40000 مراكش', 'المغرب']},\n",
       "    'categories': [{'id': '4bf58dd8d48988d11e941735',\n",
       "      'name': 'Cocktail Bar',\n",
       "      'pluralName': 'Cocktail Bars',\n",
       "      'shortName': 'Cocktail',\n",
       "      'icon': {'prefix': 'https://ss3.4sqi.net/img/categories_v2/nightlife/cocktails_',\n",
       "       'suffix': '.png'},\n",
       "      'primary': True}],\n",
       "    'referralId': 'v-1606746545',\n",
       "    'hasPerk': False},\n",
       "   {'id': '56e6eb46498e7abdb27bd5f3',\n",
       "    'name': 'bar Espresso',\n",
       "    'location': {'lat': 31.617661,\n",
       "     'lng': -7.99075,\n",
       "     'labeledLatLngs': [{'label': 'display',\n",
       "       'lat': 31.617661,\n",
       "       'lng': -7.99075}],\n",
       "     'distance': 921,\n",
       "     'cc': 'MA',\n",
       "     'country': 'المغرب',\n",
       "     'formattedAddress': ['المغرب']},\n",
       "    'categories': [{'id': '4bf58dd8d48988d1e0931735',\n",
       "      'name': 'Coffee Shop',\n",
       "      'pluralName': 'Coffee Shops',\n",
       "      'shortName': 'Coffee Shop',\n",
       "      'icon': {'prefix': 'https://ss3.4sqi.net/img/categories_v2/food/coffeeshop_',\n",
       "       'suffix': '.png'},\n",
       "      'primary': True}],\n",
       "    'referralId': 'v-1606746545',\n",
       "    'hasPerk': False},\n",
       "   {'id': '5167d2b0e4b0164b287dcb08',\n",
       "    'name': 'Bar Er Rachidia, Marrakech',\n",
       "    'location': {'lat': 31.620985249706774,\n",
       "     'lng': -7.9969822154258265,\n",
       "     'labeledLatLngs': [{'label': 'display',\n",
       "       'lat': 31.620985249706774,\n",
       "       'lng': -7.9969822154258265}],\n",
       "     'distance': 916,\n",
       "     'cc': 'MA',\n",
       "     'country': 'المغرب',\n",
       "     'formattedAddress': ['المغرب']},\n",
       "    'categories': [],\n",
       "    'referralId': 'v-1606746545',\n",
       "    'hasPerk': False},\n",
       "   {'id': '4f10af384fc64b8694d4ae82',\n",
       "    'name': 'Le Bar Churchill',\n",
       "    'location': {'address': '1 Avenue Bab Jdid',\n",
       "     'lat': 31.621148816287064,\n",
       "     'lng': -7.997439436611631,\n",
       "     'labeledLatLngs': [{'label': 'display',\n",
       "       'lat': 31.621148816287064,\n",
       "       'lng': -7.997439436611631}],\n",
       "     'distance': 941,\n",
       "     'cc': 'MA',\n",
       "     'city': 'مراكش',\n",
       "     'state': 'Marrakech-Tensift-Al Haouz',\n",
       "     'country': 'المغرب',\n",
       "     'formattedAddress': ['1 Avenue Bab Jdid', 'مراكش', 'المغرب']},\n",
       "    'categories': [{'id': '4bf58dd8d48988d1d5941735',\n",
       "      'name': 'Hotel Bar',\n",
       "      'pluralName': 'Hotel Bars',\n",
       "      'shortName': 'Hotel Bar',\n",
       "      'icon': {'prefix': 'https://ss3.4sqi.net/img/categories_v2/travel/hotel_bar_',\n",
       "       'suffix': '.png'},\n",
       "      'primary': True}],\n",
       "    'referralId': 'v-1606746545',\n",
       "    'hasPerk': False},\n",
       "   {'id': '5b5b82d095d986002c873cd1',\n",
       "    'name': 'Jazz Bar',\n",
       "    'location': {'lat': 31.630658,\n",
       "     'lng': -7.996085,\n",
       "     'labeledLatLngs': [{'label': 'display',\n",
       "       'lat': 31.630658,\n",
       "       'lng': -7.996085}],\n",
       "     'distance': 848,\n",
       "     'postalCode': '40000',\n",
       "     'cc': 'MA',\n",
       "     'city': 'Marrakech Médina',\n",
       "     'state': 'Marrakech-Tensift-Al Haouz',\n",
       "     'country': 'المغرب',\n",
       "     'formattedAddress': ['40000 Marrakech Médina', 'المغرب']},\n",
       "    'categories': [{'id': '4bf58dd8d48988d116941735',\n",
       "      'name': 'Bar',\n",
       "      'pluralName': 'Bars',\n",
       "      'shortName': 'Bar',\n",
       "      'icon': {'prefix': 'https://ss3.4sqi.net/img/categories_v2/nightlife/pub_',\n",
       "       'suffix': '.png'},\n",
       "      'primary': True}],\n",
       "    'referralId': 'v-1606746545',\n",
       "    'hasPerk': False},\n",
       "   {'id': '5706d523498e3700fcb25fb1',\n",
       "    'name': \"Ali's bar\",\n",
       "    'location': {'lat': 31.633515,\n",
       "     'lng': -7.995585,\n",
       "     'labeledLatLngs': [{'label': 'display',\n",
       "       'lat': 31.633515,\n",
       "       'lng': -7.995585}],\n",
       "     'distance': 1050,\n",
       "     'cc': 'MA',\n",
       "     'country': 'المغرب',\n",
       "     'formattedAddress': ['المغرب']},\n",
       "    'categories': [{'id': '4bf58dd8d48988d116941735',\n",
       "      'name': 'Bar',\n",
       "      'pluralName': 'Bars',\n",
       "      'shortName': 'Bar',\n",
       "      'icon': {'prefix': 'https://ss3.4sqi.net/img/categories_v2/nightlife/pub_',\n",
       "       'suffix': '.png'},\n",
       "      'primary': True}],\n",
       "    'referralId': 'v-1606746545',\n",
       "    'hasPerk': False},\n",
       "   {'id': '4eb2da892c5b5915ce1b22b2',\n",
       "    'name': 'Le Pacha Bar',\n",
       "    'location': {'address': 'Club Med Marrakech La Palmeraie',\n",
       "     'lat': 31.660032869304647,\n",
       "     'lng': -7.979095055563471,\n",
       "     'labeledLatLngs': [{'label': 'display',\n",
       "       'lat': 31.660032869304647,\n",
       "       'lng': -7.979095055563471}],\n",
       "     'distance': 3925,\n",
       "     'cc': 'MA',\n",
       "     'city': 'مراكش',\n",
       "     'state': 'Marrakech-Tensift-Al Haouz',\n",
       "     'country': 'المغرب',\n",
       "     'formattedAddress': ['Club Med Marrakech La Palmeraie',\n",
       "      'مراكش',\n",
       "      'المغرب']},\n",
       "    'categories': [{'id': '4bf58dd8d48988d121941735',\n",
       "      'name': 'Lounge',\n",
       "      'pluralName': 'Lounges',\n",
       "      'shortName': 'Lounge',\n",
       "      'icon': {'prefix': 'https://ss3.4sqi.net/img/categories_v2/nightlife/default_',\n",
       "       'suffix': '.png'},\n",
       "      'primary': True}],\n",
       "    'referralId': 'v-1606746545',\n",
       "    'hasPerk': False},\n",
       "   {'id': '4f134f57e4b00420564f1e51',\n",
       "    'name': 'Chesterfield british bar',\n",
       "    'location': {'address': 'Avenue Med V Hotel Nassim',\n",
       "     'lat': 31.62741805464094,\n",
       "     'lng': -8.001443690229333,\n",
       "     'labeledLatLngs': [{'label': 'display',\n",
       "       'lat': 31.62741805464094,\n",
       "       'lng': -8.001443690229333}],\n",
       "     'distance': 1177,\n",
       "     'postalCode': '40000',\n",
       "     'cc': 'MA',\n",
       "     'city': 'مراكش',\n",
       "     'state': 'Marrakech-Tensift-Al Haouz',\n",
       "     'country': 'المغرب',\n",
       "     'formattedAddress': ['Avenue Med V Hotel Nassim',\n",
       "      '40000 مراكش',\n",
       "      'المغرب']},\n",
       "    'categories': [{'id': '4bf58dd8d48988d11b941735',\n",
       "      'name': 'Pub',\n",
       "      'pluralName': 'Pubs',\n",
       "      'shortName': 'Pub',\n",
       "      'icon': {'prefix': 'https://ss3.4sqi.net/img/categories_v2/nightlife/pub_',\n",
       "       'suffix': '.png'},\n",
       "      'primary': True}],\n",
       "    'referralId': 'v-1606746545',\n",
       "    'hasPerk': False},\n",
       "   {'id': '55808853498e4569e100e799',\n",
       "    'name': 'Bar Golden Tulip Hotel',\n",
       "    'location': {'lat': 31.623751,\n",
       "     'lng': -8.007504,\n",
       "     'labeledLatLngs': [{'label': 'display',\n",
       "       'lat': 31.623751,\n",
       "       'lng': -8.007504}],\n",
       "     'distance': 1753,\n",
       "     'cc': 'MA',\n",
       "     'country': 'المغرب',\n",
       "     'formattedAddress': ['المغرب']},\n",
       "    'categories': [{'id': '4bf58dd8d48988d11e941735',\n",
       "      'name': 'Cocktail Bar',\n",
       "      'pluralName': 'Cocktail Bars',\n",
       "      'shortName': 'Cocktail',\n",
       "      'icon': {'prefix': 'https://ss3.4sqi.net/img/categories_v2/nightlife/cocktails_',\n",
       "       'suffix': '.png'},\n",
       "      'primary': True}],\n",
       "    'referralId': 'v-1606746545',\n",
       "    'hasPerk': False},\n",
       "   {'id': '549c85e9498e7529d1d1cf74',\n",
       "    'name': 'Bar Ichbilia',\n",
       "    'location': {'lat': 31.62090492248535,\n",
       "     'lng': -8.007102966308594,\n",
       "     'labeledLatLngs': [{'label': 'display',\n",
       "       'lat': 31.62090492248535,\n",
       "       'lng': -8.007102966308594}],\n",
       "     'distance': 1786,\n",
       "     'cc': 'MA',\n",
       "     'country': 'المغرب',\n",
       "     'formattedAddress': ['المغرب']},\n",
       "    'categories': [{'id': '4bf58dd8d48988d116941735',\n",
       "      'name': 'Bar',\n",
       "      'pluralName': 'Bars',\n",
       "      'shortName': 'Bar',\n",
       "      'icon': {'prefix': 'https://ss3.4sqi.net/img/categories_v2/nightlife/pub_',\n",
       "       'suffix': '.png'},\n",
       "      'primary': True}],\n",
       "    'referralId': 'v-1606746545',\n",
       "    'hasPerk': False},\n",
       "   {'id': '4f8b43b3e4b09582a4070668',\n",
       "    'name': 'Bar At El Andelusia',\n",
       "    'location': {'lat': 31.620885419488005,\n",
       "     'lng': -8.007390977969575,\n",
       "     'labeledLatLngs': [{'label': 'display',\n",
       "       'lat': 31.620885419488005,\n",
       "       'lng': -8.007390977969575}],\n",
       "     'distance': 1813,\n",
       "     'cc': 'MA',\n",
       "     'country': 'المغرب',\n",
       "     'formattedAddress': ['المغرب']},\n",
       "    'categories': [{'id': '4bf58dd8d48988d11e941735',\n",
       "      'name': 'Cocktail Bar',\n",
       "      'pluralName': 'Cocktail Bars',\n",
       "      'shortName': 'Cocktail',\n",
       "      'icon': {'prefix': 'https://ss3.4sqi.net/img/categories_v2/nightlife/cocktails_',\n",
       "       'suffix': '.png'},\n",
       "      'primary': True}],\n",
       "    'referralId': 'v-1606746545',\n",
       "    'hasPerk': False},\n",
       "   {'id': '4e502dd0483bb770491af853',\n",
       "    'name': 'MySky Bar',\n",
       "    'location': {'address': 'Hotel Hivernage & Spa - Rue des Temples',\n",
       "     'crossStreet': 'Avenue Echouhada',\n",
       "     'lat': 31.622259222079638,\n",
       "     'lng': -8.0011717803395,\n",
       "     'labeledLatLngs': [{'label': 'display',\n",
       "       'lat': 31.622259222079638,\n",
       "       'lng': -8.0011717803395}],\n",
       "     'distance': 1205,\n",
       "     'postalCode': '40000',\n",
       "     'cc': 'MA',\n",
       "     'city': 'Marrakesh',\n",
       "     'state': 'Marrakech-Tensift-El Haouz',\n",
       "     'country': 'المغرب',\n",
       "     'formattedAddress': ['Hotel Hivernage & Spa - Rue des Temples (Avenue Echouhada)',\n",
       "      '40000 Marrakesh',\n",
       "      'المغرب']},\n",
       "    'categories': [{'id': '4bf58dd8d48988d11e941735',\n",
       "      'name': 'Cocktail Bar',\n",
       "      'pluralName': 'Cocktail Bars',\n",
       "      'shortName': 'Cocktail',\n",
       "      'icon': {'prefix': 'https://ss3.4sqi.net/img/categories_v2/nightlife/cocktails_',\n",
       "       'suffix': '.png'},\n",
       "      'primary': True}],\n",
       "    'referralId': 'v-1606746545',\n",
       "    'hasPerk': False},\n",
       "   {'id': '56d45c4fcd102896b4ff9c86',\n",
       "    'name': 'Pool Bar Rui Tikida Palmeraie',\n",
       "    'location': {'lat': 31.650180365877038,\n",
       "     'lng': -7.936907033998298,\n",
       "     'labeledLatLngs': [{'label': 'display',\n",
       "       'lat': 31.650180365877038,\n",
       "       'lng': -7.936907033998298}],\n",
       "     'distance': 5645,\n",
       "     'cc': 'MA',\n",
       "     'country': 'المغرب',\n",
       "     'formattedAddress': ['المغرب']},\n",
       "    'categories': [{'id': '4bf58dd8d48988d1d5941735',\n",
       "      'name': 'Hotel Bar',\n",
       "      'pluralName': 'Hotel Bars',\n",
       "      'shortName': 'Hotel Bar',\n",
       "      'icon': {'prefix': 'https://ss3.4sqi.net/img/categories_v2/travel/hotel_bar_',\n",
       "       'suffix': '.png'},\n",
       "      'primary': True}],\n",
       "    'referralId': 'v-1606746545',\n",
       "    'hasPerk': False},\n",
       "   {'id': '561a242e498ebf51a82230a2',\n",
       "    'name': 'Bar Piscine',\n",
       "    'location': {'address': \"Le Meridien N'fis\",\n",
       "     'lat': 31.618682461974725,\n",
       "     'lng': -8.008317933090439,\n",
       "     'labeledLatLngs': [{'label': 'display',\n",
       "       'lat': 31.618682461974725,\n",
       "       'lng': -8.008317933090439}],\n",
       "     'distance': 1982,\n",
       "     'cc': 'MA',\n",
       "     'country': 'المغرب',\n",
       "     'formattedAddress': [\"Le Meridien N'fis\", 'المغرب']},\n",
       "    'categories': [{'id': '52e81612bcbc57f1066b7a0d',\n",
       "      'name': 'Beach Bar',\n",
       "      'pluralName': 'Beach Bars',\n",
       "      'shortName': 'Beach Bar',\n",
       "      'icon': {'prefix': 'https://ss3.4sqi.net/img/categories_v2/nightlife/default_',\n",
       "       'suffix': '.png'},\n",
       "      'primary': True}],\n",
       "    'referralId': 'v-1606746545',\n",
       "    'hasPerk': False},\n",
       "   {'id': '56d88d26cd10bf4b6870892e',\n",
       "    'name': 'Coffee Bar Riu Tikida Palmeraie',\n",
       "    'location': {'lat': 31.649004,\n",
       "     'lng': -7.9361987,\n",
       "     'labeledLatLngs': [{'label': 'display',\n",
       "       'lat': 31.649004,\n",
       "       'lng': -7.9361987}],\n",
       "     'distance': 5643,\n",
       "     'cc': 'MA',\n",
       "     'city': 'مراكش',\n",
       "     'state': 'Marrakech-Tensift-Al Haouz',\n",
       "     'country': 'المغرب',\n",
       "     'formattedAddress': ['مراكش', 'المغرب']},\n",
       "    'categories': [{'id': '4bf58dd8d48988d1e0931735',\n",
       "      'name': 'Coffee Shop',\n",
       "      'pluralName': 'Coffee Shops',\n",
       "      'shortName': 'Coffee Shop',\n",
       "      'icon': {'prefix': 'https://ss3.4sqi.net/img/categories_v2/food/coffeeshop_',\n",
       "       'suffix': '.png'},\n",
       "      'primary': True}],\n",
       "    'referralId': 'v-1606746545',\n",
       "    'hasPerk': False},\n",
       "   {'id': '534d097e11d22cce1c40caaa',\n",
       "    'name': 'dellarosa pool & bar',\n",
       "    'location': {'lat': 31.62834198322063,\n",
       "     'lng': -8.006363345303212,\n",
       "     'labeledLatLngs': [{'label': 'display',\n",
       "       'lat': 31.62834198322063,\n",
       "       'lng': -8.006363345303212}],\n",
       "     'distance': 1654,\n",
       "     'cc': 'MA',\n",
       "     'country': 'المغرب',\n",
       "     'formattedAddress': ['المغرب']},\n",
       "    'categories': [{'id': '4bf58dd8d48988d15e941735',\n",
       "      'name': 'Pool',\n",
       "      'pluralName': 'Pools',\n",
       "      'shortName': 'Pool',\n",
       "      'icon': {'prefix': 'https://ss3.4sqi.net/img/categories_v2/parks_outdoors/pool_',\n",
       "       'suffix': '.png'},\n",
       "      'primary': True}],\n",
       "    'referralId': 'v-1606746545',\n",
       "    'hasPerk': False},\n",
       "   {'id': '5e20b5f35a315300089c6a62',\n",
       "    'name': 'Le Bar',\n",
       "    'location': {'address': 'زنقة ليبيا',\n",
       "     'lat': 31.632139,\n",
       "     'lng': -8.010264,\n",
       "     'labeledLatLngs': [{'label': 'display',\n",
       "       'lat': 31.632139,\n",
       "       'lng': -8.010264}],\n",
       "     'distance': 2120,\n",
       "     'postalCode': '40000',\n",
       "     'cc': 'MA',\n",
       "     'city': 'Gueliz',\n",
       "     'state': 'مراكش-تانسيفت-الحوز',\n",
       "     'country': 'المغرب',\n",
       "     'formattedAddress': ['زنقة ليبيا', '40000 Gueliz', 'المغرب']},\n",
       "    'categories': [{'id': '4bf58dd8d48988d116941735',\n",
       "      'name': 'Bar',\n",
       "      'pluralName': 'Bars',\n",
       "      'shortName': 'Bar',\n",
       "      'icon': {'prefix': 'https://ss3.4sqi.net/img/categories_v2/nightlife/pub_',\n",
       "       'suffix': '.png'},\n",
       "      'primary': True}],\n",
       "    'referralId': 'v-1606746545',\n",
       "    'hasPerk': False},\n",
       "   {'id': '4fafe75ee4b06952dfff9032',\n",
       "    'name': \"Bar l'Éscale\",\n",
       "    'location': {'lat': 31.63400334063268,\n",
       "     'lng': -8.011235412384197,\n",
       "     'labeledLatLngs': [{'label': 'display',\n",
       "       'lat': 31.63400334063268,\n",
       "       'lng': -8.011235412384197}],\n",
       "     'distance': 2281,\n",
       "     'cc': 'MA',\n",
       "     'country': 'المغرب',\n",
       "     'formattedAddress': ['المغرب']},\n",
       "    'categories': [{'id': '4bf58dd8d48988d116941735',\n",
       "      'name': 'Bar',\n",
       "      'pluralName': 'Bars',\n",
       "      'shortName': 'Bar',\n",
       "      'icon': {'prefix': 'https://ss3.4sqi.net/img/categories_v2/nightlife/pub_',\n",
       "       'suffix': '.png'},\n",
       "      'primary': True}],\n",
       "    'referralId': 'v-1606746545',\n",
       "    'hasPerk': False},\n",
       "   {'id': '503926f5e4b0824d0b173038',\n",
       "    'name': 'Piano Bar',\n",
       "    'location': {'lat': 31.620577,\n",
       "     'lng': -8.004955,\n",
       "     'labeledLatLngs': [{'label': 'display',\n",
       "       'lat': 31.620577,\n",
       "       'lng': -8.004955}],\n",
       "     'distance': 1607,\n",
       "     'cc': 'MA',\n",
       "     'country': 'المغرب',\n",
       "     'formattedAddress': ['المغرب']},\n",
       "    'categories': [{'id': '4bf58dd8d48988d11e941735',\n",
       "      'name': 'Cocktail Bar',\n",
       "      'pluralName': 'Cocktail Bars',\n",
       "      'shortName': 'Cocktail',\n",
       "      'icon': {'prefix': 'https://ss3.4sqi.net/img/categories_v2/nightlife/cocktails_',\n",
       "       'suffix': '.png'},\n",
       "      'primary': True}],\n",
       "    'referralId': 'v-1606746545',\n",
       "    'hasPerk': False},\n",
       "   {'id': '4dc47274c65b89d3ca55147a',\n",
       "    'name': 'Al Baraka',\n",
       "    'location': {'address': '1 Place Jamâa El Fna',\n",
       "     'lat': 31.626059911957256,\n",
       "     'lng': -7.990418432489061,\n",
       "     'labeledLatLngs': [{'label': 'display',\n",
       "       'lat': 31.626059911957256,\n",
       "       'lng': -7.990418432489061}],\n",
       "     'distance': 122,\n",
       "     'cc': 'MA',\n",
       "     'city': 'Marrakesh',\n",
       "     'state': 'Marrakech-Tensift-El Haouz',\n",
       "     'country': 'المغرب',\n",
       "     'formattedAddress': ['1 Place Jamâa El Fna', 'Marrakesh', 'المغرب']},\n",
       "    'categories': [{'id': '4bf58dd8d48988d1c3941735',\n",
       "      'name': 'Moroccan Restaurant',\n",
       "      'pluralName': 'Moroccan Restaurants',\n",
       "      'shortName': 'Moroccan',\n",
       "      'icon': {'prefix': 'https://ss3.4sqi.net/img/categories_v2/food/moroccan_',\n",
       "       'suffix': '.png'},\n",
       "      'primary': True}],\n",
       "    'referralId': 'v-1606746545',\n",
       "    'hasPerk': False},\n",
       "   {'id': '528ccbd111d25e0b6a46289b',\n",
       "    'name': 'Nail Bar Studio',\n",
       "    'location': {'lat': 31.628307,\n",
       "     'lng': -8.007412,\n",
       "     'labeledLatLngs': [{'label': 'display',\n",
       "       'lat': 31.628307,\n",
       "       'lng': -8.007412}],\n",
       "     'distance': 1751,\n",
       "     'cc': 'MA',\n",
       "     'country': 'المغرب',\n",
       "     'formattedAddress': ['المغرب']},\n",
       "    'categories': [{'id': '4f04aa0c2fb6e1c99f3db0b8',\n",
       "      'name': 'Nail Salon',\n",
       "      'pluralName': 'Nail Salons',\n",
       "      'shortName': 'Nail Salon',\n",
       "      'icon': {'prefix': 'https://ss3.4sqi.net/img/categories_v2/shops/nailsalon_',\n",
       "       'suffix': '.png'},\n",
       "      'primary': True}],\n",
       "    'referralId': 'v-1606746545',\n",
       "    'hasPerk': False},\n",
       "   {'id': '52c49cad11d212c578d2ee00',\n",
       "    'name': 'lobby bar kenzy farah',\n",
       "    'location': {'lat': 31.62254,\n",
       "     'lng': -8.00622,\n",
       "     'labeledLatLngs': [{'label': 'display',\n",
       "       'lat': 31.62254,\n",
       "       'lng': -8.00622}],\n",
       "     'distance': 1657,\n",
       "     'cc': 'MA',\n",
       "     'country': 'المغرب',\n",
       "     'formattedAddress': ['المغرب']},\n",
       "    'categories': [{'id': '4bf58dd8d48988d12f951735',\n",
       "      'name': 'Resort',\n",
       "      'pluralName': 'Resorts',\n",
       "      'shortName': 'Resort',\n",
       "      'icon': {'prefix': 'https://ss3.4sqi.net/img/categories_v2/travel/resort_',\n",
       "       'suffix': '.png'},\n",
       "      'primary': True}],\n",
       "    'referralId': 'v-1606746545',\n",
       "    'hasPerk': False},\n",
       "   {'id': '54b6acb8498e471a773542a0',\n",
       "    'name': 'Bar Yacout',\n",
       "    'location': {'lat': 31.631674500233487,\n",
       "     'lng': -8.013157706413805,\n",
       "     'labeledLatLngs': [{'label': 'display',\n",
       "       'lat': 31.631674500233487,\n",
       "       'lng': -8.013157706413805}],\n",
       "     'distance': 2365,\n",
       "     'cc': 'MA',\n",
       "     'country': 'المغرب',\n",
       "     'formattedAddress': ['المغرب']},\n",
       "    'categories': [{'id': '4bf58dd8d48988d116941735',\n",
       "      'name': 'Bar',\n",
       "      'pluralName': 'Bars',\n",
       "      'shortName': 'Bar',\n",
       "      'icon': {'prefix': 'https://ss3.4sqi.net/img/categories_v2/nightlife/pub_',\n",
       "       'suffix': '.png'},\n",
       "      'primary': True}],\n",
       "    'referralId': 'v-1606746545',\n",
       "    'hasPerk': False},\n",
       "   {'id': '5a82fbff5d891b5c0bac16be',\n",
       "    'name': 'Lola skylounge & pool bar',\n",
       "    'location': {'lat': 31.629269,\n",
       "     'lng': -8.008035,\n",
       "     'labeledLatLngs': [{'label': 'display',\n",
       "       'lat': 31.629269,\n",
       "       'lng': -8.008035}],\n",
       "     'distance': 1829,\n",
       "     'postalCode': '40000',\n",
       "     'cc': 'MA',\n",
       "     'city': 'Gueliz',\n",
       "     'state': 'Marrakech-Tensift-Al Hauz',\n",
       "     'country': 'المغرب',\n",
       "     'formattedAddress': ['40000 Gueliz', 'المغرب']},\n",
       "    'categories': [{'id': '4bf58dd8d48988d116941735',\n",
       "      'name': 'Bar',\n",
       "      'pluralName': 'Bars',\n",
       "      'shortName': 'Bar',\n",
       "      'icon': {'prefix': 'https://ss3.4sqi.net/img/categories_v2/nightlife/pub_',\n",
       "       'suffix': '.png'},\n",
       "      'primary': True}],\n",
       "    'referralId': 'v-1606746545',\n",
       "    'hasPerk': False},\n",
       "   {'id': '59c928eebe707846879faf22',\n",
       "    'name': 'Lobby Bar at Hotel du Golf',\n",
       "    'location': {'lat': 31.686471,\n",
       "     'lng': -7.974005,\n",
       "     'labeledLatLngs': [{'label': 'display',\n",
       "       'lat': 31.686471,\n",
       "       'lng': -7.974005}],\n",
       "     'distance': 6902,\n",
       "     'postalCode': '40000',\n",
       "     'cc': 'MA',\n",
       "     'city': 'مراكش',\n",
       "     'state': 'Marrakech-Tensift-Al Haouz',\n",
       "     'country': 'المغرب',\n",
       "     'formattedAddress': ['40000 مراكش', 'المغرب']},\n",
       "    'categories': [{'id': '4bf58dd8d48988d1d5941735',\n",
       "      'name': 'Hotel Bar',\n",
       "      'pluralName': 'Hotel Bars',\n",
       "      'shortName': 'Hotel Bar',\n",
       "      'icon': {'prefix': 'https://ss3.4sqi.net/img/categories_v2/travel/hotel_bar_',\n",
       "       'suffix': '.png'},\n",
       "      'primary': True}],\n",
       "    'referralId': 'v-1606746545',\n",
       "    'hasPerk': False},\n",
       "   {'id': '58fe6f91a8792113c6393445',\n",
       "    'name': \"Chili's Grill & Bar\",\n",
       "    'location': {'lat': 31.619072277328986,\n",
       "     'lng': -8.00929646467622,\n",
       "     'labeledLatLngs': [{'label': 'display',\n",
       "       'lat': 31.619072277328986,\n",
       "       'lng': -8.00929646467622}],\n",
       "     'distance': 2051,\n",
       "     'postalCode': '40000',\n",
       "     'cc': 'MA',\n",
       "     'city': 'Marrakech',\n",
       "     'state': 'مراكش-تانسيفت-الحوز',\n",
       "     'country': 'المغرب',\n",
       "     'formattedAddress': ['40000 Marrakech', 'المغرب']},\n",
       "    'categories': [{'id': '56aa371ae4b08b9a8d5734ba',\n",
       "      'name': 'Tex-Mex Restaurant',\n",
       "      'pluralName': 'Tex-Mex Restaurants',\n",
       "      'shortName': 'Tex-Mex',\n",
       "      'icon': {'prefix': 'https://ss3.4sqi.net/img/categories_v2/food/mexican_',\n",
       "       'suffix': '.png'},\n",
       "      'primary': True}],\n",
       "    'referralId': 'v-1606746545',\n",
       "    'hasPerk': False}]}}"
      ]
     },
     "execution_count": 21,
     "metadata": {},
     "output_type": "execute_result"
    }
   ],
   "source": [
    "results = requests.get(url).json()\n",
    "results"
   ]
  },
  {
   "cell_type": "markdown",
   "metadata": {
    "button": false,
    "new_sheet": false,
    "run_control": {
     "read_only": false
    }
   },
   "source": [
    "#### Get relevant part of JSON and transform it into a _pandas_ dataframe\n"
   ]
  },
  {
   "cell_type": "code",
   "execution_count": 22,
   "metadata": {
    "button": false,
    "jupyter": {
     "outputs_hidden": false
    },
    "new_sheet": false,
    "run_control": {
     "read_only": false
    }
   },
   "outputs": [
    {
     "name": "stderr",
     "output_type": "stream",
     "text": [
      "<ipython-input-22-5acf500bf9ad>:5: FutureWarning: pandas.io.json.json_normalize is deprecated, use pandas.json_normalize instead\n",
      "  dataframe = json_normalize(venues)\n"
     ]
    },
    {
     "data": {
      "text/html": [
       "<div>\n",
       "<style scoped>\n",
       "    .dataframe tbody tr th:only-of-type {\n",
       "        vertical-align: middle;\n",
       "    }\n",
       "\n",
       "    .dataframe tbody tr th {\n",
       "        vertical-align: top;\n",
       "    }\n",
       "\n",
       "    .dataframe thead th {\n",
       "        text-align: right;\n",
       "    }\n",
       "</style>\n",
       "<table border=\"1\" class=\"dataframe\">\n",
       "  <thead>\n",
       "    <tr style=\"text-align: right;\">\n",
       "      <th></th>\n",
       "      <th>id</th>\n",
       "      <th>name</th>\n",
       "      <th>categories</th>\n",
       "      <th>referralId</th>\n",
       "      <th>hasPerk</th>\n",
       "      <th>location.address</th>\n",
       "      <th>location.lat</th>\n",
       "      <th>location.lng</th>\n",
       "      <th>location.labeledLatLngs</th>\n",
       "      <th>location.distance</th>\n",
       "      <th>location.postalCode</th>\n",
       "      <th>location.cc</th>\n",
       "      <th>location.city</th>\n",
       "      <th>location.state</th>\n",
       "      <th>location.country</th>\n",
       "      <th>location.formattedAddress</th>\n",
       "      <th>location.crossStreet</th>\n",
       "    </tr>\n",
       "  </thead>\n",
       "  <tbody>\n",
       "    <tr>\n",
       "      <th>0</th>\n",
       "      <td>4e42ea831fc78b855c199b61</td>\n",
       "      <td>Inara Bar and Lounge at Four Seasons Resort Ma...</td>\n",
       "      <td>[{'id': '4bf58dd8d48988d121941735', 'name': 'L...</td>\n",
       "      <td>v-1606746545</td>\n",
       "      <td>False</td>\n",
       "      <td>1 Boulevard de la Menara</td>\n",
       "      <td>31.621667</td>\n",
       "      <td>-7.984400</td>\n",
       "      <td>[{'label': 'display', 'lat': 31.62166692022819...</td>\n",
       "      <td>646</td>\n",
       "      <td>40000</td>\n",
       "      <td>MA</td>\n",
       "      <td>مراكش</td>\n",
       "      <td>Marrakech-Tensift-Al Haouz</td>\n",
       "      <td>المغرب</td>\n",
       "      <td>[1 Boulevard de la Menara, 40000 مراكش, المغرب]</td>\n",
       "      <td>NaN</td>\n",
       "    </tr>\n",
       "    <tr>\n",
       "      <th>1</th>\n",
       "      <td>5a243af8b37e2b5bbfd62cc3</td>\n",
       "      <td>Le Bar</td>\n",
       "      <td>[{'id': '4bf58dd8d48988d1d5941735', 'name': 'H...</td>\n",
       "      <td>v-1606746545</td>\n",
       "      <td>False</td>\n",
       "      <td>NaN</td>\n",
       "      <td>31.625750</td>\n",
       "      <td>-7.998657</td>\n",
       "      <td>[{'label': 'display', 'lat': 31.62575, 'lng': ...</td>\n",
       "      <td>900</td>\n",
       "      <td>40000</td>\n",
       "      <td>MA</td>\n",
       "      <td>Marrakech Médina</td>\n",
       "      <td>Marrakech-Tensift-Al Haouz</td>\n",
       "      <td>المغرب</td>\n",
       "      <td>[40000 Marrakech Médina, المغرب]</td>\n",
       "      <td>NaN</td>\n",
       "    </tr>\n",
       "    <tr>\n",
       "      <th>2</th>\n",
       "      <td>4e5e9cf262e121012040f109</td>\n",
       "      <td>Lawrence Bar at Sofitel Marrakech</td>\n",
       "      <td>[]</td>\n",
       "      <td>v-1606746545</td>\n",
       "      <td>False</td>\n",
       "      <td>Rue Harroun Errachid, Quartier de L'Hivernage</td>\n",
       "      <td>31.621408</td>\n",
       "      <td>-8.002334</td>\n",
       "      <td>[{'label': 'display', 'lat': 31.62140831776903...</td>\n",
       "      <td>1342</td>\n",
       "      <td>NaN</td>\n",
       "      <td>MA</td>\n",
       "      <td>40000 Marrakech</td>\n",
       "      <td>40000 Marrakech</td>\n",
       "      <td>المغرب</td>\n",
       "      <td>[Rue Harroun Errachid, Quartier de L'Hivernage...</td>\n",
       "      <td>NaN</td>\n",
       "    </tr>\n",
       "    <tr>\n",
       "      <th>3</th>\n",
       "      <td>51e07588498e838526a55355</td>\n",
       "      <td>Nuphar bar</td>\n",
       "      <td>[{'id': '4bf58dd8d48988d1d5941735', 'name': 'H...</td>\n",
       "      <td>v-1606746545</td>\n",
       "      <td>False</td>\n",
       "      <td>rue Djbel Lakhder</td>\n",
       "      <td>31.628368</td>\n",
       "      <td>-7.994823</td>\n",
       "      <td>[{'label': 'display', 'lat': 31.628368, 'lng':...</td>\n",
       "      <td>606</td>\n",
       "      <td>40000</td>\n",
       "      <td>MA</td>\n",
       "      <td>مراكش</td>\n",
       "      <td>Marrakech-Tensift-Al Haouz</td>\n",
       "      <td>المغرب</td>\n",
       "      <td>[rue Djbel Lakhder (Bab Doukkala), 40000 مراكش...</td>\n",
       "      <td>Bab Doukkala</td>\n",
       "    </tr>\n",
       "    <tr>\n",
       "      <th>4</th>\n",
       "      <td>4f2db27ee4b0c1a8190d8c5d</td>\n",
       "      <td>Le bar Italien - La Mamounia Marrakech</td>\n",
       "      <td>[{'id': '4bf58dd8d48988d11e941735', 'name': 'C...</td>\n",
       "      <td>v-1606746545</td>\n",
       "      <td>False</td>\n",
       "      <td>1 Avenue Bab Jdid</td>\n",
       "      <td>31.620873</td>\n",
       "      <td>-7.997202</td>\n",
       "      <td>[{'label': 'display', 'lat': 31.62087309937967...</td>\n",
       "      <td>940</td>\n",
       "      <td>40000</td>\n",
       "      <td>MA</td>\n",
       "      <td>مراكش</td>\n",
       "      <td>Marrakech-Tensift-Al Haouz</td>\n",
       "      <td>المغرب</td>\n",
       "      <td>[1 Avenue Bab Jdid, 40000 مراكش, المغرب]</td>\n",
       "      <td>NaN</td>\n",
       "    </tr>\n",
       "  </tbody>\n",
       "</table>\n",
       "</div>"
      ],
      "text/plain": [
       "                         id  \\\n",
       "0  4e42ea831fc78b855c199b61   \n",
       "1  5a243af8b37e2b5bbfd62cc3   \n",
       "2  4e5e9cf262e121012040f109   \n",
       "3  51e07588498e838526a55355   \n",
       "4  4f2db27ee4b0c1a8190d8c5d   \n",
       "\n",
       "                                                name  \\\n",
       "0  Inara Bar and Lounge at Four Seasons Resort Ma...   \n",
       "1                                             Le Bar   \n",
       "2                  Lawrence Bar at Sofitel Marrakech   \n",
       "3                                         Nuphar bar   \n",
       "4             Le bar Italien - La Mamounia Marrakech   \n",
       "\n",
       "                                          categories    referralId  hasPerk  \\\n",
       "0  [{'id': '4bf58dd8d48988d121941735', 'name': 'L...  v-1606746545    False   \n",
       "1  [{'id': '4bf58dd8d48988d1d5941735', 'name': 'H...  v-1606746545    False   \n",
       "2                                                 []  v-1606746545    False   \n",
       "3  [{'id': '4bf58dd8d48988d1d5941735', 'name': 'H...  v-1606746545    False   \n",
       "4  [{'id': '4bf58dd8d48988d11e941735', 'name': 'C...  v-1606746545    False   \n",
       "\n",
       "                                location.address  location.lat  location.lng  \\\n",
       "0                       1 Boulevard de la Menara     31.621667     -7.984400   \n",
       "1                                            NaN     31.625750     -7.998657   \n",
       "2  Rue Harroun Errachid, Quartier de L'Hivernage     31.621408     -8.002334   \n",
       "3                              rue Djbel Lakhder     31.628368     -7.994823   \n",
       "4                              1 Avenue Bab Jdid     31.620873     -7.997202   \n",
       "\n",
       "                             location.labeledLatLngs  location.distance  \\\n",
       "0  [{'label': 'display', 'lat': 31.62166692022819...                646   \n",
       "1  [{'label': 'display', 'lat': 31.62575, 'lng': ...                900   \n",
       "2  [{'label': 'display', 'lat': 31.62140831776903...               1342   \n",
       "3  [{'label': 'display', 'lat': 31.628368, 'lng':...                606   \n",
       "4  [{'label': 'display', 'lat': 31.62087309937967...                940   \n",
       "\n",
       "  location.postalCode location.cc     location.city  \\\n",
       "0               40000          MA             مراكش   \n",
       "1               40000          MA  Marrakech Médina   \n",
       "2                 NaN          MA   40000 Marrakech   \n",
       "3               40000          MA             مراكش   \n",
       "4               40000          MA             مراكش   \n",
       "\n",
       "               location.state location.country  \\\n",
       "0  Marrakech-Tensift-Al Haouz           المغرب   \n",
       "1  Marrakech-Tensift-Al Haouz           المغرب   \n",
       "2             40000 Marrakech           المغرب   \n",
       "3  Marrakech-Tensift-Al Haouz           المغرب   \n",
       "4  Marrakech-Tensift-Al Haouz           المغرب   \n",
       "\n",
       "                           location.formattedAddress location.crossStreet  \n",
       "0    [1 Boulevard de la Menara, 40000 مراكش, المغرب]                  NaN  \n",
       "1                   [40000 Marrakech Médina, المغرب]                  NaN  \n",
       "2  [Rue Harroun Errachid, Quartier de L'Hivernage...                  NaN  \n",
       "3  [rue Djbel Lakhder (Bab Doukkala), 40000 مراكش...         Bab Doukkala  \n",
       "4           [1 Avenue Bab Jdid, 40000 مراكش, المغرب]                  NaN  "
      ]
     },
     "execution_count": 22,
     "metadata": {},
     "output_type": "execute_result"
    }
   ],
   "source": [
    "# assign relevant part of JSON to venues\n",
    "venues = results['response']['venues']\n",
    "\n",
    "# tranform venues into a dataframe\n",
    "dataframe = json_normalize(venues)\n",
    "dataframe.head()"
   ]
  },
  {
   "cell_type": "markdown",
   "metadata": {
    "button": false,
    "new_sheet": false,
    "run_control": {
     "read_only": false
    }
   },
   "source": [
    "#### Define information of interest and filter dataframe\n"
   ]
  },
  {
   "cell_type": "code",
   "execution_count": 23,
   "metadata": {
    "button": false,
    "jupyter": {
     "outputs_hidden": false
    },
    "new_sheet": false,
    "run_control": {
     "read_only": false
    },
    "scrolled": true
   },
   "outputs": [
    {
     "data": {
      "text/html": [
       "<div>\n",
       "<style scoped>\n",
       "    .dataframe tbody tr th:only-of-type {\n",
       "        vertical-align: middle;\n",
       "    }\n",
       "\n",
       "    .dataframe tbody tr th {\n",
       "        vertical-align: top;\n",
       "    }\n",
       "\n",
       "    .dataframe thead th {\n",
       "        text-align: right;\n",
       "    }\n",
       "</style>\n",
       "<table border=\"1\" class=\"dataframe\">\n",
       "  <thead>\n",
       "    <tr style=\"text-align: right;\">\n",
       "      <th></th>\n",
       "      <th>name</th>\n",
       "      <th>categories</th>\n",
       "      <th>address</th>\n",
       "      <th>lat</th>\n",
       "      <th>lng</th>\n",
       "      <th>labeledLatLngs</th>\n",
       "      <th>distance</th>\n",
       "      <th>postalCode</th>\n",
       "      <th>cc</th>\n",
       "      <th>city</th>\n",
       "      <th>state</th>\n",
       "      <th>country</th>\n",
       "      <th>formattedAddress</th>\n",
       "      <th>crossStreet</th>\n",
       "      <th>id</th>\n",
       "    </tr>\n",
       "  </thead>\n",
       "  <tbody>\n",
       "    <tr>\n",
       "      <th>0</th>\n",
       "      <td>Inara Bar and Lounge at Four Seasons Resort Ma...</td>\n",
       "      <td>Lounge</td>\n",
       "      <td>1 Boulevard de la Menara</td>\n",
       "      <td>31.621667</td>\n",
       "      <td>-7.984400</td>\n",
       "      <td>[{'label': 'display', 'lat': 31.62166692022819...</td>\n",
       "      <td>646</td>\n",
       "      <td>40000</td>\n",
       "      <td>MA</td>\n",
       "      <td>مراكش</td>\n",
       "      <td>Marrakech-Tensift-Al Haouz</td>\n",
       "      <td>المغرب</td>\n",
       "      <td>[1 Boulevard de la Menara, 40000 مراكش, المغرب]</td>\n",
       "      <td>NaN</td>\n",
       "      <td>4e42ea831fc78b855c199b61</td>\n",
       "    </tr>\n",
       "    <tr>\n",
       "      <th>1</th>\n",
       "      <td>Le Bar</td>\n",
       "      <td>Hotel Bar</td>\n",
       "      <td>NaN</td>\n",
       "      <td>31.625750</td>\n",
       "      <td>-7.998657</td>\n",
       "      <td>[{'label': 'display', 'lat': 31.62575, 'lng': ...</td>\n",
       "      <td>900</td>\n",
       "      <td>40000</td>\n",
       "      <td>MA</td>\n",
       "      <td>Marrakech Médina</td>\n",
       "      <td>Marrakech-Tensift-Al Haouz</td>\n",
       "      <td>المغرب</td>\n",
       "      <td>[40000 Marrakech Médina, المغرب]</td>\n",
       "      <td>NaN</td>\n",
       "      <td>5a243af8b37e2b5bbfd62cc3</td>\n",
       "    </tr>\n",
       "    <tr>\n",
       "      <th>2</th>\n",
       "      <td>Lawrence Bar at Sofitel Marrakech</td>\n",
       "      <td>None</td>\n",
       "      <td>Rue Harroun Errachid, Quartier de L'Hivernage</td>\n",
       "      <td>31.621408</td>\n",
       "      <td>-8.002334</td>\n",
       "      <td>[{'label': 'display', 'lat': 31.62140831776903...</td>\n",
       "      <td>1342</td>\n",
       "      <td>NaN</td>\n",
       "      <td>MA</td>\n",
       "      <td>40000 Marrakech</td>\n",
       "      <td>40000 Marrakech</td>\n",
       "      <td>المغرب</td>\n",
       "      <td>[Rue Harroun Errachid, Quartier de L'Hivernage...</td>\n",
       "      <td>NaN</td>\n",
       "      <td>4e5e9cf262e121012040f109</td>\n",
       "    </tr>\n",
       "    <tr>\n",
       "      <th>3</th>\n",
       "      <td>Nuphar bar</td>\n",
       "      <td>Hotel Bar</td>\n",
       "      <td>rue Djbel Lakhder</td>\n",
       "      <td>31.628368</td>\n",
       "      <td>-7.994823</td>\n",
       "      <td>[{'label': 'display', 'lat': 31.628368, 'lng':...</td>\n",
       "      <td>606</td>\n",
       "      <td>40000</td>\n",
       "      <td>MA</td>\n",
       "      <td>مراكش</td>\n",
       "      <td>Marrakech-Tensift-Al Haouz</td>\n",
       "      <td>المغرب</td>\n",
       "      <td>[rue Djbel Lakhder (Bab Doukkala), 40000 مراكش...</td>\n",
       "      <td>Bab Doukkala</td>\n",
       "      <td>51e07588498e838526a55355</td>\n",
       "    </tr>\n",
       "    <tr>\n",
       "      <th>4</th>\n",
       "      <td>Le bar Italien - La Mamounia Marrakech</td>\n",
       "      <td>Cocktail Bar</td>\n",
       "      <td>1 Avenue Bab Jdid</td>\n",
       "      <td>31.620873</td>\n",
       "      <td>-7.997202</td>\n",
       "      <td>[{'label': 'display', 'lat': 31.62087309937967...</td>\n",
       "      <td>940</td>\n",
       "      <td>40000</td>\n",
       "      <td>MA</td>\n",
       "      <td>مراكش</td>\n",
       "      <td>Marrakech-Tensift-Al Haouz</td>\n",
       "      <td>المغرب</td>\n",
       "      <td>[1 Avenue Bab Jdid, 40000 مراكش, المغرب]</td>\n",
       "      <td>NaN</td>\n",
       "      <td>4f2db27ee4b0c1a8190d8c5d</td>\n",
       "    </tr>\n",
       "    <tr>\n",
       "      <th>5</th>\n",
       "      <td>bar Espresso</td>\n",
       "      <td>Coffee Shop</td>\n",
       "      <td>NaN</td>\n",
       "      <td>31.617661</td>\n",
       "      <td>-7.990750</td>\n",
       "      <td>[{'label': 'display', 'lat': 31.617661, 'lng':...</td>\n",
       "      <td>921</td>\n",
       "      <td>NaN</td>\n",
       "      <td>MA</td>\n",
       "      <td>NaN</td>\n",
       "      <td>NaN</td>\n",
       "      <td>المغرب</td>\n",
       "      <td>[المغرب]</td>\n",
       "      <td>NaN</td>\n",
       "      <td>56e6eb46498e7abdb27bd5f3</td>\n",
       "    </tr>\n",
       "    <tr>\n",
       "      <th>6</th>\n",
       "      <td>Bar Er Rachidia, Marrakech</td>\n",
       "      <td>None</td>\n",
       "      <td>NaN</td>\n",
       "      <td>31.620985</td>\n",
       "      <td>-7.996982</td>\n",
       "      <td>[{'label': 'display', 'lat': 31.62098524970677...</td>\n",
       "      <td>916</td>\n",
       "      <td>NaN</td>\n",
       "      <td>MA</td>\n",
       "      <td>NaN</td>\n",
       "      <td>NaN</td>\n",
       "      <td>المغرب</td>\n",
       "      <td>[المغرب]</td>\n",
       "      <td>NaN</td>\n",
       "      <td>5167d2b0e4b0164b287dcb08</td>\n",
       "    </tr>\n",
       "    <tr>\n",
       "      <th>7</th>\n",
       "      <td>Le Bar Churchill</td>\n",
       "      <td>Hotel Bar</td>\n",
       "      <td>1 Avenue Bab Jdid</td>\n",
       "      <td>31.621149</td>\n",
       "      <td>-7.997439</td>\n",
       "      <td>[{'label': 'display', 'lat': 31.62114881628706...</td>\n",
       "      <td>941</td>\n",
       "      <td>NaN</td>\n",
       "      <td>MA</td>\n",
       "      <td>مراكش</td>\n",
       "      <td>Marrakech-Tensift-Al Haouz</td>\n",
       "      <td>المغرب</td>\n",
       "      <td>[1 Avenue Bab Jdid, مراكش, المغرب]</td>\n",
       "      <td>NaN</td>\n",
       "      <td>4f10af384fc64b8694d4ae82</td>\n",
       "    </tr>\n",
       "    <tr>\n",
       "      <th>8</th>\n",
       "      <td>Jazz Bar</td>\n",
       "      <td>Bar</td>\n",
       "      <td>NaN</td>\n",
       "      <td>31.630658</td>\n",
       "      <td>-7.996085</td>\n",
       "      <td>[{'label': 'display', 'lat': 31.630658, 'lng':...</td>\n",
       "      <td>848</td>\n",
       "      <td>40000</td>\n",
       "      <td>MA</td>\n",
       "      <td>Marrakech Médina</td>\n",
       "      <td>Marrakech-Tensift-Al Haouz</td>\n",
       "      <td>المغرب</td>\n",
       "      <td>[40000 Marrakech Médina, المغرب]</td>\n",
       "      <td>NaN</td>\n",
       "      <td>5b5b82d095d986002c873cd1</td>\n",
       "    </tr>\n",
       "    <tr>\n",
       "      <th>9</th>\n",
       "      <td>Ali's bar</td>\n",
       "      <td>Bar</td>\n",
       "      <td>NaN</td>\n",
       "      <td>31.633515</td>\n",
       "      <td>-7.995585</td>\n",
       "      <td>[{'label': 'display', 'lat': 31.633515, 'lng':...</td>\n",
       "      <td>1050</td>\n",
       "      <td>NaN</td>\n",
       "      <td>MA</td>\n",
       "      <td>NaN</td>\n",
       "      <td>NaN</td>\n",
       "      <td>المغرب</td>\n",
       "      <td>[المغرب]</td>\n",
       "      <td>NaN</td>\n",
       "      <td>5706d523498e3700fcb25fb1</td>\n",
       "    </tr>\n",
       "    <tr>\n",
       "      <th>10</th>\n",
       "      <td>Le Pacha Bar</td>\n",
       "      <td>Lounge</td>\n",
       "      <td>Club Med Marrakech La Palmeraie</td>\n",
       "      <td>31.660033</td>\n",
       "      <td>-7.979095</td>\n",
       "      <td>[{'label': 'display', 'lat': 31.66003286930464...</td>\n",
       "      <td>3925</td>\n",
       "      <td>NaN</td>\n",
       "      <td>MA</td>\n",
       "      <td>مراكش</td>\n",
       "      <td>Marrakech-Tensift-Al Haouz</td>\n",
       "      <td>المغرب</td>\n",
       "      <td>[Club Med Marrakech La Palmeraie, مراكش, المغرب]</td>\n",
       "      <td>NaN</td>\n",
       "      <td>4eb2da892c5b5915ce1b22b2</td>\n",
       "    </tr>\n",
       "    <tr>\n",
       "      <th>11</th>\n",
       "      <td>Chesterfield british bar</td>\n",
       "      <td>Pub</td>\n",
       "      <td>Avenue Med V Hotel Nassim</td>\n",
       "      <td>31.627418</td>\n",
       "      <td>-8.001444</td>\n",
       "      <td>[{'label': 'display', 'lat': 31.62741805464094...</td>\n",
       "      <td>1177</td>\n",
       "      <td>40000</td>\n",
       "      <td>MA</td>\n",
       "      <td>مراكش</td>\n",
       "      <td>Marrakech-Tensift-Al Haouz</td>\n",
       "      <td>المغرب</td>\n",
       "      <td>[Avenue Med V Hotel Nassim, 40000 مراكش, المغرب]</td>\n",
       "      <td>NaN</td>\n",
       "      <td>4f134f57e4b00420564f1e51</td>\n",
       "    </tr>\n",
       "    <tr>\n",
       "      <th>12</th>\n",
       "      <td>Bar Golden Tulip Hotel</td>\n",
       "      <td>Cocktail Bar</td>\n",
       "      <td>NaN</td>\n",
       "      <td>31.623751</td>\n",
       "      <td>-8.007504</td>\n",
       "      <td>[{'label': 'display', 'lat': 31.623751, 'lng':...</td>\n",
       "      <td>1753</td>\n",
       "      <td>NaN</td>\n",
       "      <td>MA</td>\n",
       "      <td>NaN</td>\n",
       "      <td>NaN</td>\n",
       "      <td>المغرب</td>\n",
       "      <td>[المغرب]</td>\n",
       "      <td>NaN</td>\n",
       "      <td>55808853498e4569e100e799</td>\n",
       "    </tr>\n",
       "    <tr>\n",
       "      <th>13</th>\n",
       "      <td>Bar Ichbilia</td>\n",
       "      <td>Bar</td>\n",
       "      <td>NaN</td>\n",
       "      <td>31.620905</td>\n",
       "      <td>-8.007103</td>\n",
       "      <td>[{'label': 'display', 'lat': 31.62090492248535...</td>\n",
       "      <td>1786</td>\n",
       "      <td>NaN</td>\n",
       "      <td>MA</td>\n",
       "      <td>NaN</td>\n",
       "      <td>NaN</td>\n",
       "      <td>المغرب</td>\n",
       "      <td>[المغرب]</td>\n",
       "      <td>NaN</td>\n",
       "      <td>549c85e9498e7529d1d1cf74</td>\n",
       "    </tr>\n",
       "    <tr>\n",
       "      <th>14</th>\n",
       "      <td>Bar At El Andelusia</td>\n",
       "      <td>Cocktail Bar</td>\n",
       "      <td>NaN</td>\n",
       "      <td>31.620885</td>\n",
       "      <td>-8.007391</td>\n",
       "      <td>[{'label': 'display', 'lat': 31.62088541948800...</td>\n",
       "      <td>1813</td>\n",
       "      <td>NaN</td>\n",
       "      <td>MA</td>\n",
       "      <td>NaN</td>\n",
       "      <td>NaN</td>\n",
       "      <td>المغرب</td>\n",
       "      <td>[المغرب]</td>\n",
       "      <td>NaN</td>\n",
       "      <td>4f8b43b3e4b09582a4070668</td>\n",
       "    </tr>\n",
       "    <tr>\n",
       "      <th>15</th>\n",
       "      <td>MySky Bar</td>\n",
       "      <td>Cocktail Bar</td>\n",
       "      <td>Hotel Hivernage &amp; Spa - Rue des Temples</td>\n",
       "      <td>31.622259</td>\n",
       "      <td>-8.001172</td>\n",
       "      <td>[{'label': 'display', 'lat': 31.62225922207963...</td>\n",
       "      <td>1205</td>\n",
       "      <td>40000</td>\n",
       "      <td>MA</td>\n",
       "      <td>Marrakesh</td>\n",
       "      <td>Marrakech-Tensift-El Haouz</td>\n",
       "      <td>المغرب</td>\n",
       "      <td>[Hotel Hivernage &amp; Spa - Rue des Temples (Aven...</td>\n",
       "      <td>Avenue Echouhada</td>\n",
       "      <td>4e502dd0483bb770491af853</td>\n",
       "    </tr>\n",
       "    <tr>\n",
       "      <th>16</th>\n",
       "      <td>Pool Bar Rui Tikida Palmeraie</td>\n",
       "      <td>Hotel Bar</td>\n",
       "      <td>NaN</td>\n",
       "      <td>31.650180</td>\n",
       "      <td>-7.936907</td>\n",
       "      <td>[{'label': 'display', 'lat': 31.65018036587703...</td>\n",
       "      <td>5645</td>\n",
       "      <td>NaN</td>\n",
       "      <td>MA</td>\n",
       "      <td>NaN</td>\n",
       "      <td>NaN</td>\n",
       "      <td>المغرب</td>\n",
       "      <td>[المغرب]</td>\n",
       "      <td>NaN</td>\n",
       "      <td>56d45c4fcd102896b4ff9c86</td>\n",
       "    </tr>\n",
       "    <tr>\n",
       "      <th>17</th>\n",
       "      <td>Bar Piscine</td>\n",
       "      <td>Beach Bar</td>\n",
       "      <td>Le Meridien N'fis</td>\n",
       "      <td>31.618682</td>\n",
       "      <td>-8.008318</td>\n",
       "      <td>[{'label': 'display', 'lat': 31.61868246197472...</td>\n",
       "      <td>1982</td>\n",
       "      <td>NaN</td>\n",
       "      <td>MA</td>\n",
       "      <td>NaN</td>\n",
       "      <td>NaN</td>\n",
       "      <td>المغرب</td>\n",
       "      <td>[Le Meridien N'fis, المغرب]</td>\n",
       "      <td>NaN</td>\n",
       "      <td>561a242e498ebf51a82230a2</td>\n",
       "    </tr>\n",
       "    <tr>\n",
       "      <th>18</th>\n",
       "      <td>Coffee Bar Riu Tikida Palmeraie</td>\n",
       "      <td>Coffee Shop</td>\n",
       "      <td>NaN</td>\n",
       "      <td>31.649004</td>\n",
       "      <td>-7.936199</td>\n",
       "      <td>[{'label': 'display', 'lat': 31.649004, 'lng':...</td>\n",
       "      <td>5643</td>\n",
       "      <td>NaN</td>\n",
       "      <td>MA</td>\n",
       "      <td>مراكش</td>\n",
       "      <td>Marrakech-Tensift-Al Haouz</td>\n",
       "      <td>المغرب</td>\n",
       "      <td>[مراكش, المغرب]</td>\n",
       "      <td>NaN</td>\n",
       "      <td>56d88d26cd10bf4b6870892e</td>\n",
       "    </tr>\n",
       "    <tr>\n",
       "      <th>19</th>\n",
       "      <td>dellarosa pool &amp; bar</td>\n",
       "      <td>Pool</td>\n",
       "      <td>NaN</td>\n",
       "      <td>31.628342</td>\n",
       "      <td>-8.006363</td>\n",
       "      <td>[{'label': 'display', 'lat': 31.62834198322063...</td>\n",
       "      <td>1654</td>\n",
       "      <td>NaN</td>\n",
       "      <td>MA</td>\n",
       "      <td>NaN</td>\n",
       "      <td>NaN</td>\n",
       "      <td>المغرب</td>\n",
       "      <td>[المغرب]</td>\n",
       "      <td>NaN</td>\n",
       "      <td>534d097e11d22cce1c40caaa</td>\n",
       "    </tr>\n",
       "    <tr>\n",
       "      <th>20</th>\n",
       "      <td>Le Bar</td>\n",
       "      <td>Bar</td>\n",
       "      <td>زنقة ليبيا</td>\n",
       "      <td>31.632139</td>\n",
       "      <td>-8.010264</td>\n",
       "      <td>[{'label': 'display', 'lat': 31.632139, 'lng':...</td>\n",
       "      <td>2120</td>\n",
       "      <td>40000</td>\n",
       "      <td>MA</td>\n",
       "      <td>Gueliz</td>\n",
       "      <td>مراكش-تانسيفت-الحوز</td>\n",
       "      <td>المغرب</td>\n",
       "      <td>[زنقة ليبيا, 40000 Gueliz, المغرب]</td>\n",
       "      <td>NaN</td>\n",
       "      <td>5e20b5f35a315300089c6a62</td>\n",
       "    </tr>\n",
       "    <tr>\n",
       "      <th>21</th>\n",
       "      <td>Bar l'Éscale</td>\n",
       "      <td>Bar</td>\n",
       "      <td>NaN</td>\n",
       "      <td>31.634003</td>\n",
       "      <td>-8.011235</td>\n",
       "      <td>[{'label': 'display', 'lat': 31.63400334063268...</td>\n",
       "      <td>2281</td>\n",
       "      <td>NaN</td>\n",
       "      <td>MA</td>\n",
       "      <td>NaN</td>\n",
       "      <td>NaN</td>\n",
       "      <td>المغرب</td>\n",
       "      <td>[المغرب]</td>\n",
       "      <td>NaN</td>\n",
       "      <td>4fafe75ee4b06952dfff9032</td>\n",
       "    </tr>\n",
       "    <tr>\n",
       "      <th>22</th>\n",
       "      <td>Piano Bar</td>\n",
       "      <td>Cocktail Bar</td>\n",
       "      <td>NaN</td>\n",
       "      <td>31.620577</td>\n",
       "      <td>-8.004955</td>\n",
       "      <td>[{'label': 'display', 'lat': 31.620577, 'lng':...</td>\n",
       "      <td>1607</td>\n",
       "      <td>NaN</td>\n",
       "      <td>MA</td>\n",
       "      <td>NaN</td>\n",
       "      <td>NaN</td>\n",
       "      <td>المغرب</td>\n",
       "      <td>[المغرب]</td>\n",
       "      <td>NaN</td>\n",
       "      <td>503926f5e4b0824d0b173038</td>\n",
       "    </tr>\n",
       "    <tr>\n",
       "      <th>23</th>\n",
       "      <td>Al Baraka</td>\n",
       "      <td>Moroccan Restaurant</td>\n",
       "      <td>1 Place Jamâa El Fna</td>\n",
       "      <td>31.626060</td>\n",
       "      <td>-7.990418</td>\n",
       "      <td>[{'label': 'display', 'lat': 31.62605991195725...</td>\n",
       "      <td>122</td>\n",
       "      <td>NaN</td>\n",
       "      <td>MA</td>\n",
       "      <td>Marrakesh</td>\n",
       "      <td>Marrakech-Tensift-El Haouz</td>\n",
       "      <td>المغرب</td>\n",
       "      <td>[1 Place Jamâa El Fna, Marrakesh, المغرب]</td>\n",
       "      <td>NaN</td>\n",
       "      <td>4dc47274c65b89d3ca55147a</td>\n",
       "    </tr>\n",
       "    <tr>\n",
       "      <th>24</th>\n",
       "      <td>Nail Bar Studio</td>\n",
       "      <td>Nail Salon</td>\n",
       "      <td>NaN</td>\n",
       "      <td>31.628307</td>\n",
       "      <td>-8.007412</td>\n",
       "      <td>[{'label': 'display', 'lat': 31.628307, 'lng':...</td>\n",
       "      <td>1751</td>\n",
       "      <td>NaN</td>\n",
       "      <td>MA</td>\n",
       "      <td>NaN</td>\n",
       "      <td>NaN</td>\n",
       "      <td>المغرب</td>\n",
       "      <td>[المغرب]</td>\n",
       "      <td>NaN</td>\n",
       "      <td>528ccbd111d25e0b6a46289b</td>\n",
       "    </tr>\n",
       "    <tr>\n",
       "      <th>25</th>\n",
       "      <td>lobby bar kenzy farah</td>\n",
       "      <td>Resort</td>\n",
       "      <td>NaN</td>\n",
       "      <td>31.622540</td>\n",
       "      <td>-8.006220</td>\n",
       "      <td>[{'label': 'display', 'lat': 31.62254, 'lng': ...</td>\n",
       "      <td>1657</td>\n",
       "      <td>NaN</td>\n",
       "      <td>MA</td>\n",
       "      <td>NaN</td>\n",
       "      <td>NaN</td>\n",
       "      <td>المغرب</td>\n",
       "      <td>[المغرب]</td>\n",
       "      <td>NaN</td>\n",
       "      <td>52c49cad11d212c578d2ee00</td>\n",
       "    </tr>\n",
       "    <tr>\n",
       "      <th>26</th>\n",
       "      <td>Bar Yacout</td>\n",
       "      <td>Bar</td>\n",
       "      <td>NaN</td>\n",
       "      <td>31.631675</td>\n",
       "      <td>-8.013158</td>\n",
       "      <td>[{'label': 'display', 'lat': 31.63167450023348...</td>\n",
       "      <td>2365</td>\n",
       "      <td>NaN</td>\n",
       "      <td>MA</td>\n",
       "      <td>NaN</td>\n",
       "      <td>NaN</td>\n",
       "      <td>المغرب</td>\n",
       "      <td>[المغرب]</td>\n",
       "      <td>NaN</td>\n",
       "      <td>54b6acb8498e471a773542a0</td>\n",
       "    </tr>\n",
       "    <tr>\n",
       "      <th>27</th>\n",
       "      <td>Lola skylounge &amp; pool bar</td>\n",
       "      <td>Bar</td>\n",
       "      <td>NaN</td>\n",
       "      <td>31.629269</td>\n",
       "      <td>-8.008035</td>\n",
       "      <td>[{'label': 'display', 'lat': 31.629269, 'lng':...</td>\n",
       "      <td>1829</td>\n",
       "      <td>40000</td>\n",
       "      <td>MA</td>\n",
       "      <td>Gueliz</td>\n",
       "      <td>Marrakech-Tensift-Al Hauz</td>\n",
       "      <td>المغرب</td>\n",
       "      <td>[40000 Gueliz, المغرب]</td>\n",
       "      <td>NaN</td>\n",
       "      <td>5a82fbff5d891b5c0bac16be</td>\n",
       "    </tr>\n",
       "    <tr>\n",
       "      <th>28</th>\n",
       "      <td>Lobby Bar at Hotel du Golf</td>\n",
       "      <td>Hotel Bar</td>\n",
       "      <td>NaN</td>\n",
       "      <td>31.686471</td>\n",
       "      <td>-7.974005</td>\n",
       "      <td>[{'label': 'display', 'lat': 31.686471, 'lng':...</td>\n",
       "      <td>6902</td>\n",
       "      <td>40000</td>\n",
       "      <td>MA</td>\n",
       "      <td>مراكش</td>\n",
       "      <td>Marrakech-Tensift-Al Haouz</td>\n",
       "      <td>المغرب</td>\n",
       "      <td>[40000 مراكش, المغرب]</td>\n",
       "      <td>NaN</td>\n",
       "      <td>59c928eebe707846879faf22</td>\n",
       "    </tr>\n",
       "    <tr>\n",
       "      <th>29</th>\n",
       "      <td>Chili's Grill &amp; Bar</td>\n",
       "      <td>Tex-Mex Restaurant</td>\n",
       "      <td>NaN</td>\n",
       "      <td>31.619072</td>\n",
       "      <td>-8.009296</td>\n",
       "      <td>[{'label': 'display', 'lat': 31.61907227732898...</td>\n",
       "      <td>2051</td>\n",
       "      <td>40000</td>\n",
       "      <td>MA</td>\n",
       "      <td>Marrakech</td>\n",
       "      <td>مراكش-تانسيفت-الحوز</td>\n",
       "      <td>المغرب</td>\n",
       "      <td>[40000 Marrakech, المغرب]</td>\n",
       "      <td>NaN</td>\n",
       "      <td>58fe6f91a8792113c6393445</td>\n",
       "    </tr>\n",
       "  </tbody>\n",
       "</table>\n",
       "</div>"
      ],
      "text/plain": [
       "                                                 name           categories  \\\n",
       "0   Inara Bar and Lounge at Four Seasons Resort Ma...               Lounge   \n",
       "1                                              Le Bar            Hotel Bar   \n",
       "2                   Lawrence Bar at Sofitel Marrakech                 None   \n",
       "3                                          Nuphar bar            Hotel Bar   \n",
       "4              Le bar Italien - La Mamounia Marrakech         Cocktail Bar   \n",
       "5                                        bar Espresso          Coffee Shop   \n",
       "6                          Bar Er Rachidia, Marrakech                 None   \n",
       "7                                    Le Bar Churchill            Hotel Bar   \n",
       "8                                            Jazz Bar                  Bar   \n",
       "9                                           Ali's bar                  Bar   \n",
       "10                                       Le Pacha Bar               Lounge   \n",
       "11                           Chesterfield british bar                  Pub   \n",
       "12                             Bar Golden Tulip Hotel         Cocktail Bar   \n",
       "13                                       Bar Ichbilia                  Bar   \n",
       "14                                Bar At El Andelusia         Cocktail Bar   \n",
       "15                                          MySky Bar         Cocktail Bar   \n",
       "16                      Pool Bar Rui Tikida Palmeraie            Hotel Bar   \n",
       "17                                        Bar Piscine            Beach Bar   \n",
       "18                    Coffee Bar Riu Tikida Palmeraie          Coffee Shop   \n",
       "19                               dellarosa pool & bar                 Pool   \n",
       "20                                             Le Bar                  Bar   \n",
       "21                                       Bar l'Éscale                  Bar   \n",
       "22                                          Piano Bar         Cocktail Bar   \n",
       "23                                          Al Baraka  Moroccan Restaurant   \n",
       "24                                    Nail Bar Studio           Nail Salon   \n",
       "25                              lobby bar kenzy farah               Resort   \n",
       "26                                         Bar Yacout                  Bar   \n",
       "27                          Lola skylounge & pool bar                  Bar   \n",
       "28                         Lobby Bar at Hotel du Golf            Hotel Bar   \n",
       "29                                Chili's Grill & Bar   Tex-Mex Restaurant   \n",
       "\n",
       "                                          address        lat       lng  \\\n",
       "0                        1 Boulevard de la Menara  31.621667 -7.984400   \n",
       "1                                             NaN  31.625750 -7.998657   \n",
       "2   Rue Harroun Errachid, Quartier de L'Hivernage  31.621408 -8.002334   \n",
       "3                               rue Djbel Lakhder  31.628368 -7.994823   \n",
       "4                               1 Avenue Bab Jdid  31.620873 -7.997202   \n",
       "5                                             NaN  31.617661 -7.990750   \n",
       "6                                             NaN  31.620985 -7.996982   \n",
       "7                               1 Avenue Bab Jdid  31.621149 -7.997439   \n",
       "8                                             NaN  31.630658 -7.996085   \n",
       "9                                             NaN  31.633515 -7.995585   \n",
       "10                Club Med Marrakech La Palmeraie  31.660033 -7.979095   \n",
       "11                      Avenue Med V Hotel Nassim  31.627418 -8.001444   \n",
       "12                                            NaN  31.623751 -8.007504   \n",
       "13                                            NaN  31.620905 -8.007103   \n",
       "14                                            NaN  31.620885 -8.007391   \n",
       "15        Hotel Hivernage & Spa - Rue des Temples  31.622259 -8.001172   \n",
       "16                                            NaN  31.650180 -7.936907   \n",
       "17                              Le Meridien N'fis  31.618682 -8.008318   \n",
       "18                                            NaN  31.649004 -7.936199   \n",
       "19                                            NaN  31.628342 -8.006363   \n",
       "20                                     زنقة ليبيا  31.632139 -8.010264   \n",
       "21                                            NaN  31.634003 -8.011235   \n",
       "22                                            NaN  31.620577 -8.004955   \n",
       "23                           1 Place Jamâa El Fna  31.626060 -7.990418   \n",
       "24                                            NaN  31.628307 -8.007412   \n",
       "25                                            NaN  31.622540 -8.006220   \n",
       "26                                            NaN  31.631675 -8.013158   \n",
       "27                                            NaN  31.629269 -8.008035   \n",
       "28                                            NaN  31.686471 -7.974005   \n",
       "29                                            NaN  31.619072 -8.009296   \n",
       "\n",
       "                                       labeledLatLngs  distance postalCode  \\\n",
       "0   [{'label': 'display', 'lat': 31.62166692022819...       646      40000   \n",
       "1   [{'label': 'display', 'lat': 31.62575, 'lng': ...       900      40000   \n",
       "2   [{'label': 'display', 'lat': 31.62140831776903...      1342        NaN   \n",
       "3   [{'label': 'display', 'lat': 31.628368, 'lng':...       606      40000   \n",
       "4   [{'label': 'display', 'lat': 31.62087309937967...       940      40000   \n",
       "5   [{'label': 'display', 'lat': 31.617661, 'lng':...       921        NaN   \n",
       "6   [{'label': 'display', 'lat': 31.62098524970677...       916        NaN   \n",
       "7   [{'label': 'display', 'lat': 31.62114881628706...       941        NaN   \n",
       "8   [{'label': 'display', 'lat': 31.630658, 'lng':...       848      40000   \n",
       "9   [{'label': 'display', 'lat': 31.633515, 'lng':...      1050        NaN   \n",
       "10  [{'label': 'display', 'lat': 31.66003286930464...      3925        NaN   \n",
       "11  [{'label': 'display', 'lat': 31.62741805464094...      1177      40000   \n",
       "12  [{'label': 'display', 'lat': 31.623751, 'lng':...      1753        NaN   \n",
       "13  [{'label': 'display', 'lat': 31.62090492248535...      1786        NaN   \n",
       "14  [{'label': 'display', 'lat': 31.62088541948800...      1813        NaN   \n",
       "15  [{'label': 'display', 'lat': 31.62225922207963...      1205      40000   \n",
       "16  [{'label': 'display', 'lat': 31.65018036587703...      5645        NaN   \n",
       "17  [{'label': 'display', 'lat': 31.61868246197472...      1982        NaN   \n",
       "18  [{'label': 'display', 'lat': 31.649004, 'lng':...      5643        NaN   \n",
       "19  [{'label': 'display', 'lat': 31.62834198322063...      1654        NaN   \n",
       "20  [{'label': 'display', 'lat': 31.632139, 'lng':...      2120      40000   \n",
       "21  [{'label': 'display', 'lat': 31.63400334063268...      2281        NaN   \n",
       "22  [{'label': 'display', 'lat': 31.620577, 'lng':...      1607        NaN   \n",
       "23  [{'label': 'display', 'lat': 31.62605991195725...       122        NaN   \n",
       "24  [{'label': 'display', 'lat': 31.628307, 'lng':...      1751        NaN   \n",
       "25  [{'label': 'display', 'lat': 31.62254, 'lng': ...      1657        NaN   \n",
       "26  [{'label': 'display', 'lat': 31.63167450023348...      2365        NaN   \n",
       "27  [{'label': 'display', 'lat': 31.629269, 'lng':...      1829      40000   \n",
       "28  [{'label': 'display', 'lat': 31.686471, 'lng':...      6902      40000   \n",
       "29  [{'label': 'display', 'lat': 31.61907227732898...      2051      40000   \n",
       "\n",
       "    cc              city                       state country  \\\n",
       "0   MA             مراكش  Marrakech-Tensift-Al Haouz  المغرب   \n",
       "1   MA  Marrakech Médina  Marrakech-Tensift-Al Haouz  المغرب   \n",
       "2   MA   40000 Marrakech             40000 Marrakech  المغرب   \n",
       "3   MA             مراكش  Marrakech-Tensift-Al Haouz  المغرب   \n",
       "4   MA             مراكش  Marrakech-Tensift-Al Haouz  المغرب   \n",
       "5   MA               NaN                         NaN  المغرب   \n",
       "6   MA               NaN                         NaN  المغرب   \n",
       "7   MA             مراكش  Marrakech-Tensift-Al Haouz  المغرب   \n",
       "8   MA  Marrakech Médina  Marrakech-Tensift-Al Haouz  المغرب   \n",
       "9   MA               NaN                         NaN  المغرب   \n",
       "10  MA             مراكش  Marrakech-Tensift-Al Haouz  المغرب   \n",
       "11  MA             مراكش  Marrakech-Tensift-Al Haouz  المغرب   \n",
       "12  MA               NaN                         NaN  المغرب   \n",
       "13  MA               NaN                         NaN  المغرب   \n",
       "14  MA               NaN                         NaN  المغرب   \n",
       "15  MA         Marrakesh  Marrakech-Tensift-El Haouz  المغرب   \n",
       "16  MA               NaN                         NaN  المغرب   \n",
       "17  MA               NaN                         NaN  المغرب   \n",
       "18  MA             مراكش  Marrakech-Tensift-Al Haouz  المغرب   \n",
       "19  MA               NaN                         NaN  المغرب   \n",
       "20  MA            Gueliz         مراكش-تانسيفت-الحوز  المغرب   \n",
       "21  MA               NaN                         NaN  المغرب   \n",
       "22  MA               NaN                         NaN  المغرب   \n",
       "23  MA         Marrakesh  Marrakech-Tensift-El Haouz  المغرب   \n",
       "24  MA               NaN                         NaN  المغرب   \n",
       "25  MA               NaN                         NaN  المغرب   \n",
       "26  MA               NaN                         NaN  المغرب   \n",
       "27  MA            Gueliz   Marrakech-Tensift-Al Hauz  المغرب   \n",
       "28  MA             مراكش  Marrakech-Tensift-Al Haouz  المغرب   \n",
       "29  MA         Marrakech         مراكش-تانسيفت-الحوز  المغرب   \n",
       "\n",
       "                                     formattedAddress       crossStreet  \\\n",
       "0     [1 Boulevard de la Menara, 40000 مراكش, المغرب]               NaN   \n",
       "1                    [40000 Marrakech Médina, المغرب]               NaN   \n",
       "2   [Rue Harroun Errachid, Quartier de L'Hivernage...               NaN   \n",
       "3   [rue Djbel Lakhder (Bab Doukkala), 40000 مراكش...      Bab Doukkala   \n",
       "4            [1 Avenue Bab Jdid, 40000 مراكش, المغرب]               NaN   \n",
       "5                                            [المغرب]               NaN   \n",
       "6                                            [المغرب]               NaN   \n",
       "7                  [1 Avenue Bab Jdid, مراكش, المغرب]               NaN   \n",
       "8                    [40000 Marrakech Médina, المغرب]               NaN   \n",
       "9                                            [المغرب]               NaN   \n",
       "10   [Club Med Marrakech La Palmeraie, مراكش, المغرب]               NaN   \n",
       "11   [Avenue Med V Hotel Nassim, 40000 مراكش, المغرب]               NaN   \n",
       "12                                           [المغرب]               NaN   \n",
       "13                                           [المغرب]               NaN   \n",
       "14                                           [المغرب]               NaN   \n",
       "15  [Hotel Hivernage & Spa - Rue des Temples (Aven...  Avenue Echouhada   \n",
       "16                                           [المغرب]               NaN   \n",
       "17                        [Le Meridien N'fis, المغرب]               NaN   \n",
       "18                                    [مراكش, المغرب]               NaN   \n",
       "19                                           [المغرب]               NaN   \n",
       "20                 [زنقة ليبيا, 40000 Gueliz, المغرب]               NaN   \n",
       "21                                           [المغرب]               NaN   \n",
       "22                                           [المغرب]               NaN   \n",
       "23          [1 Place Jamâa El Fna, Marrakesh, المغرب]               NaN   \n",
       "24                                           [المغرب]               NaN   \n",
       "25                                           [المغرب]               NaN   \n",
       "26                                           [المغرب]               NaN   \n",
       "27                             [40000 Gueliz, المغرب]               NaN   \n",
       "28                              [40000 مراكش, المغرب]               NaN   \n",
       "29                          [40000 Marrakech, المغرب]               NaN   \n",
       "\n",
       "                          id  \n",
       "0   4e42ea831fc78b855c199b61  \n",
       "1   5a243af8b37e2b5bbfd62cc3  \n",
       "2   4e5e9cf262e121012040f109  \n",
       "3   51e07588498e838526a55355  \n",
       "4   4f2db27ee4b0c1a8190d8c5d  \n",
       "5   56e6eb46498e7abdb27bd5f3  \n",
       "6   5167d2b0e4b0164b287dcb08  \n",
       "7   4f10af384fc64b8694d4ae82  \n",
       "8   5b5b82d095d986002c873cd1  \n",
       "9   5706d523498e3700fcb25fb1  \n",
       "10  4eb2da892c5b5915ce1b22b2  \n",
       "11  4f134f57e4b00420564f1e51  \n",
       "12  55808853498e4569e100e799  \n",
       "13  549c85e9498e7529d1d1cf74  \n",
       "14  4f8b43b3e4b09582a4070668  \n",
       "15  4e502dd0483bb770491af853  \n",
       "16  56d45c4fcd102896b4ff9c86  \n",
       "17  561a242e498ebf51a82230a2  \n",
       "18  56d88d26cd10bf4b6870892e  \n",
       "19  534d097e11d22cce1c40caaa  \n",
       "20  5e20b5f35a315300089c6a62  \n",
       "21  4fafe75ee4b06952dfff9032  \n",
       "22  503926f5e4b0824d0b173038  \n",
       "23  4dc47274c65b89d3ca55147a  \n",
       "24  528ccbd111d25e0b6a46289b  \n",
       "25  52c49cad11d212c578d2ee00  \n",
       "26  54b6acb8498e471a773542a0  \n",
       "27  5a82fbff5d891b5c0bac16be  \n",
       "28  59c928eebe707846879faf22  \n",
       "29  58fe6f91a8792113c6393445  "
      ]
     },
     "execution_count": 23,
     "metadata": {},
     "output_type": "execute_result"
    }
   ],
   "source": [
    "# keep only columns that include venue name, and anything that is associated with location\n",
    "filtered_columns = ['name', 'categories'] + [col for col in dataframe.columns if col.startswith('location.')] + ['id']\n",
    "dataframe_filtered = dataframe.loc[:, filtered_columns]\n",
    "\n",
    "# function that extracts the category of the venue\n",
    "def get_category_type(row):\n",
    "    try:\n",
    "        categories_list = row['categories']\n",
    "    except:\n",
    "        categories_list = row['venue.categories']\n",
    "        \n",
    "    if len(categories_list) == 0:\n",
    "        return None\n",
    "    else:\n",
    "        return categories_list[0]['name']\n",
    "\n",
    "# filter the category for each row\n",
    "dataframe_filtered['categories'] = dataframe_filtered.apply(get_category_type, axis=1)\n",
    "\n",
    "# clean column names by keeping only last term\n",
    "dataframe_filtered.columns = [column.split('.')[-1] for column in dataframe_filtered.columns]\n",
    "\n",
    "dataframe_filtered"
   ]
  },
  {
   "cell_type": "markdown",
   "metadata": {
    "button": false,
    "new_sheet": false,
    "run_control": {
     "read_only": false
    }
   },
   "source": [
    "#### Let's visualize the results that are nearby\n"
   ]
  },
  {
   "cell_type": "code",
   "execution_count": 32,
   "metadata": {
    "button": false,
    "jupyter": {
     "outputs_hidden": false
    },
    "new_sheet": false,
    "run_control": {
     "read_only": false
    }
   },
   "outputs": [
    {
     "data": {
      "text/plain": [
       "0     Inara Bar and Lounge at Four Seasons Resort Ma...\n",
       "1                                                Le Bar\n",
       "2                     Lawrence Bar at Sofitel Marrakech\n",
       "3                                            Nuphar bar\n",
       "4                Le bar Italien - La Mamounia Marrakech\n",
       "5                                          bar Espresso\n",
       "6                            Bar Er Rachidia, Marrakech\n",
       "7                                      Le Bar Churchill\n",
       "8                                              Jazz Bar\n",
       "9                                             Ali's bar\n",
       "10                                         Le Pacha Bar\n",
       "11                             Chesterfield british bar\n",
       "12                               Bar Golden Tulip Hotel\n",
       "13                                         Bar Ichbilia\n",
       "14                                  Bar At El Andelusia\n",
       "15                                            MySky Bar\n",
       "16                        Pool Bar Rui Tikida Palmeraie\n",
       "17                                          Bar Piscine\n",
       "18                      Coffee Bar Riu Tikida Palmeraie\n",
       "19                                 dellarosa pool & bar\n",
       "20                                               Le Bar\n",
       "21                                         Bar l'Éscale\n",
       "22                                            Piano Bar\n",
       "23                                            Al Baraka\n",
       "24                                      Nail Bar Studio\n",
       "25                                lobby bar kenzy farah\n",
       "26                                           Bar Yacout\n",
       "27                            Lola skylounge & pool bar\n",
       "28                           Lobby Bar at Hotel du Golf\n",
       "29                                  Chili's Grill & Bar\n",
       "Name: name, dtype: object"
      ]
     },
     "execution_count": 32,
     "metadata": {},
     "output_type": "execute_result"
    }
   ],
   "source": [
    "dataframe_filtered.name"
   ]
  },
  {
   "cell_type": "code",
   "execution_count": 27,
   "metadata": {
    "button": false,
    "jupyter": {
     "outputs_hidden": false
    },
    "new_sheet": false,
    "run_control": {
     "read_only": false
    },
    "scrolled": true
   },
   "outputs": [
    {
     "data": {
      "text/html": [
       "<div style=\"width:100%;\"><div style=\"position:relative;width:100%;height:0;padding-bottom:60%;\"><span style=\"color:#565656\">Make this Notebook Trusted to load map: File -> Trust Notebook</span><iframe src=\"about:blank\" style=\"position:absolute;width:100%;height:100%;left:0;top:0;border:none !important;\" data-html=PCFET0NUWVBFIGh0bWw+CjxoZWFkPiAgICAKICAgIDxtZXRhIGh0dHAtZXF1aXY9ImNvbnRlbnQtdHlwZSIgY29udGVudD0idGV4dC9odG1sOyBjaGFyc2V0PVVURi04IiAvPgogICAgCiAgICAgICAgPHNjcmlwdD4KICAgICAgICAgICAgTF9OT19UT1VDSCA9IGZhbHNlOwogICAgICAgICAgICBMX0RJU0FCTEVfM0QgPSBmYWxzZTsKICAgICAgICA8L3NjcmlwdD4KICAgIAogICAgPHNjcmlwdCBzcmM9Imh0dHBzOi8vY2RuLmpzZGVsaXZyLm5ldC9ucG0vbGVhZmxldEAxLjYuMC9kaXN0L2xlYWZsZXQuanMiPjwvc2NyaXB0PgogICAgPHNjcmlwdCBzcmM9Imh0dHBzOi8vY29kZS5qcXVlcnkuY29tL2pxdWVyeS0xLjEyLjQubWluLmpzIj48L3NjcmlwdD4KICAgIDxzY3JpcHQgc3JjPSJodHRwczovL21heGNkbi5ib290c3RyYXBjZG4uY29tL2Jvb3RzdHJhcC8zLjIuMC9qcy9ib290c3RyYXAubWluLmpzIj48L3NjcmlwdD4KICAgIDxzY3JpcHQgc3JjPSJodHRwczovL2NkbmpzLmNsb3VkZmxhcmUuY29tL2FqYXgvbGlicy9MZWFmbGV0LmF3ZXNvbWUtbWFya2Vycy8yLjAuMi9sZWFmbGV0LmF3ZXNvbWUtbWFya2Vycy5qcyI+PC9zY3JpcHQ+CiAgICA8bGluayByZWw9InN0eWxlc2hlZXQiIGhyZWY9Imh0dHBzOi8vY2RuLmpzZGVsaXZyLm5ldC9ucG0vbGVhZmxldEAxLjYuMC9kaXN0L2xlYWZsZXQuY3NzIi8+CiAgICA8bGluayByZWw9InN0eWxlc2hlZXQiIGhyZWY9Imh0dHBzOi8vbWF4Y2RuLmJvb3RzdHJhcGNkbi5jb20vYm9vdHN0cmFwLzMuMi4wL2Nzcy9ib290c3RyYXAubWluLmNzcyIvPgogICAgPGxpbmsgcmVsPSJzdHlsZXNoZWV0IiBocmVmPSJodHRwczovL21heGNkbi5ib290c3RyYXBjZG4uY29tL2Jvb3RzdHJhcC8zLjIuMC9jc3MvYm9vdHN0cmFwLXRoZW1lLm1pbi5jc3MiLz4KICAgIDxsaW5rIHJlbD0ic3R5bGVzaGVldCIgaHJlZj0iaHR0cHM6Ly9tYXhjZG4uYm9vdHN0cmFwY2RuLmNvbS9mb250LWF3ZXNvbWUvNC42LjMvY3NzL2ZvbnQtYXdlc29tZS5taW4uY3NzIi8+CiAgICA8bGluayByZWw9InN0eWxlc2hlZXQiIGhyZWY9Imh0dHBzOi8vY2RuanMuY2xvdWRmbGFyZS5jb20vYWpheC9saWJzL0xlYWZsZXQuYXdlc29tZS1tYXJrZXJzLzIuMC4yL2xlYWZsZXQuYXdlc29tZS1tYXJrZXJzLmNzcyIvPgogICAgPGxpbmsgcmVsPSJzdHlsZXNoZWV0IiBocmVmPSJodHRwczovL3Jhd2Nkbi5naXRoYWNrLmNvbS9weXRob24tdmlzdWFsaXphdGlvbi9mb2xpdW0vbWFzdGVyL2ZvbGl1bS90ZW1wbGF0ZXMvbGVhZmxldC5hd2Vzb21lLnJvdGF0ZS5jc3MiLz4KICAgIDxzdHlsZT5odG1sLCBib2R5IHt3aWR0aDogMTAwJTtoZWlnaHQ6IDEwMCU7bWFyZ2luOiAwO3BhZGRpbmc6IDA7fTwvc3R5bGU+CiAgICA8c3R5bGU+I21hcCB7cG9zaXRpb246YWJzb2x1dGU7dG9wOjA7Ym90dG9tOjA7cmlnaHQ6MDtsZWZ0OjA7fTwvc3R5bGU+CiAgICAKICAgICAgICAgICAgPG1ldGEgbmFtZT0idmlld3BvcnQiIGNvbnRlbnQ9IndpZHRoPWRldmljZS13aWR0aCwKICAgICAgICAgICAgICAgIGluaXRpYWwtc2NhbGU9MS4wLCBtYXhpbXVtLXNjYWxlPTEuMCwgdXNlci1zY2FsYWJsZT1ubyIgLz4KICAgICAgICAgICAgPHN0eWxlPgogICAgICAgICAgICAgICAgI21hcF81NDkzMWZlYzg3Njk0Mzk1ODk1N2E2MDQ1Nzc0ZTNhNiB7CiAgICAgICAgICAgICAgICAgICAgcG9zaXRpb246IHJlbGF0aXZlOwogICAgICAgICAgICAgICAgICAgIHdpZHRoOiAxMDAuMCU7CiAgICAgICAgICAgICAgICAgICAgaGVpZ2h0OiAxMDAuMCU7CiAgICAgICAgICAgICAgICAgICAgbGVmdDogMC4wJTsKICAgICAgICAgICAgICAgICAgICB0b3A6IDAuMCU7CiAgICAgICAgICAgICAgICB9CiAgICAgICAgICAgIDwvc3R5bGU+CiAgICAgICAgCjwvaGVhZD4KPGJvZHk+ICAgIAogICAgCiAgICAgICAgICAgIDxkaXYgY2xhc3M9ImZvbGl1bS1tYXAiIGlkPSJtYXBfNTQ5MzFmZWM4NzY5NDM5NTg5NTdhNjA0NTc3NGUzYTYiID48L2Rpdj4KICAgICAgICAKPC9ib2R5Pgo8c2NyaXB0PiAgICAKICAgIAogICAgICAgICAgICB2YXIgbWFwXzU0OTMxZmVjODc2OTQzOTU4OTU3YTYwNDU3NzRlM2E2ID0gTC5tYXAoCiAgICAgICAgICAgICAgICAibWFwXzU0OTMxZmVjODc2OTQzOTU4OTU3YTYwNDU3NzRlM2E2IiwKICAgICAgICAgICAgICAgIHsKICAgICAgICAgICAgICAgICAgICBjZW50ZXI6IFszMS42MjU4MjU3LCAtNy45ODkxNjA4XSwKICAgICAgICAgICAgICAgICAgICBjcnM6IEwuQ1JTLkVQU0czODU3LAogICAgICAgICAgICAgICAgICAgIHpvb206IDEzLAogICAgICAgICAgICAgICAgICAgIHpvb21Db250cm9sOiB0cnVlLAogICAgICAgICAgICAgICAgICAgIHByZWZlckNhbnZhczogZmFsc2UsCiAgICAgICAgICAgICAgICB9CiAgICAgICAgICAgICk7CgogICAgICAgICAgICAKCiAgICAgICAgCiAgICAKICAgICAgICAgICAgdmFyIHRpbGVfbGF5ZXJfZjQ2M2I3OGI2MDZjNDQ4NGJlMGZmMzFlYjIwNDdhMWMgPSBMLnRpbGVMYXllcigKICAgICAgICAgICAgICAgICJodHRwczovL3tzfS50aWxlLm9wZW5zdHJlZXRtYXAub3JnL3t6fS97eH0ve3l9LnBuZyIsCiAgICAgICAgICAgICAgICB7ImF0dHJpYnV0aW9uIjogIkRhdGEgYnkgXHUwMDNjYSBocmVmPVwiaHR0cDovL29wZW5zdHJlZXRtYXAub3JnXCJcdTAwM2VPcGVuU3RyZWV0TWFwXHUwMDNjL2FcdTAwM2UsIHVuZGVyIFx1MDAzY2EgaHJlZj1cImh0dHA6Ly93d3cub3BlbnN0cmVldG1hcC5vcmcvY29weXJpZ2h0XCJcdTAwM2VPRGJMXHUwMDNjL2FcdTAwM2UuIiwgImRldGVjdFJldGluYSI6IGZhbHNlLCAibWF4TmF0aXZlWm9vbSI6IDE4LCAibWF4Wm9vbSI6IDE4LCAibWluWm9vbSI6IDAsICJub1dyYXAiOiBmYWxzZSwgIm9wYWNpdHkiOiAxLCAic3ViZG9tYWlucyI6ICJhYmMiLCAidG1zIjogZmFsc2V9CiAgICAgICAgICAgICkuYWRkVG8obWFwXzU0OTMxZmVjODc2OTQzOTU4OTU3YTYwNDU3NzRlM2E2KTsKICAgICAgICAKICAgIAogICAgICAgICAgICB2YXIgY2lyY2xlX21hcmtlcl8xZTAxZmFiOWE2NDA0YmI2ODVmZjE0OTg1YTJiYjliMCA9IEwuY2lyY2xlTWFya2VyKAogICAgICAgICAgICAgICAgWzMxLjYyNTgyNTcsIC03Ljk4OTE2MDhdLAogICAgICAgICAgICAgICAgeyJidWJibGluZ01vdXNlRXZlbnRzIjogdHJ1ZSwgImNvbG9yIjogInJlZCIsICJkYXNoQXJyYXkiOiBudWxsLCAiZGFzaE9mZnNldCI6IG51bGwsICJmaWxsIjogdHJ1ZSwgImZpbGxDb2xvciI6ICJyZWQiLCAiZmlsbE9wYWNpdHkiOiAwLjYsICJmaWxsUnVsZSI6ICJldmVub2RkIiwgImxpbmVDYXAiOiAicm91bmQiLCAibGluZUpvaW4iOiAicm91bmQiLCAib3BhY2l0eSI6IDEuMCwgInJhZGl1cyI6IDEwLCAic3Ryb2tlIjogdHJ1ZSwgIndlaWdodCI6IDN9CiAgICAgICAgICAgICkuYWRkVG8obWFwXzU0OTMxZmVjODc2OTQzOTU4OTU3YTYwNDU3NzRlM2E2KTsKICAgICAgICAKICAgIAogICAgICAgICAgICB2YXIgY2lyY2xlX21hcmtlcl8zZjhkNDliOTFiZTA0NGRjOWE5OTYzOThkMmZiODk3YyA9IEwuY2lyY2xlTWFya2VyKAogICAgICAgICAgICAgICAgWzMxLjYyMTY2NjkyMDIyODE5NywgLTcuOTg0Mzk5Nzk1NTMyMjI3XSwKICAgICAgICAgICAgICAgIHsiYnViYmxpbmdNb3VzZUV2ZW50cyI6IHRydWUsICJjb2xvciI6ICJibHVlIiwgImRhc2hBcnJheSI6IG51bGwsICJkYXNoT2Zmc2V0IjogbnVsbCwgImZpbGwiOiB0cnVlLCAiZmlsbENvbG9yIjogImJsdWUiLCAiZmlsbE9wYWNpdHkiOiAwLjYsICJmaWxsUnVsZSI6ICJldmVub2RkIiwgImxpbmVDYXAiOiAicm91bmQiLCAibGluZUpvaW4iOiAicm91bmQiLCAib3BhY2l0eSI6IDEuMCwgInJhZGl1cyI6IDUsICJzdHJva2UiOiB0cnVlLCAid2VpZ2h0IjogM30KICAgICAgICAgICAgKS5hZGRUbyhtYXBfNTQ5MzFmZWM4NzY5NDM5NTg5NTdhNjA0NTc3NGUzYTYpOwogICAgICAgIAogICAgCiAgICAgICAgdmFyIHBvcHVwXzIxNDcxYmMyYTZkYTRlZjI5MWRhNjI1MTZlYzE0MGYyID0gTC5wb3B1cCh7Im1heFdpZHRoIjogIjEwMCUifSk7CgogICAgICAgIAogICAgICAgICAgICB2YXIgaHRtbF8yOGNhYjMzY2EwMGU0ZmRiOGRlMmE1ZWQ4NDdhZWZiMCA9ICQoYDxkaXYgaWQ9Imh0bWxfMjhjYWIzM2NhMDBlNGZkYjhkZTJhNWVkODQ3YWVmYjAiIHN0eWxlPSJ3aWR0aDogMTAwLjAlOyBoZWlnaHQ6IDEwMC4wJTsiPkxvdW5nZTwvZGl2PmApWzBdOwogICAgICAgICAgICBwb3B1cF8yMTQ3MWJjMmE2ZGE0ZWYyOTFkYTYyNTE2ZWMxNDBmMi5zZXRDb250ZW50KGh0bWxfMjhjYWIzM2NhMDBlNGZkYjhkZTJhNWVkODQ3YWVmYjApOwogICAgICAgIAoKICAgICAgICBjaXJjbGVfbWFya2VyXzNmOGQ0OWI5MWJlMDQ0ZGM5YTk5NjM5OGQyZmI4OTdjLmJpbmRQb3B1cChwb3B1cF8yMTQ3MWJjMmE2ZGE0ZWYyOTFkYTYyNTE2ZWMxNDBmMikKICAgICAgICA7CgogICAgICAgIAogICAgCiAgICAKICAgICAgICAgICAgdmFyIGNpcmNsZV9tYXJrZXJfOGNjNGEzYjlmZmM0NDQzNTkxOGRjMjUyZTU2YzU0YzMgPSBMLmNpcmNsZU1hcmtlcigKICAgICAgICAgICAgICAgIFszMS42MjU3NSwgLTcuOTk4NjU3XSwKICAgICAgICAgICAgICAgIHsiYnViYmxpbmdNb3VzZUV2ZW50cyI6IHRydWUsICJjb2xvciI6ICJibHVlIiwgImRhc2hBcnJheSI6IG51bGwsICJkYXNoT2Zmc2V0IjogbnVsbCwgImZpbGwiOiB0cnVlLCAiZmlsbENvbG9yIjogImJsdWUiLCAiZmlsbE9wYWNpdHkiOiAwLjYsICJmaWxsUnVsZSI6ICJldmVub2RkIiwgImxpbmVDYXAiOiAicm91bmQiLCAibGluZUpvaW4iOiAicm91bmQiLCAib3BhY2l0eSI6IDEuMCwgInJhZGl1cyI6IDUsICJzdHJva2UiOiB0cnVlLCAid2VpZ2h0IjogM30KICAgICAgICAgICAgKS5hZGRUbyhtYXBfNTQ5MzFmZWM4NzY5NDM5NTg5NTdhNjA0NTc3NGUzYTYpOwogICAgICAgIAogICAgCiAgICAgICAgdmFyIHBvcHVwXzU5N2I2NzdkMGMzYjQwYzM5ZmRmMTZhZmEyMDk3OGQ1ID0gTC5wb3B1cCh7Im1heFdpZHRoIjogIjEwMCUifSk7CgogICAgICAgIAogICAgICAgICAgICB2YXIgaHRtbF9hYzc3Y2VkOGRmNjc0OWQwOWJjYjM5ZGMxNDZjMDEwYyA9ICQoYDxkaXYgaWQ9Imh0bWxfYWM3N2NlZDhkZjY3NDlkMDliY2IzOWRjMTQ2YzAxMGMiIHN0eWxlPSJ3aWR0aDogMTAwLjAlOyBoZWlnaHQ6IDEwMC4wJTsiPkhvdGVsIEJhcjwvZGl2PmApWzBdOwogICAgICAgICAgICBwb3B1cF81OTdiNjc3ZDBjM2I0MGMzOWZkZjE2YWZhMjA5NzhkNS5zZXRDb250ZW50KGh0bWxfYWM3N2NlZDhkZjY3NDlkMDliY2IzOWRjMTQ2YzAxMGMpOwogICAgICAgIAoKICAgICAgICBjaXJjbGVfbWFya2VyXzhjYzRhM2I5ZmZjNDQ0MzU5MThkYzI1MmU1NmM1NGMzLmJpbmRQb3B1cChwb3B1cF81OTdiNjc3ZDBjM2I0MGMzOWZkZjE2YWZhMjA5NzhkNSkKICAgICAgICA7CgogICAgICAgIAogICAgCiAgICAKICAgICAgICAgICAgdmFyIGNpcmNsZV9tYXJrZXJfYjBjYTdlMjYzOWZlNDk5Y2EyOTU2NDNmZjBjZTU3OTMgPSBMLmNpcmNsZU1hcmtlcigKICAgICAgICAgICAgICAgIFszMS42MjE0MDgzMTc3NjkwMywgLTguMDAyMzM0MjU3Mjg5MzA0XSwKICAgICAgICAgICAgICAgIHsiYnViYmxpbmdNb3VzZUV2ZW50cyI6IHRydWUsICJjb2xvciI6ICJibHVlIiwgImRhc2hBcnJheSI6IG51bGwsICJkYXNoT2Zmc2V0IjogbnVsbCwgImZpbGwiOiB0cnVlLCAiZmlsbENvbG9yIjogImJsdWUiLCAiZmlsbE9wYWNpdHkiOiAwLjYsICJmaWxsUnVsZSI6ICJldmVub2RkIiwgImxpbmVDYXAiOiAicm91bmQiLCAibGluZUpvaW4iOiAicm91bmQiLCAib3BhY2l0eSI6IDEuMCwgInJhZGl1cyI6IDUsICJzdHJva2UiOiB0cnVlLCAid2VpZ2h0IjogM30KICAgICAgICAgICAgKS5hZGRUbyhtYXBfNTQ5MzFmZWM4NzY5NDM5NTg5NTdhNjA0NTc3NGUzYTYpOwogICAgICAgIAogICAgCiAgICAgICAgICAgIHZhciBjaXJjbGVfbWFya2VyX2JjOWIwOGMyY2IwMjRkMjA5MzAxZGI0ODIxMDlkNGMyID0gTC5jaXJjbGVNYXJrZXIoCiAgICAgICAgICAgICAgICBbMzEuNjI4MzY4LCAtNy45OTQ4MjNdLAogICAgICAgICAgICAgICAgeyJidWJibGluZ01vdXNlRXZlbnRzIjogdHJ1ZSwgImNvbG9yIjogImJsdWUiLCAiZGFzaEFycmF5IjogbnVsbCwgImRhc2hPZmZzZXQiOiBudWxsLCAiZmlsbCI6IHRydWUsICJmaWxsQ29sb3IiOiAiYmx1ZSIsICJmaWxsT3BhY2l0eSI6IDAuNiwgImZpbGxSdWxlIjogImV2ZW5vZGQiLCAibGluZUNhcCI6ICJyb3VuZCIsICJsaW5lSm9pbiI6ICJyb3VuZCIsICJvcGFjaXR5IjogMS4wLCAicmFkaXVzIjogNSwgInN0cm9rZSI6IHRydWUsICJ3ZWlnaHQiOiAzfQogICAgICAgICAgICApLmFkZFRvKG1hcF81NDkzMWZlYzg3Njk0Mzk1ODk1N2E2MDQ1Nzc0ZTNhNik7CiAgICAgICAgCiAgICAKICAgICAgICB2YXIgcG9wdXBfZjgzNzA4YmM1ZTJmNDcyOWJlYWM5ZGE5NWZhYjQ5MGEgPSBMLnBvcHVwKHsibWF4V2lkdGgiOiAiMTAwJSJ9KTsKCiAgICAgICAgCiAgICAgICAgICAgIHZhciBodG1sXzFiZDFmZDVmZDhjODQwYjZiODE3MThmYjQyZDg4NmJmID0gJChgPGRpdiBpZD0iaHRtbF8xYmQxZmQ1ZmQ4Yzg0MGI2YjgxNzE4ZmI0MmQ4ODZiZiIgc3R5bGU9IndpZHRoOiAxMDAuMCU7IGhlaWdodDogMTAwLjAlOyI+SG90ZWwgQmFyPC9kaXY+YClbMF07CiAgICAgICAgICAgIHBvcHVwX2Y4MzcwOGJjNWUyZjQ3MjliZWFjOWRhOTVmYWI0OTBhLnNldENvbnRlbnQoaHRtbF8xYmQxZmQ1ZmQ4Yzg0MGI2YjgxNzE4ZmI0MmQ4ODZiZik7CiAgICAgICAgCgogICAgICAgIGNpcmNsZV9tYXJrZXJfYmM5YjA4YzJjYjAyNGQyMDkzMDFkYjQ4MjEwOWQ0YzIuYmluZFBvcHVwKHBvcHVwX2Y4MzcwOGJjNWUyZjQ3MjliZWFjOWRhOTVmYWI0OTBhKQogICAgICAgIDsKCiAgICAgICAgCiAgICAKICAgIAogICAgICAgICAgICB2YXIgY2lyY2xlX21hcmtlcl8yNTgyZDg0ZWZhNjQ0NDc0OTFmZDUxMmNhOTQ0NWFlMSA9IEwuY2lyY2xlTWFya2VyKAogICAgICAgICAgICAgICAgWzMxLjYyMDg3MzA5OTM3OTY3LCAtNy45OTcyMDIwOTY0MDk4NzFdLAogICAgICAgICAgICAgICAgeyJidWJibGluZ01vdXNlRXZlbnRzIjogdHJ1ZSwgImNvbG9yIjogImJsdWUiLCAiZGFzaEFycmF5IjogbnVsbCwgImRhc2hPZmZzZXQiOiBudWxsLCAiZmlsbCI6IHRydWUsICJmaWxsQ29sb3IiOiAiYmx1ZSIsICJmaWxsT3BhY2l0eSI6IDAuNiwgImZpbGxSdWxlIjogImV2ZW5vZGQiLCAibGluZUNhcCI6ICJyb3VuZCIsICJsaW5lSm9pbiI6ICJyb3VuZCIsICJvcGFjaXR5IjogMS4wLCAicmFkaXVzIjogNSwgInN0cm9rZSI6IHRydWUsICJ3ZWlnaHQiOiAzfQogICAgICAgICAgICApLmFkZFRvKG1hcF81NDkzMWZlYzg3Njk0Mzk1ODk1N2E2MDQ1Nzc0ZTNhNik7CiAgICAgICAgCiAgICAKICAgICAgICB2YXIgcG9wdXBfMDllN2FkNzhmMjhlNGI3MjkwMjllODU1MmIxYmE0ZTMgPSBMLnBvcHVwKHsibWF4V2lkdGgiOiAiMTAwJSJ9KTsKCiAgICAgICAgCiAgICAgICAgICAgIHZhciBodG1sXzhjMGJlMjMwYmM2MDQ2N2Q4OTVkMDUwYzg5ZTEyZjA2ID0gJChgPGRpdiBpZD0iaHRtbF84YzBiZTIzMGJjNjA0NjdkODk1ZDA1MGM4OWUxMmYwNiIgc3R5bGU9IndpZHRoOiAxMDAuMCU7IGhlaWdodDogMTAwLjAlOyI+Q29ja3RhaWwgQmFyPC9kaXY+YClbMF07CiAgICAgICAgICAgIHBvcHVwXzA5ZTdhZDc4ZjI4ZTRiNzI5MDI5ZTg1NTJiMWJhNGUzLnNldENvbnRlbnQoaHRtbF84YzBiZTIzMGJjNjA0NjdkODk1ZDA1MGM4OWUxMmYwNik7CiAgICAgICAgCgogICAgICAgIGNpcmNsZV9tYXJrZXJfMjU4MmQ4NGVmYTY0NDQ3NDkxZmQ1MTJjYTk0NDVhZTEuYmluZFBvcHVwKHBvcHVwXzA5ZTdhZDc4ZjI4ZTRiNzI5MDI5ZTg1NTJiMWJhNGUzKQogICAgICAgIDsKCiAgICAgICAgCiAgICAKICAgIAogICAgICAgICAgICB2YXIgY2lyY2xlX21hcmtlcl8xZjRhMTJlZGFkNzg0YWE4OWI1M2Q4Y2MwMDNkN2Y2NyA9IEwuY2lyY2xlTWFya2VyKAogICAgICAgICAgICAgICAgWzMxLjYxNzY2MSwgLTcuOTkwNzVdLAogICAgICAgICAgICAgICAgeyJidWJibGluZ01vdXNlRXZlbnRzIjogdHJ1ZSwgImNvbG9yIjogImJsdWUiLCAiZGFzaEFycmF5IjogbnVsbCwgImRhc2hPZmZzZXQiOiBudWxsLCAiZmlsbCI6IHRydWUsICJmaWxsQ29sb3IiOiAiYmx1ZSIsICJmaWxsT3BhY2l0eSI6IDAuNiwgImZpbGxSdWxlIjogImV2ZW5vZGQiLCAibGluZUNhcCI6ICJyb3VuZCIsICJsaW5lSm9pbiI6ICJyb3VuZCIsICJvcGFjaXR5IjogMS4wLCAicmFkaXVzIjogNSwgInN0cm9rZSI6IHRydWUsICJ3ZWlnaHQiOiAzfQogICAgICAgICAgICApLmFkZFRvKG1hcF81NDkzMWZlYzg3Njk0Mzk1ODk1N2E2MDQ1Nzc0ZTNhNik7CiAgICAgICAgCiAgICAKICAgICAgICB2YXIgcG9wdXBfNDM4NGRlYTgzNTFmNDg4ZjliZjdlMTI5MmQ0MWZhYzQgPSBMLnBvcHVwKHsibWF4V2lkdGgiOiAiMTAwJSJ9KTsKCiAgICAgICAgCiAgICAgICAgICAgIHZhciBodG1sXzQ4ZTc2OTA5YmM4ZjRhOGM4NTRmNjA4ODM2MGUxNTNjID0gJChgPGRpdiBpZD0iaHRtbF80OGU3NjkwOWJjOGY0YThjODU0ZjYwODgzNjBlMTUzYyIgc3R5bGU9IndpZHRoOiAxMDAuMCU7IGhlaWdodDogMTAwLjAlOyI+Q29mZmVlIFNob3A8L2Rpdj5gKVswXTsKICAgICAgICAgICAgcG9wdXBfNDM4NGRlYTgzNTFmNDg4ZjliZjdlMTI5MmQ0MWZhYzQuc2V0Q29udGVudChodG1sXzQ4ZTc2OTA5YmM4ZjRhOGM4NTRmNjA4ODM2MGUxNTNjKTsKICAgICAgICAKCiAgICAgICAgY2lyY2xlX21hcmtlcl8xZjRhMTJlZGFkNzg0YWE4OWI1M2Q4Y2MwMDNkN2Y2Ny5iaW5kUG9wdXAocG9wdXBfNDM4NGRlYTgzNTFmNDg4ZjliZjdlMTI5MmQ0MWZhYzQpCiAgICAgICAgOwoKICAgICAgICAKICAgIAogICAgCiAgICAgICAgICAgIHZhciBjaXJjbGVfbWFya2VyXzc2NzhhN2U5OTkwYTQ1MDNhZTYwMmZkNzc1YmIxNGVlID0gTC5jaXJjbGVNYXJrZXIoCiAgICAgICAgICAgICAgICBbMzEuNjIwOTg1MjQ5NzA2Nzc0LCAtNy45OTY5ODIyMTU0MjU4MjY1XSwKICAgICAgICAgICAgICAgIHsiYnViYmxpbmdNb3VzZUV2ZW50cyI6IHRydWUsICJjb2xvciI6ICJibHVlIiwgImRhc2hBcnJheSI6IG51bGwsICJkYXNoT2Zmc2V0IjogbnVsbCwgImZpbGwiOiB0cnVlLCAiZmlsbENvbG9yIjogImJsdWUiLCAiZmlsbE9wYWNpdHkiOiAwLjYsICJmaWxsUnVsZSI6ICJldmVub2RkIiwgImxpbmVDYXAiOiAicm91bmQiLCAibGluZUpvaW4iOiAicm91bmQiLCAib3BhY2l0eSI6IDEuMCwgInJhZGl1cyI6IDUsICJzdHJva2UiOiB0cnVlLCAid2VpZ2h0IjogM30KICAgICAgICAgICAgKS5hZGRUbyhtYXBfNTQ5MzFmZWM4NzY5NDM5NTg5NTdhNjA0NTc3NGUzYTYpOwogICAgICAgIAogICAgCiAgICAgICAgICAgIHZhciBjaXJjbGVfbWFya2VyXzRjYzlkYTEzMTk2NDQxYTY5YzcyZjJhYWI4YjU4N2UzID0gTC5jaXJjbGVNYXJrZXIoCiAgICAgICAgICAgICAgICBbMzEuNjIxMTQ4ODE2Mjg3MDY0LCAtNy45OTc0Mzk0MzY2MTE2MzFdLAogICAgICAgICAgICAgICAgeyJidWJibGluZ01vdXNlRXZlbnRzIjogdHJ1ZSwgImNvbG9yIjogImJsdWUiLCAiZGFzaEFycmF5IjogbnVsbCwgImRhc2hPZmZzZXQiOiBudWxsLCAiZmlsbCI6IHRydWUsICJmaWxsQ29sb3IiOiAiYmx1ZSIsICJmaWxsT3BhY2l0eSI6IDAuNiwgImZpbGxSdWxlIjogImV2ZW5vZGQiLCAibGluZUNhcCI6ICJyb3VuZCIsICJsaW5lSm9pbiI6ICJyb3VuZCIsICJvcGFjaXR5IjogMS4wLCAicmFkaXVzIjogNSwgInN0cm9rZSI6IHRydWUsICJ3ZWlnaHQiOiAzfQogICAgICAgICAgICApLmFkZFRvKG1hcF81NDkzMWZlYzg3Njk0Mzk1ODk1N2E2MDQ1Nzc0ZTNhNik7CiAgICAgICAgCiAgICAKICAgICAgICB2YXIgcG9wdXBfMDllNWEwZGJhZTA4NGM3NWEwMWUzMTc4MGY0MjcwMDkgPSBMLnBvcHVwKHsibWF4V2lkdGgiOiAiMTAwJSJ9KTsKCiAgICAgICAgCiAgICAgICAgICAgIHZhciBodG1sX2Y3NjNiZjdiNzUzOTQ3MTg5ODQ1ZjI1NmI1YTNmZDY5ID0gJChgPGRpdiBpZD0iaHRtbF9mNzYzYmY3Yjc1Mzk0NzE4OTg0NWYyNTZiNWEzZmQ2OSIgc3R5bGU9IndpZHRoOiAxMDAuMCU7IGhlaWdodDogMTAwLjAlOyI+SG90ZWwgQmFyPC9kaXY+YClbMF07CiAgICAgICAgICAgIHBvcHVwXzA5ZTVhMGRiYWUwODRjNzVhMDFlMzE3ODBmNDI3MDA5LnNldENvbnRlbnQoaHRtbF9mNzYzYmY3Yjc1Mzk0NzE4OTg0NWYyNTZiNWEzZmQ2OSk7CiAgICAgICAgCgogICAgICAgIGNpcmNsZV9tYXJrZXJfNGNjOWRhMTMxOTY0NDFhNjljNzJmMmFhYjhiNTg3ZTMuYmluZFBvcHVwKHBvcHVwXzA5ZTVhMGRiYWUwODRjNzVhMDFlMzE3ODBmNDI3MDA5KQogICAgICAgIDsKCiAgICAgICAgCiAgICAKICAgIAogICAgICAgICAgICB2YXIgY2lyY2xlX21hcmtlcl83MTNjOGY5MTFiODI0NWM1ODE5NjkzZjQzNzhiNmZmZCA9IEwuY2lyY2xlTWFya2VyKAogICAgICAgICAgICAgICAgWzMxLjYzMDY1OCwgLTcuOTk2MDg1XSwKICAgICAgICAgICAgICAgIHsiYnViYmxpbmdNb3VzZUV2ZW50cyI6IHRydWUsICJjb2xvciI6ICJibHVlIiwgImRhc2hBcnJheSI6IG51bGwsICJkYXNoT2Zmc2V0IjogbnVsbCwgImZpbGwiOiB0cnVlLCAiZmlsbENvbG9yIjogImJsdWUiLCAiZmlsbE9wYWNpdHkiOiAwLjYsICJmaWxsUnVsZSI6ICJldmVub2RkIiwgImxpbmVDYXAiOiAicm91bmQiLCAibGluZUpvaW4iOiAicm91bmQiLCAib3BhY2l0eSI6IDEuMCwgInJhZGl1cyI6IDUsICJzdHJva2UiOiB0cnVlLCAid2VpZ2h0IjogM30KICAgICAgICAgICAgKS5hZGRUbyhtYXBfNTQ5MzFmZWM4NzY5NDM5NTg5NTdhNjA0NTc3NGUzYTYpOwogICAgICAgIAogICAgCiAgICAgICAgdmFyIHBvcHVwX2U3MzljMzcwZmViNzRjNWFhN2JlMmI5ZjAyM2M4NmY0ID0gTC5wb3B1cCh7Im1heFdpZHRoIjogIjEwMCUifSk7CgogICAgICAgIAogICAgICAgICAgICB2YXIgaHRtbF9iNjU4YjExZGUxZTQ0ZDBiOGFmYzk0Y2RhNzcwMjc2MiA9ICQoYDxkaXYgaWQ9Imh0bWxfYjY1OGIxMWRlMWU0NGQwYjhhZmM5NGNkYTc3MDI3NjIiIHN0eWxlPSJ3aWR0aDogMTAwLjAlOyBoZWlnaHQ6IDEwMC4wJTsiPkJhcjwvZGl2PmApWzBdOwogICAgICAgICAgICBwb3B1cF9lNzM5YzM3MGZlYjc0YzVhYTdiZTJiOWYwMjNjODZmNC5zZXRDb250ZW50KGh0bWxfYjY1OGIxMWRlMWU0NGQwYjhhZmM5NGNkYTc3MDI3NjIpOwogICAgICAgIAoKICAgICAgICBjaXJjbGVfbWFya2VyXzcxM2M4ZjkxMWI4MjQ1YzU4MTk2OTNmNDM3OGI2ZmZkLmJpbmRQb3B1cChwb3B1cF9lNzM5YzM3MGZlYjc0YzVhYTdiZTJiOWYwMjNjODZmNCkKICAgICAgICA7CgogICAgICAgIAogICAgCiAgICAKICAgICAgICAgICAgdmFyIGNpcmNsZV9tYXJrZXJfYmQ5Y2FhN2I4MjhkNDkzMmJlNDVlNTE4Njc3MWFkNDAgPSBMLmNpcmNsZU1hcmtlcigKICAgICAgICAgICAgICAgIFszMS42MzM1MTUsIC03Ljk5NTU4NV0sCiAgICAgICAgICAgICAgICB7ImJ1YmJsaW5nTW91c2VFdmVudHMiOiB0cnVlLCAiY29sb3IiOiAiYmx1ZSIsICJkYXNoQXJyYXkiOiBudWxsLCAiZGFzaE9mZnNldCI6IG51bGwsICJmaWxsIjogdHJ1ZSwgImZpbGxDb2xvciI6ICJibHVlIiwgImZpbGxPcGFjaXR5IjogMC42LCAiZmlsbFJ1bGUiOiAiZXZlbm9kZCIsICJsaW5lQ2FwIjogInJvdW5kIiwgImxpbmVKb2luIjogInJvdW5kIiwgIm9wYWNpdHkiOiAxLjAsICJyYWRpdXMiOiA1LCAic3Ryb2tlIjogdHJ1ZSwgIndlaWdodCI6IDN9CiAgICAgICAgICAgICkuYWRkVG8obWFwXzU0OTMxZmVjODc2OTQzOTU4OTU3YTYwNDU3NzRlM2E2KTsKICAgICAgICAKICAgIAogICAgICAgIHZhciBwb3B1cF81OTY3YTJkNzIzYzc0MjE2YThjNWUxODY5NGJiNTQ3YiA9IEwucG9wdXAoeyJtYXhXaWR0aCI6ICIxMDAlIn0pOwoKICAgICAgICAKICAgICAgICAgICAgdmFyIGh0bWxfZDAwNTA0MmM3YzFmNDI2Njg5ZmI3MGU4OWVmOTc3MTEgPSAkKGA8ZGl2IGlkPSJodG1sX2QwMDUwNDJjN2MxZjQyNjY4OWZiNzBlODllZjk3NzExIiBzdHlsZT0id2lkdGg6IDEwMC4wJTsgaGVpZ2h0OiAxMDAuMCU7Ij5CYXI8L2Rpdj5gKVswXTsKICAgICAgICAgICAgcG9wdXBfNTk2N2EyZDcyM2M3NDIxNmE4YzVlMTg2OTRiYjU0N2Iuc2V0Q29udGVudChodG1sX2QwMDUwNDJjN2MxZjQyNjY4OWZiNzBlODllZjk3NzExKTsKICAgICAgICAKCiAgICAgICAgY2lyY2xlX21hcmtlcl9iZDljYWE3YjgyOGQ0OTMyYmU0NWU1MTg2NzcxYWQ0MC5iaW5kUG9wdXAocG9wdXBfNTk2N2EyZDcyM2M3NDIxNmE4YzVlMTg2OTRiYjU0N2IpCiAgICAgICAgOwoKICAgICAgICAKICAgIAogICAgCiAgICAgICAgICAgIHZhciBjaXJjbGVfbWFya2VyXzQ4ZWI5MzViM2M2MzRkZjI5MTAzODAxYWZhYWNiZGM4ID0gTC5jaXJjbGVNYXJrZXIoCiAgICAgICAgICAgICAgICBbMzEuNjYwMDMyODY5MzA0NjQ3LCAtNy45NzkwOTUwNTU1NjM0NzFdLAogICAgICAgICAgICAgICAgeyJidWJibGluZ01vdXNlRXZlbnRzIjogdHJ1ZSwgImNvbG9yIjogImJsdWUiLCAiZGFzaEFycmF5IjogbnVsbCwgImRhc2hPZmZzZXQiOiBudWxsLCAiZmlsbCI6IHRydWUsICJmaWxsQ29sb3IiOiAiYmx1ZSIsICJmaWxsT3BhY2l0eSI6IDAuNiwgImZpbGxSdWxlIjogImV2ZW5vZGQiLCAibGluZUNhcCI6ICJyb3VuZCIsICJsaW5lSm9pbiI6ICJyb3VuZCIsICJvcGFjaXR5IjogMS4wLCAicmFkaXVzIjogNSwgInN0cm9rZSI6IHRydWUsICJ3ZWlnaHQiOiAzfQogICAgICAgICAgICApLmFkZFRvKG1hcF81NDkzMWZlYzg3Njk0Mzk1ODk1N2E2MDQ1Nzc0ZTNhNik7CiAgICAgICAgCiAgICAKICAgICAgICB2YXIgcG9wdXBfMzNkYTI3ZTcyMTdkNDNhOTkwOWU2NmY3NjA5MzliNjkgPSBMLnBvcHVwKHsibWF4V2lkdGgiOiAiMTAwJSJ9KTsKCiAgICAgICAgCiAgICAgICAgICAgIHZhciBodG1sXzEzZTdjYTBjOTA3MTQ2MDJiZTY4NjkyZTAzY2NiMjczID0gJChgPGRpdiBpZD0iaHRtbF8xM2U3Y2EwYzkwNzE0NjAyYmU2ODY5MmUwM2NjYjI3MyIgc3R5bGU9IndpZHRoOiAxMDAuMCU7IGhlaWdodDogMTAwLjAlOyI+TG91bmdlPC9kaXY+YClbMF07CiAgICAgICAgICAgIHBvcHVwXzMzZGEyN2U3MjE3ZDQzYTk5MDllNjZmNzYwOTM5YjY5LnNldENvbnRlbnQoaHRtbF8xM2U3Y2EwYzkwNzE0NjAyYmU2ODY5MmUwM2NjYjI3Myk7CiAgICAgICAgCgogICAgICAgIGNpcmNsZV9tYXJrZXJfNDhlYjkzNWIzYzYzNGRmMjkxMDM4MDFhZmFhY2JkYzguYmluZFBvcHVwKHBvcHVwXzMzZGEyN2U3MjE3ZDQzYTk5MDllNjZmNzYwOTM5YjY5KQogICAgICAgIDsKCiAgICAgICAgCiAgICAKICAgIAogICAgICAgICAgICB2YXIgY2lyY2xlX21hcmtlcl81YzA0ZDRjMmFmN2I0NDAzYWQwYTFkYWY2MzcwMmY5OSA9IEwuY2lyY2xlTWFya2VyKAogICAgICAgICAgICAgICAgWzMxLjYyNzQxODA1NDY0MDk0LCAtOC4wMDE0NDM2OTAyMjkzMzNdLAogICAgICAgICAgICAgICAgeyJidWJibGluZ01vdXNlRXZlbnRzIjogdHJ1ZSwgImNvbG9yIjogImJsdWUiLCAiZGFzaEFycmF5IjogbnVsbCwgImRhc2hPZmZzZXQiOiBudWxsLCAiZmlsbCI6IHRydWUsICJmaWxsQ29sb3IiOiAiYmx1ZSIsICJmaWxsT3BhY2l0eSI6IDAuNiwgImZpbGxSdWxlIjogImV2ZW5vZGQiLCAibGluZUNhcCI6ICJyb3VuZCIsICJsaW5lSm9pbiI6ICJyb3VuZCIsICJvcGFjaXR5IjogMS4wLCAicmFkaXVzIjogNSwgInN0cm9rZSI6IHRydWUsICJ3ZWlnaHQiOiAzfQogICAgICAgICAgICApLmFkZFRvKG1hcF81NDkzMWZlYzg3Njk0Mzk1ODk1N2E2MDQ1Nzc0ZTNhNik7CiAgICAgICAgCiAgICAKICAgICAgICB2YXIgcG9wdXBfMmM4N2JkMDk1NTVkNDU3NWEyMWY4N2MzYzEzNzY3MDIgPSBMLnBvcHVwKHsibWF4V2lkdGgiOiAiMTAwJSJ9KTsKCiAgICAgICAgCiAgICAgICAgICAgIHZhciBodG1sX2RiZGM3NDM2MTY1ODRjOGQ4ZDFlMGUwZGVhOTEyMTg4ID0gJChgPGRpdiBpZD0iaHRtbF9kYmRjNzQzNjE2NTg0YzhkOGQxZTBlMGRlYTkxMjE4OCIgc3R5bGU9IndpZHRoOiAxMDAuMCU7IGhlaWdodDogMTAwLjAlOyI+UHViPC9kaXY+YClbMF07CiAgICAgICAgICAgIHBvcHVwXzJjODdiZDA5NTU1ZDQ1NzVhMjFmODdjM2MxMzc2NzAyLnNldENvbnRlbnQoaHRtbF9kYmRjNzQzNjE2NTg0YzhkOGQxZTBlMGRlYTkxMjE4OCk7CiAgICAgICAgCgogICAgICAgIGNpcmNsZV9tYXJrZXJfNWMwNGQ0YzJhZjdiNDQwM2FkMGExZGFmNjM3MDJmOTkuYmluZFBvcHVwKHBvcHVwXzJjODdiZDA5NTU1ZDQ1NzVhMjFmODdjM2MxMzc2NzAyKQogICAgICAgIDsKCiAgICAgICAgCiAgICAKICAgIAogICAgICAgICAgICB2YXIgY2lyY2xlX21hcmtlcl8xMjE3OTgxYTgxZWU0OGI5YTNlNDVkMjlmN2FiYjBjOCA9IEwuY2lyY2xlTWFya2VyKAogICAgICAgICAgICAgICAgWzMxLjYyMzc1MSwgLTguMDA3NTA0XSwKICAgICAgICAgICAgICAgIHsiYnViYmxpbmdNb3VzZUV2ZW50cyI6IHRydWUsICJjb2xvciI6ICJibHVlIiwgImRhc2hBcnJheSI6IG51bGwsICJkYXNoT2Zmc2V0IjogbnVsbCwgImZpbGwiOiB0cnVlLCAiZmlsbENvbG9yIjogImJsdWUiLCAiZmlsbE9wYWNpdHkiOiAwLjYsICJmaWxsUnVsZSI6ICJldmVub2RkIiwgImxpbmVDYXAiOiAicm91bmQiLCAibGluZUpvaW4iOiAicm91bmQiLCAib3BhY2l0eSI6IDEuMCwgInJhZGl1cyI6IDUsICJzdHJva2UiOiB0cnVlLCAid2VpZ2h0IjogM30KICAgICAgICAgICAgKS5hZGRUbyhtYXBfNTQ5MzFmZWM4NzY5NDM5NTg5NTdhNjA0NTc3NGUzYTYpOwogICAgICAgIAogICAgCiAgICAgICAgdmFyIHBvcHVwXzRmMzM2NmFlZjIxZjQxYzQ4OGU3NDFlODA2NTkyM2M0ID0gTC5wb3B1cCh7Im1heFdpZHRoIjogIjEwMCUifSk7CgogICAgICAgIAogICAgICAgICAgICB2YXIgaHRtbF9jNzRjZThkZmY1OGU0YzMwOTg2ZTFiMTY1NTIyZDVhZSA9ICQoYDxkaXYgaWQ9Imh0bWxfYzc0Y2U4ZGZmNThlNGMzMDk4NmUxYjE2NTUyMmQ1YWUiIHN0eWxlPSJ3aWR0aDogMTAwLjAlOyBoZWlnaHQ6IDEwMC4wJTsiPkNvY2t0YWlsIEJhcjwvZGl2PmApWzBdOwogICAgICAgICAgICBwb3B1cF80ZjMzNjZhZWYyMWY0MWM0ODhlNzQxZTgwNjU5MjNjNC5zZXRDb250ZW50KGh0bWxfYzc0Y2U4ZGZmNThlNGMzMDk4NmUxYjE2NTUyMmQ1YWUpOwogICAgICAgIAoKICAgICAgICBjaXJjbGVfbWFya2VyXzEyMTc5ODFhODFlZTQ4YjlhM2U0NWQyOWY3YWJiMGM4LmJpbmRQb3B1cChwb3B1cF80ZjMzNjZhZWYyMWY0MWM0ODhlNzQxZTgwNjU5MjNjNCkKICAgICAgICA7CgogICAgICAgIAogICAgCiAgICAKICAgICAgICAgICAgdmFyIGNpcmNsZV9tYXJrZXJfNTY1ODI5Y2NmMzEyNDgyNmE4ZTBjZTRmNmIyODAxZmMgPSBMLmNpcmNsZU1hcmtlcigKICAgICAgICAgICAgICAgIFszMS42MjA5MDQ5MjI0ODUzNSwgLTguMDA3MTAyOTY2MzA4NTk0XSwKICAgICAgICAgICAgICAgIHsiYnViYmxpbmdNb3VzZUV2ZW50cyI6IHRydWUsICJjb2xvciI6ICJibHVlIiwgImRhc2hBcnJheSI6IG51bGwsICJkYXNoT2Zmc2V0IjogbnVsbCwgImZpbGwiOiB0cnVlLCAiZmlsbENvbG9yIjogImJsdWUiLCAiZmlsbE9wYWNpdHkiOiAwLjYsICJmaWxsUnVsZSI6ICJldmVub2RkIiwgImxpbmVDYXAiOiAicm91bmQiLCAibGluZUpvaW4iOiAicm91bmQiLCAib3BhY2l0eSI6IDEuMCwgInJhZGl1cyI6IDUsICJzdHJva2UiOiB0cnVlLCAid2VpZ2h0IjogM30KICAgICAgICAgICAgKS5hZGRUbyhtYXBfNTQ5MzFmZWM4NzY5NDM5NTg5NTdhNjA0NTc3NGUzYTYpOwogICAgICAgIAogICAgCiAgICAgICAgdmFyIHBvcHVwXzg4ZjBiNzM4YTgwNjRkY2NhY2FmZjU2M2I1Y2Q2NmY1ID0gTC5wb3B1cCh7Im1heFdpZHRoIjogIjEwMCUifSk7CgogICAgICAgIAogICAgICAgICAgICB2YXIgaHRtbF9jOWFiNjVlY2Y1Mjg0Zjk0YWQ4YmZiODMyYTgwNDgzZSA9ICQoYDxkaXYgaWQ9Imh0bWxfYzlhYjY1ZWNmNTI4NGY5NGFkOGJmYjgzMmE4MDQ4M2UiIHN0eWxlPSJ3aWR0aDogMTAwLjAlOyBoZWlnaHQ6IDEwMC4wJTsiPkJhcjwvZGl2PmApWzBdOwogICAgICAgICAgICBwb3B1cF84OGYwYjczOGE4MDY0ZGNjYWNhZmY1NjNiNWNkNjZmNS5zZXRDb250ZW50KGh0bWxfYzlhYjY1ZWNmNTI4NGY5NGFkOGJmYjgzMmE4MDQ4M2UpOwogICAgICAgIAoKICAgICAgICBjaXJjbGVfbWFya2VyXzU2NTgyOWNjZjMxMjQ4MjZhOGUwY2U0ZjZiMjgwMWZjLmJpbmRQb3B1cChwb3B1cF84OGYwYjczOGE4MDY0ZGNjYWNhZmY1NjNiNWNkNjZmNSkKICAgICAgICA7CgogICAgICAgIAogICAgCiAgICAKICAgICAgICAgICAgdmFyIGNpcmNsZV9tYXJrZXJfMGUxNmIzYTM4Y2EyNDQ1YjkwMzY5MmE5N2JiMGQ5YTEgPSBMLmNpcmNsZU1hcmtlcigKICAgICAgICAgICAgICAgIFszMS42MjA4ODU0MTk0ODgwMDUsIC04LjAwNzM5MDk3Nzk2OTU3NV0sCiAgICAgICAgICAgICAgICB7ImJ1YmJsaW5nTW91c2VFdmVudHMiOiB0cnVlLCAiY29sb3IiOiAiYmx1ZSIsICJkYXNoQXJyYXkiOiBudWxsLCAiZGFzaE9mZnNldCI6IG51bGwsICJmaWxsIjogdHJ1ZSwgImZpbGxDb2xvciI6ICJibHVlIiwgImZpbGxPcGFjaXR5IjogMC42LCAiZmlsbFJ1bGUiOiAiZXZlbm9kZCIsICJsaW5lQ2FwIjogInJvdW5kIiwgImxpbmVKb2luIjogInJvdW5kIiwgIm9wYWNpdHkiOiAxLjAsICJyYWRpdXMiOiA1LCAic3Ryb2tlIjogdHJ1ZSwgIndlaWdodCI6IDN9CiAgICAgICAgICAgICkuYWRkVG8obWFwXzU0OTMxZmVjODc2OTQzOTU4OTU3YTYwNDU3NzRlM2E2KTsKICAgICAgICAKICAgIAogICAgICAgIHZhciBwb3B1cF82NWU0N2QzNmFjMTY0Y2JlOGZjZGEzMzczZDkwMTM3MCA9IEwucG9wdXAoeyJtYXhXaWR0aCI6ICIxMDAlIn0pOwoKICAgICAgICAKICAgICAgICAgICAgdmFyIGh0bWxfODBkNjJiNTg5MjlkNDMwYjlkZmYyYTIwNjExOWFjZjEgPSAkKGA8ZGl2IGlkPSJodG1sXzgwZDYyYjU4OTI5ZDQzMGI5ZGZmMmEyMDYxMTlhY2YxIiBzdHlsZT0id2lkdGg6IDEwMC4wJTsgaGVpZ2h0OiAxMDAuMCU7Ij5Db2NrdGFpbCBCYXI8L2Rpdj5gKVswXTsKICAgICAgICAgICAgcG9wdXBfNjVlNDdkMzZhYzE2NGNiZThmY2RhMzM3M2Q5MDEzNzAuc2V0Q29udGVudChodG1sXzgwZDYyYjU4OTI5ZDQzMGI5ZGZmMmEyMDYxMTlhY2YxKTsKICAgICAgICAKCiAgICAgICAgY2lyY2xlX21hcmtlcl8wZTE2YjNhMzhjYTI0NDViOTAzNjkyYTk3YmIwZDlhMS5iaW5kUG9wdXAocG9wdXBfNjVlNDdkMzZhYzE2NGNiZThmY2RhMzM3M2Q5MDEzNzApCiAgICAgICAgOwoKICAgICAgICAKICAgIAogICAgCiAgICAgICAgICAgIHZhciBjaXJjbGVfbWFya2VyX2RiOTBkOTQ4MzdlZTQ3NmFhMmEzZWI0YTdhNWM3NTIwID0gTC5jaXJjbGVNYXJrZXIoCiAgICAgICAgICAgICAgICBbMzEuNjIyMjU5MjIyMDc5NjM4LCAtOC4wMDExNzE3ODAzMzk1XSwKICAgICAgICAgICAgICAgIHsiYnViYmxpbmdNb3VzZUV2ZW50cyI6IHRydWUsICJjb2xvciI6ICJibHVlIiwgImRhc2hBcnJheSI6IG51bGwsICJkYXNoT2Zmc2V0IjogbnVsbCwgImZpbGwiOiB0cnVlLCAiZmlsbENvbG9yIjogImJsdWUiLCAiZmlsbE9wYWNpdHkiOiAwLjYsICJmaWxsUnVsZSI6ICJldmVub2RkIiwgImxpbmVDYXAiOiAicm91bmQiLCAibGluZUpvaW4iOiAicm91bmQiLCAib3BhY2l0eSI6IDEuMCwgInJhZGl1cyI6IDUsICJzdHJva2UiOiB0cnVlLCAid2VpZ2h0IjogM30KICAgICAgICAgICAgKS5hZGRUbyhtYXBfNTQ5MzFmZWM4NzY5NDM5NTg5NTdhNjA0NTc3NGUzYTYpOwogICAgICAgIAogICAgCiAgICAgICAgdmFyIHBvcHVwX2RiY2MwYWNhNGFjZDQ2ODRiOWM5MmIxNzY0ZGU5NmUwID0gTC5wb3B1cCh7Im1heFdpZHRoIjogIjEwMCUifSk7CgogICAgICAgIAogICAgICAgICAgICB2YXIgaHRtbF82NDFjOTk2NjU5OWI0N2QwYmVjNWFkZDZhNGE4NDgxMSA9ICQoYDxkaXYgaWQ9Imh0bWxfNjQxYzk5NjY1OTliNDdkMGJlYzVhZGQ2YTRhODQ4MTEiIHN0eWxlPSJ3aWR0aDogMTAwLjAlOyBoZWlnaHQ6IDEwMC4wJTsiPkNvY2t0YWlsIEJhcjwvZGl2PmApWzBdOwogICAgICAgICAgICBwb3B1cF9kYmNjMGFjYTRhY2Q0Njg0YjljOTJiMTc2NGRlOTZlMC5zZXRDb250ZW50KGh0bWxfNjQxYzk5NjY1OTliNDdkMGJlYzVhZGQ2YTRhODQ4MTEpOwogICAgICAgIAoKICAgICAgICBjaXJjbGVfbWFya2VyX2RiOTBkOTQ4MzdlZTQ3NmFhMmEzZWI0YTdhNWM3NTIwLmJpbmRQb3B1cChwb3B1cF9kYmNjMGFjYTRhY2Q0Njg0YjljOTJiMTc2NGRlOTZlMCkKICAgICAgICA7CgogICAgICAgIAogICAgCiAgICAKICAgICAgICAgICAgdmFyIGNpcmNsZV9tYXJrZXJfOWMzMWNiZmNlOWIxNDk2Yjk2NTdmZjIzODY0NzQzMmUgPSBMLmNpcmNsZU1hcmtlcigKICAgICAgICAgICAgICAgIFszMS42NTAxODAzNjU4NzcwMzgsIC03LjkzNjkwNzAzMzk5ODI5OF0sCiAgICAgICAgICAgICAgICB7ImJ1YmJsaW5nTW91c2VFdmVudHMiOiB0cnVlLCAiY29sb3IiOiAiYmx1ZSIsICJkYXNoQXJyYXkiOiBudWxsLCAiZGFzaE9mZnNldCI6IG51bGwsICJmaWxsIjogdHJ1ZSwgImZpbGxDb2xvciI6ICJibHVlIiwgImZpbGxPcGFjaXR5IjogMC42LCAiZmlsbFJ1bGUiOiAiZXZlbm9kZCIsICJsaW5lQ2FwIjogInJvdW5kIiwgImxpbmVKb2luIjogInJvdW5kIiwgIm9wYWNpdHkiOiAxLjAsICJyYWRpdXMiOiA1LCAic3Ryb2tlIjogdHJ1ZSwgIndlaWdodCI6IDN9CiAgICAgICAgICAgICkuYWRkVG8obWFwXzU0OTMxZmVjODc2OTQzOTU4OTU3YTYwNDU3NzRlM2E2KTsKICAgICAgICAKICAgIAogICAgICAgIHZhciBwb3B1cF80ZDg0ZTQ2OGUxYjU0YjQyOTczMDRhNjA4MzRmY2UzNyA9IEwucG9wdXAoeyJtYXhXaWR0aCI6ICIxMDAlIn0pOwoKICAgICAgICAKICAgICAgICAgICAgdmFyIGh0bWxfYjRkNzg5MTMzMGIxNDU1YmJkZDBkYTI0MjdiZTkxNDcgPSAkKGA8ZGl2IGlkPSJodG1sX2I0ZDc4OTEzMzBiMTQ1NWJiZGQwZGEyNDI3YmU5MTQ3IiBzdHlsZT0id2lkdGg6IDEwMC4wJTsgaGVpZ2h0OiAxMDAuMCU7Ij5Ib3RlbCBCYXI8L2Rpdj5gKVswXTsKICAgICAgICAgICAgcG9wdXBfNGQ4NGU0NjhlMWI1NGI0Mjk3MzA0YTYwODM0ZmNlMzcuc2V0Q29udGVudChodG1sX2I0ZDc4OTEzMzBiMTQ1NWJiZGQwZGEyNDI3YmU5MTQ3KTsKICAgICAgICAKCiAgICAgICAgY2lyY2xlX21hcmtlcl85YzMxY2JmY2U5YjE0OTZiOTY1N2ZmMjM4NjQ3NDMyZS5iaW5kUG9wdXAocG9wdXBfNGQ4NGU0NjhlMWI1NGI0Mjk3MzA0YTYwODM0ZmNlMzcpCiAgICAgICAgOwoKICAgICAgICAKICAgIAogICAgCiAgICAgICAgICAgIHZhciBjaXJjbGVfbWFya2VyXzMyZGI3ZWFlMzM1NzQ1MjQ4MzhjN2RiMjVjNzhkMTE5ID0gTC5jaXJjbGVNYXJrZXIoCiAgICAgICAgICAgICAgICBbMzEuNjE4NjgyNDYxOTc0NzI1LCAtOC4wMDgzMTc5MzMwOTA0MzldLAogICAgICAgICAgICAgICAgeyJidWJibGluZ01vdXNlRXZlbnRzIjogdHJ1ZSwgImNvbG9yIjogImJsdWUiLCAiZGFzaEFycmF5IjogbnVsbCwgImRhc2hPZmZzZXQiOiBudWxsLCAiZmlsbCI6IHRydWUsICJmaWxsQ29sb3IiOiAiYmx1ZSIsICJmaWxsT3BhY2l0eSI6IDAuNiwgImZpbGxSdWxlIjogImV2ZW5vZGQiLCAibGluZUNhcCI6ICJyb3VuZCIsICJsaW5lSm9pbiI6ICJyb3VuZCIsICJvcGFjaXR5IjogMS4wLCAicmFkaXVzIjogNSwgInN0cm9rZSI6IHRydWUsICJ3ZWlnaHQiOiAzfQogICAgICAgICAgICApLmFkZFRvKG1hcF81NDkzMWZlYzg3Njk0Mzk1ODk1N2E2MDQ1Nzc0ZTNhNik7CiAgICAgICAgCiAgICAKICAgICAgICB2YXIgcG9wdXBfNWQ4NTBhYmQyYjE1NDg2ZGJkZmM3YjhkMjhhOWY4MWYgPSBMLnBvcHVwKHsibWF4V2lkdGgiOiAiMTAwJSJ9KTsKCiAgICAgICAgCiAgICAgICAgICAgIHZhciBodG1sX2UyMjFiNmU2Njg1MzQzNTU4Mjg2NGI4ZDgyMWQwYTQ5ID0gJChgPGRpdiBpZD0iaHRtbF9lMjIxYjZlNjY4NTM0MzU1ODI4NjRiOGQ4MjFkMGE0OSIgc3R5bGU9IndpZHRoOiAxMDAuMCU7IGhlaWdodDogMTAwLjAlOyI+QmVhY2ggQmFyPC9kaXY+YClbMF07CiAgICAgICAgICAgIHBvcHVwXzVkODUwYWJkMmIxNTQ4NmRiZGZjN2I4ZDI4YTlmODFmLnNldENvbnRlbnQoaHRtbF9lMjIxYjZlNjY4NTM0MzU1ODI4NjRiOGQ4MjFkMGE0OSk7CiAgICAgICAgCgogICAgICAgIGNpcmNsZV9tYXJrZXJfMzJkYjdlYWUzMzU3NDUyNDgzOGM3ZGIyNWM3OGQxMTkuYmluZFBvcHVwKHBvcHVwXzVkODUwYWJkMmIxNTQ4NmRiZGZjN2I4ZDI4YTlmODFmKQogICAgICAgIDsKCiAgICAgICAgCiAgICAKICAgIAogICAgICAgICAgICB2YXIgY2lyY2xlX21hcmtlcl9iMTk0YzE4MmFiODk0ZjlkOGQ3MWE2NGQwMjAwZTYwNiA9IEwuY2lyY2xlTWFya2VyKAogICAgICAgICAgICAgICAgWzMxLjY0OTAwNCwgLTcuOTM2MTk4N10sCiAgICAgICAgICAgICAgICB7ImJ1YmJsaW5nTW91c2VFdmVudHMiOiB0cnVlLCAiY29sb3IiOiAiYmx1ZSIsICJkYXNoQXJyYXkiOiBudWxsLCAiZGFzaE9mZnNldCI6IG51bGwsICJmaWxsIjogdHJ1ZSwgImZpbGxDb2xvciI6ICJibHVlIiwgImZpbGxPcGFjaXR5IjogMC42LCAiZmlsbFJ1bGUiOiAiZXZlbm9kZCIsICJsaW5lQ2FwIjogInJvdW5kIiwgImxpbmVKb2luIjogInJvdW5kIiwgIm9wYWNpdHkiOiAxLjAsICJyYWRpdXMiOiA1LCAic3Ryb2tlIjogdHJ1ZSwgIndlaWdodCI6IDN9CiAgICAgICAgICAgICkuYWRkVG8obWFwXzU0OTMxZmVjODc2OTQzOTU4OTU3YTYwNDU3NzRlM2E2KTsKICAgICAgICAKICAgIAogICAgICAgIHZhciBwb3B1cF9kNjVlNDdhNmUzMjg0OWFiYjliYWYwNTkzOGY0OGYxMyA9IEwucG9wdXAoeyJtYXhXaWR0aCI6ICIxMDAlIn0pOwoKICAgICAgICAKICAgICAgICAgICAgdmFyIGh0bWxfNzQ1YzY2MjBjMzRiNGJiYjg0ZGJiZGI5YjA0MGZjNDUgPSAkKGA8ZGl2IGlkPSJodG1sXzc0NWM2NjIwYzM0YjRiYmI4NGRiYmRiOWIwNDBmYzQ1IiBzdHlsZT0id2lkdGg6IDEwMC4wJTsgaGVpZ2h0OiAxMDAuMCU7Ij5Db2ZmZWUgU2hvcDwvZGl2PmApWzBdOwogICAgICAgICAgICBwb3B1cF9kNjVlNDdhNmUzMjg0OWFiYjliYWYwNTkzOGY0OGYxMy5zZXRDb250ZW50KGh0bWxfNzQ1YzY2MjBjMzRiNGJiYjg0ZGJiZGI5YjA0MGZjNDUpOwogICAgICAgIAoKICAgICAgICBjaXJjbGVfbWFya2VyX2IxOTRjMTgyYWI4OTRmOWQ4ZDcxYTY0ZDAyMDBlNjA2LmJpbmRQb3B1cChwb3B1cF9kNjVlNDdhNmUzMjg0OWFiYjliYWYwNTkzOGY0OGYxMykKICAgICAgICA7CgogICAgICAgIAogICAgCiAgICAKICAgICAgICAgICAgdmFyIGNpcmNsZV9tYXJrZXJfNDk4YjMwNWZiMDFjNDdhMDk5MzNkODM4N2VmNTkxNDAgPSBMLmNpcmNsZU1hcmtlcigKICAgICAgICAgICAgICAgIFszMS42MjgzNDE5ODMyMjA2MywgLTguMDA2MzYzMzQ1MzAzMjEyXSwKICAgICAgICAgICAgICAgIHsiYnViYmxpbmdNb3VzZUV2ZW50cyI6IHRydWUsICJjb2xvciI6ICJibHVlIiwgImRhc2hBcnJheSI6IG51bGwsICJkYXNoT2Zmc2V0IjogbnVsbCwgImZpbGwiOiB0cnVlLCAiZmlsbENvbG9yIjogImJsdWUiLCAiZmlsbE9wYWNpdHkiOiAwLjYsICJmaWxsUnVsZSI6ICJldmVub2RkIiwgImxpbmVDYXAiOiAicm91bmQiLCAibGluZUpvaW4iOiAicm91bmQiLCAib3BhY2l0eSI6IDEuMCwgInJhZGl1cyI6IDUsICJzdHJva2UiOiB0cnVlLCAid2VpZ2h0IjogM30KICAgICAgICAgICAgKS5hZGRUbyhtYXBfNTQ5MzFmZWM4NzY5NDM5NTg5NTdhNjA0NTc3NGUzYTYpOwogICAgICAgIAogICAgCiAgICAgICAgdmFyIHBvcHVwXzNmOGE5NjVhMzI5YjQxNDFhOTNlNTMzY2Y1YTQzYzUyID0gTC5wb3B1cCh7Im1heFdpZHRoIjogIjEwMCUifSk7CgogICAgICAgIAogICAgICAgICAgICB2YXIgaHRtbF84ZmM2ODIwZmFiNmI0NTAxYjEyM2VmZmY1ZGQyNzJjOSA9ICQoYDxkaXYgaWQ9Imh0bWxfOGZjNjgyMGZhYjZiNDUwMWIxMjNlZmZmNWRkMjcyYzkiIHN0eWxlPSJ3aWR0aDogMTAwLjAlOyBoZWlnaHQ6IDEwMC4wJTsiPlBvb2w8L2Rpdj5gKVswXTsKICAgICAgICAgICAgcG9wdXBfM2Y4YTk2NWEzMjliNDE0MWE5M2U1MzNjZjVhNDNjNTIuc2V0Q29udGVudChodG1sXzhmYzY4MjBmYWI2YjQ1MDFiMTIzZWZmZjVkZDI3MmM5KTsKICAgICAgICAKCiAgICAgICAgY2lyY2xlX21hcmtlcl80OThiMzA1ZmIwMWM0N2EwOTkzM2Q4Mzg3ZWY1OTE0MC5iaW5kUG9wdXAocG9wdXBfM2Y4YTk2NWEzMjliNDE0MWE5M2U1MzNjZjVhNDNjNTIpCiAgICAgICAgOwoKICAgICAgICAKICAgIAogICAgCiAgICAgICAgICAgIHZhciBjaXJjbGVfbWFya2VyXzZlMTcwODcxMTc3NTQ1MjBhMjYzZTA1MjY3YWYwZGU5ID0gTC5jaXJjbGVNYXJrZXIoCiAgICAgICAgICAgICAgICBbMzEuNjMyMTM5LCAtOC4wMTAyNjRdLAogICAgICAgICAgICAgICAgeyJidWJibGluZ01vdXNlRXZlbnRzIjogdHJ1ZSwgImNvbG9yIjogImJsdWUiLCAiZGFzaEFycmF5IjogbnVsbCwgImRhc2hPZmZzZXQiOiBudWxsLCAiZmlsbCI6IHRydWUsICJmaWxsQ29sb3IiOiAiYmx1ZSIsICJmaWxsT3BhY2l0eSI6IDAuNiwgImZpbGxSdWxlIjogImV2ZW5vZGQiLCAibGluZUNhcCI6ICJyb3VuZCIsICJsaW5lSm9pbiI6ICJyb3VuZCIsICJvcGFjaXR5IjogMS4wLCAicmFkaXVzIjogNSwgInN0cm9rZSI6IHRydWUsICJ3ZWlnaHQiOiAzfQogICAgICAgICAgICApLmFkZFRvKG1hcF81NDkzMWZlYzg3Njk0Mzk1ODk1N2E2MDQ1Nzc0ZTNhNik7CiAgICAgICAgCiAgICAKICAgICAgICB2YXIgcG9wdXBfNWE2Y2MyZjM5Zjc1NDQ5MDk3Njc4ZDZiNjJlYTMwNGMgPSBMLnBvcHVwKHsibWF4V2lkdGgiOiAiMTAwJSJ9KTsKCiAgICAgICAgCiAgICAgICAgICAgIHZhciBodG1sXzhjNzA3YWEzZDhlMjQ2MzRiMWQwODIzYzMwNDE4ODg3ID0gJChgPGRpdiBpZD0iaHRtbF84YzcwN2FhM2Q4ZTI0NjM0YjFkMDgyM2MzMDQxODg4NyIgc3R5bGU9IndpZHRoOiAxMDAuMCU7IGhlaWdodDogMTAwLjAlOyI+QmFyPC9kaXY+YClbMF07CiAgICAgICAgICAgIHBvcHVwXzVhNmNjMmYzOWY3NTQ0OTA5NzY3OGQ2YjYyZWEzMDRjLnNldENvbnRlbnQoaHRtbF84YzcwN2FhM2Q4ZTI0NjM0YjFkMDgyM2MzMDQxODg4Nyk7CiAgICAgICAgCgogICAgICAgIGNpcmNsZV9tYXJrZXJfNmUxNzA4NzExNzc1NDUyMGEyNjNlMDUyNjdhZjBkZTkuYmluZFBvcHVwKHBvcHVwXzVhNmNjMmYzOWY3NTQ0OTA5NzY3OGQ2YjYyZWEzMDRjKQogICAgICAgIDsKCiAgICAgICAgCiAgICAKICAgIAogICAgICAgICAgICB2YXIgY2lyY2xlX21hcmtlcl82ZGJiNGIyYTNjODA0ZGZlYmM1NzUzNzM4YmU4MGJiZiA9IEwuY2lyY2xlTWFya2VyKAogICAgICAgICAgICAgICAgWzMxLjYzNDAwMzM0MDYzMjY4LCAtOC4wMTEyMzU0MTIzODQxOTddLAogICAgICAgICAgICAgICAgeyJidWJibGluZ01vdXNlRXZlbnRzIjogdHJ1ZSwgImNvbG9yIjogImJsdWUiLCAiZGFzaEFycmF5IjogbnVsbCwgImRhc2hPZmZzZXQiOiBudWxsLCAiZmlsbCI6IHRydWUsICJmaWxsQ29sb3IiOiAiYmx1ZSIsICJmaWxsT3BhY2l0eSI6IDAuNiwgImZpbGxSdWxlIjogImV2ZW5vZGQiLCAibGluZUNhcCI6ICJyb3VuZCIsICJsaW5lSm9pbiI6ICJyb3VuZCIsICJvcGFjaXR5IjogMS4wLCAicmFkaXVzIjogNSwgInN0cm9rZSI6IHRydWUsICJ3ZWlnaHQiOiAzfQogICAgICAgICAgICApLmFkZFRvKG1hcF81NDkzMWZlYzg3Njk0Mzk1ODk1N2E2MDQ1Nzc0ZTNhNik7CiAgICAgICAgCiAgICAKICAgICAgICB2YXIgcG9wdXBfNjQzZmEzODVjNDk1NDNlODg1NjYwNjkwNWYyZWRhYWEgPSBMLnBvcHVwKHsibWF4V2lkdGgiOiAiMTAwJSJ9KTsKCiAgICAgICAgCiAgICAgICAgICAgIHZhciBodG1sXzM3MzRmOTE5MmYyODRhZGViZjQ0YjRmMmQ1ZDAzYzYwID0gJChgPGRpdiBpZD0iaHRtbF8zNzM0ZjkxOTJmMjg0YWRlYmY0NGI0ZjJkNWQwM2M2MCIgc3R5bGU9IndpZHRoOiAxMDAuMCU7IGhlaWdodDogMTAwLjAlOyI+QmFyPC9kaXY+YClbMF07CiAgICAgICAgICAgIHBvcHVwXzY0M2ZhMzg1YzQ5NTQzZTg4NTY2MDY5MDVmMmVkYWFhLnNldENvbnRlbnQoaHRtbF8zNzM0ZjkxOTJmMjg0YWRlYmY0NGI0ZjJkNWQwM2M2MCk7CiAgICAgICAgCgogICAgICAgIGNpcmNsZV9tYXJrZXJfNmRiYjRiMmEzYzgwNGRmZWJjNTc1MzczOGJlODBiYmYuYmluZFBvcHVwKHBvcHVwXzY0M2ZhMzg1YzQ5NTQzZTg4NTY2MDY5MDVmMmVkYWFhKQogICAgICAgIDsKCiAgICAgICAgCiAgICAKICAgIAogICAgICAgICAgICB2YXIgY2lyY2xlX21hcmtlcl81YzI2ODE1NzM5ZjI0NjRmYmI2NmI5ODczZTJlMWMwNyA9IEwuY2lyY2xlTWFya2VyKAogICAgICAgICAgICAgICAgWzMxLjYyMDU3NywgLTguMDA0OTU1XSwKICAgICAgICAgICAgICAgIHsiYnViYmxpbmdNb3VzZUV2ZW50cyI6IHRydWUsICJjb2xvciI6ICJibHVlIiwgImRhc2hBcnJheSI6IG51bGwsICJkYXNoT2Zmc2V0IjogbnVsbCwgImZpbGwiOiB0cnVlLCAiZmlsbENvbG9yIjogImJsdWUiLCAiZmlsbE9wYWNpdHkiOiAwLjYsICJmaWxsUnVsZSI6ICJldmVub2RkIiwgImxpbmVDYXAiOiAicm91bmQiLCAibGluZUpvaW4iOiAicm91bmQiLCAib3BhY2l0eSI6IDEuMCwgInJhZGl1cyI6IDUsICJzdHJva2UiOiB0cnVlLCAid2VpZ2h0IjogM30KICAgICAgICAgICAgKS5hZGRUbyhtYXBfNTQ5MzFmZWM4NzY5NDM5NTg5NTdhNjA0NTc3NGUzYTYpOwogICAgICAgIAogICAgCiAgICAgICAgdmFyIHBvcHVwXzFjYTczZjZiNGFiNzQ5MDJhYjQ1ZWMxMDU5NDNhMTZkID0gTC5wb3B1cCh7Im1heFdpZHRoIjogIjEwMCUifSk7CgogICAgICAgIAogICAgICAgICAgICB2YXIgaHRtbF84ZjAxZWFhMzFkMjA0YzE4YmM1NjNhOTJiOWNmMzI0OSA9ICQoYDxkaXYgaWQ9Imh0bWxfOGYwMWVhYTMxZDIwNGMxOGJjNTYzYTkyYjljZjMyNDkiIHN0eWxlPSJ3aWR0aDogMTAwLjAlOyBoZWlnaHQ6IDEwMC4wJTsiPkNvY2t0YWlsIEJhcjwvZGl2PmApWzBdOwogICAgICAgICAgICBwb3B1cF8xY2E3M2Y2YjRhYjc0OTAyYWI0NWVjMTA1OTQzYTE2ZC5zZXRDb250ZW50KGh0bWxfOGYwMWVhYTMxZDIwNGMxOGJjNTYzYTkyYjljZjMyNDkpOwogICAgICAgIAoKICAgICAgICBjaXJjbGVfbWFya2VyXzVjMjY4MTU3MzlmMjQ2NGZiYjY2Yjk4NzNlMmUxYzA3LmJpbmRQb3B1cChwb3B1cF8xY2E3M2Y2YjRhYjc0OTAyYWI0NWVjMTA1OTQzYTE2ZCkKICAgICAgICA7CgogICAgICAgIAogICAgCiAgICAKICAgICAgICAgICAgdmFyIGNpcmNsZV9tYXJrZXJfNDNhN2M5YzAwMTY0NDk4OWE0MTIyYTBjY2E3N2VhOGQgPSBMLmNpcmNsZU1hcmtlcigKICAgICAgICAgICAgICAgIFszMS42MjYwNTk5MTE5NTcyNTYsIC03Ljk5MDQxODQzMjQ4OTA2MV0sCiAgICAgICAgICAgICAgICB7ImJ1YmJsaW5nTW91c2VFdmVudHMiOiB0cnVlLCAiY29sb3IiOiAiYmx1ZSIsICJkYXNoQXJyYXkiOiBudWxsLCAiZGFzaE9mZnNldCI6IG51bGwsICJmaWxsIjogdHJ1ZSwgImZpbGxDb2xvciI6ICJibHVlIiwgImZpbGxPcGFjaXR5IjogMC42LCAiZmlsbFJ1bGUiOiAiZXZlbm9kZCIsICJsaW5lQ2FwIjogInJvdW5kIiwgImxpbmVKb2luIjogInJvdW5kIiwgIm9wYWNpdHkiOiAxLjAsICJyYWRpdXMiOiA1LCAic3Ryb2tlIjogdHJ1ZSwgIndlaWdodCI6IDN9CiAgICAgICAgICAgICkuYWRkVG8obWFwXzU0OTMxZmVjODc2OTQzOTU4OTU3YTYwNDU3NzRlM2E2KTsKICAgICAgICAKICAgIAogICAgICAgIHZhciBwb3B1cF9hMDBlOWY4YTMyN2U0ZTY5OTlmYThlMzY1Y2RiNjI4YiA9IEwucG9wdXAoeyJtYXhXaWR0aCI6ICIxMDAlIn0pOwoKICAgICAgICAKICAgICAgICAgICAgdmFyIGh0bWxfYWVhYTI3ZTRiYzBlNDlhYWEyOWU0N2Q0ZTcyZWY5OTEgPSAkKGA8ZGl2IGlkPSJodG1sX2FlYWEyN2U0YmMwZTQ5YWFhMjllNDdkNGU3MmVmOTkxIiBzdHlsZT0id2lkdGg6IDEwMC4wJTsgaGVpZ2h0OiAxMDAuMCU7Ij5Nb3JvY2NhbiBSZXN0YXVyYW50PC9kaXY+YClbMF07CiAgICAgICAgICAgIHBvcHVwX2EwMGU5ZjhhMzI3ZTRlNjk5OWZhOGUzNjVjZGI2MjhiLnNldENvbnRlbnQoaHRtbF9hZWFhMjdlNGJjMGU0OWFhYTI5ZTQ3ZDRlNzJlZjk5MSk7CiAgICAgICAgCgogICAgICAgIGNpcmNsZV9tYXJrZXJfNDNhN2M5YzAwMTY0NDk4OWE0MTIyYTBjY2E3N2VhOGQuYmluZFBvcHVwKHBvcHVwX2EwMGU5ZjhhMzI3ZTRlNjk5OWZhOGUzNjVjZGI2MjhiKQogICAgICAgIDsKCiAgICAgICAgCiAgICAKICAgIAogICAgICAgICAgICB2YXIgY2lyY2xlX21hcmtlcl81ZmVkOGRkNjllNmU0NGU4YjhjZTYwZWEzOTk4NjhjMyA9IEwuY2lyY2xlTWFya2VyKAogICAgICAgICAgICAgICAgWzMxLjYyODMwNywgLTguMDA3NDEyXSwKICAgICAgICAgICAgICAgIHsiYnViYmxpbmdNb3VzZUV2ZW50cyI6IHRydWUsICJjb2xvciI6ICJibHVlIiwgImRhc2hBcnJheSI6IG51bGwsICJkYXNoT2Zmc2V0IjogbnVsbCwgImZpbGwiOiB0cnVlLCAiZmlsbENvbG9yIjogImJsdWUiLCAiZmlsbE9wYWNpdHkiOiAwLjYsICJmaWxsUnVsZSI6ICJldmVub2RkIiwgImxpbmVDYXAiOiAicm91bmQiLCAibGluZUpvaW4iOiAicm91bmQiLCAib3BhY2l0eSI6IDEuMCwgInJhZGl1cyI6IDUsICJzdHJva2UiOiB0cnVlLCAid2VpZ2h0IjogM30KICAgICAgICAgICAgKS5hZGRUbyhtYXBfNTQ5MzFmZWM4NzY5NDM5NTg5NTdhNjA0NTc3NGUzYTYpOwogICAgICAgIAogICAgCiAgICAgICAgdmFyIHBvcHVwXzlkMDczNmZkNjc3MDQ5OWVhNWZjMDZhMDAyYTllZmZiID0gTC5wb3B1cCh7Im1heFdpZHRoIjogIjEwMCUifSk7CgogICAgICAgIAogICAgICAgICAgICB2YXIgaHRtbF85ZjkzYzI1MjJkNWM0MWEzYjVjZDA5OTUxZjdkMGQzMyA9ICQoYDxkaXYgaWQ9Imh0bWxfOWY5M2MyNTIyZDVjNDFhM2I1Y2QwOTk1MWY3ZDBkMzMiIHN0eWxlPSJ3aWR0aDogMTAwLjAlOyBoZWlnaHQ6IDEwMC4wJTsiPk5haWwgU2Fsb248L2Rpdj5gKVswXTsKICAgICAgICAgICAgcG9wdXBfOWQwNzM2ZmQ2NzcwNDk5ZWE1ZmMwNmEwMDJhOWVmZmIuc2V0Q29udGVudChodG1sXzlmOTNjMjUyMmQ1YzQxYTNiNWNkMDk5NTFmN2QwZDMzKTsKICAgICAgICAKCiAgICAgICAgY2lyY2xlX21hcmtlcl81ZmVkOGRkNjllNmU0NGU4YjhjZTYwZWEzOTk4NjhjMy5iaW5kUG9wdXAocG9wdXBfOWQwNzM2ZmQ2NzcwNDk5ZWE1ZmMwNmEwMDJhOWVmZmIpCiAgICAgICAgOwoKICAgICAgICAKICAgIAogICAgCiAgICAgICAgICAgIHZhciBjaXJjbGVfbWFya2VyXzE0YjkyNTg1NDRjNDQ5ZGU4ODljMGY4ZmE0MDc5OGU5ID0gTC5jaXJjbGVNYXJrZXIoCiAgICAgICAgICAgICAgICBbMzEuNjIyNTQsIC04LjAwNjIyXSwKICAgICAgICAgICAgICAgIHsiYnViYmxpbmdNb3VzZUV2ZW50cyI6IHRydWUsICJjb2xvciI6ICJibHVlIiwgImRhc2hBcnJheSI6IG51bGwsICJkYXNoT2Zmc2V0IjogbnVsbCwgImZpbGwiOiB0cnVlLCAiZmlsbENvbG9yIjogImJsdWUiLCAiZmlsbE9wYWNpdHkiOiAwLjYsICJmaWxsUnVsZSI6ICJldmVub2RkIiwgImxpbmVDYXAiOiAicm91bmQiLCAibGluZUpvaW4iOiAicm91bmQiLCAib3BhY2l0eSI6IDEuMCwgInJhZGl1cyI6IDUsICJzdHJva2UiOiB0cnVlLCAid2VpZ2h0IjogM30KICAgICAgICAgICAgKS5hZGRUbyhtYXBfNTQ5MzFmZWM4NzY5NDM5NTg5NTdhNjA0NTc3NGUzYTYpOwogICAgICAgIAogICAgCiAgICAgICAgdmFyIHBvcHVwXzljYmM2Yjk3OGY0OTRhMDA5OTQzZmM2MzVmMTEyNzcyID0gTC5wb3B1cCh7Im1heFdpZHRoIjogIjEwMCUifSk7CgogICAgICAgIAogICAgICAgICAgICB2YXIgaHRtbF8yMjljNTE2YzRjNGY0ZjU5OGIxMTg3Yjc1OTU2OThjYiA9ICQoYDxkaXYgaWQ9Imh0bWxfMjI5YzUxNmM0YzRmNGY1OThiMTE4N2I3NTk1Njk4Y2IiIHN0eWxlPSJ3aWR0aDogMTAwLjAlOyBoZWlnaHQ6IDEwMC4wJTsiPlJlc29ydDwvZGl2PmApWzBdOwogICAgICAgICAgICBwb3B1cF85Y2JjNmI5NzhmNDk0YTAwOTk0M2ZjNjM1ZjExMjc3Mi5zZXRDb250ZW50KGh0bWxfMjI5YzUxNmM0YzRmNGY1OThiMTE4N2I3NTk1Njk4Y2IpOwogICAgICAgIAoKICAgICAgICBjaXJjbGVfbWFya2VyXzE0YjkyNTg1NDRjNDQ5ZGU4ODljMGY4ZmE0MDc5OGU5LmJpbmRQb3B1cChwb3B1cF85Y2JjNmI5NzhmNDk0YTAwOTk0M2ZjNjM1ZjExMjc3MikKICAgICAgICA7CgogICAgICAgIAogICAgCiAgICAKICAgICAgICAgICAgdmFyIGNpcmNsZV9tYXJrZXJfZmY1NzI4OWU3YzA2NDBiOWE1YWE3ZWYwZjFkNzdlZjkgPSBMLmNpcmNsZU1hcmtlcigKICAgICAgICAgICAgICAgIFszMS42MzE2NzQ1MDAyMzM0ODcsIC04LjAxMzE1NzcwNjQxMzgwNV0sCiAgICAgICAgICAgICAgICB7ImJ1YmJsaW5nTW91c2VFdmVudHMiOiB0cnVlLCAiY29sb3IiOiAiYmx1ZSIsICJkYXNoQXJyYXkiOiBudWxsLCAiZGFzaE9mZnNldCI6IG51bGwsICJmaWxsIjogdHJ1ZSwgImZpbGxDb2xvciI6ICJibHVlIiwgImZpbGxPcGFjaXR5IjogMC42LCAiZmlsbFJ1bGUiOiAiZXZlbm9kZCIsICJsaW5lQ2FwIjogInJvdW5kIiwgImxpbmVKb2luIjogInJvdW5kIiwgIm9wYWNpdHkiOiAxLjAsICJyYWRpdXMiOiA1LCAic3Ryb2tlIjogdHJ1ZSwgIndlaWdodCI6IDN9CiAgICAgICAgICAgICkuYWRkVG8obWFwXzU0OTMxZmVjODc2OTQzOTU4OTU3YTYwNDU3NzRlM2E2KTsKICAgICAgICAKICAgIAogICAgICAgIHZhciBwb3B1cF8yMjI0N2Y2MWQ0NzM0MDZlYmZlOTJiNGQyMDJmNmVmMiA9IEwucG9wdXAoeyJtYXhXaWR0aCI6ICIxMDAlIn0pOwoKICAgICAgICAKICAgICAgICAgICAgdmFyIGh0bWxfOWY3NDNkYmQ2MmM1NGRhNTgzMDZiN2M5ZGViZTYyMTQgPSAkKGA8ZGl2IGlkPSJodG1sXzlmNzQzZGJkNjJjNTRkYTU4MzA2YjdjOWRlYmU2MjE0IiBzdHlsZT0id2lkdGg6IDEwMC4wJTsgaGVpZ2h0OiAxMDAuMCU7Ij5CYXI8L2Rpdj5gKVswXTsKICAgICAgICAgICAgcG9wdXBfMjIyNDdmNjFkNDczNDA2ZWJmZTkyYjRkMjAyZjZlZjIuc2V0Q29udGVudChodG1sXzlmNzQzZGJkNjJjNTRkYTU4MzA2YjdjOWRlYmU2MjE0KTsKICAgICAgICAKCiAgICAgICAgY2lyY2xlX21hcmtlcl9mZjU3Mjg5ZTdjMDY0MGI5YTVhYTdlZjBmMWQ3N2VmOS5iaW5kUG9wdXAocG9wdXBfMjIyNDdmNjFkNDczNDA2ZWJmZTkyYjRkMjAyZjZlZjIpCiAgICAgICAgOwoKICAgICAgICAKICAgIAogICAgCiAgICAgICAgICAgIHZhciBjaXJjbGVfbWFya2VyXzFjNTVjYzBiMGE4ZTRmYzdiZTg0MzUwODgzYTE2NGZlID0gTC5jaXJjbGVNYXJrZXIoCiAgICAgICAgICAgICAgICBbMzEuNjI5MjY5LCAtOC4wMDgwMzVdLAogICAgICAgICAgICAgICAgeyJidWJibGluZ01vdXNlRXZlbnRzIjogdHJ1ZSwgImNvbG9yIjogImJsdWUiLCAiZGFzaEFycmF5IjogbnVsbCwgImRhc2hPZmZzZXQiOiBudWxsLCAiZmlsbCI6IHRydWUsICJmaWxsQ29sb3IiOiAiYmx1ZSIsICJmaWxsT3BhY2l0eSI6IDAuNiwgImZpbGxSdWxlIjogImV2ZW5vZGQiLCAibGluZUNhcCI6ICJyb3VuZCIsICJsaW5lSm9pbiI6ICJyb3VuZCIsICJvcGFjaXR5IjogMS4wLCAicmFkaXVzIjogNSwgInN0cm9rZSI6IHRydWUsICJ3ZWlnaHQiOiAzfQogICAgICAgICAgICApLmFkZFRvKG1hcF81NDkzMWZlYzg3Njk0Mzk1ODk1N2E2MDQ1Nzc0ZTNhNik7CiAgICAgICAgCiAgICAKICAgICAgICB2YXIgcG9wdXBfYTc3MzhkMzg0NTkxNDA5YWI3YzUxYTE2YTdmMzdhMGUgPSBMLnBvcHVwKHsibWF4V2lkdGgiOiAiMTAwJSJ9KTsKCiAgICAgICAgCiAgICAgICAgICAgIHZhciBodG1sX2NlMDUwM2JiNzRlYTQxYjk4MGI1ZmY4MDM2ZmY0MWU5ID0gJChgPGRpdiBpZD0iaHRtbF9jZTA1MDNiYjc0ZWE0MWI5ODBiNWZmODAzNmZmNDFlOSIgc3R5bGU9IndpZHRoOiAxMDAuMCU7IGhlaWdodDogMTAwLjAlOyI+QmFyPC9kaXY+YClbMF07CiAgICAgICAgICAgIHBvcHVwX2E3NzM4ZDM4NDU5MTQwOWFiN2M1MWExNmE3ZjM3YTBlLnNldENvbnRlbnQoaHRtbF9jZTA1MDNiYjc0ZWE0MWI5ODBiNWZmODAzNmZmNDFlOSk7CiAgICAgICAgCgogICAgICAgIGNpcmNsZV9tYXJrZXJfMWM1NWNjMGIwYThlNGZjN2JlODQzNTA4ODNhMTY0ZmUuYmluZFBvcHVwKHBvcHVwX2E3NzM4ZDM4NDU5MTQwOWFiN2M1MWExNmE3ZjM3YTBlKQogICAgICAgIDsKCiAgICAgICAgCiAgICAKICAgIAogICAgICAgICAgICB2YXIgY2lyY2xlX21hcmtlcl85ZWRkZTVmYzk3ZmY0Y2Q3OTNhZjkxZTA2ODNiZmU1NCA9IEwuY2lyY2xlTWFya2VyKAogICAgICAgICAgICAgICAgWzMxLjY4NjQ3MSwgLTcuOTc0MDA1XSwKICAgICAgICAgICAgICAgIHsiYnViYmxpbmdNb3VzZUV2ZW50cyI6IHRydWUsICJjb2xvciI6ICJibHVlIiwgImRhc2hBcnJheSI6IG51bGwsICJkYXNoT2Zmc2V0IjogbnVsbCwgImZpbGwiOiB0cnVlLCAiZmlsbENvbG9yIjogImJsdWUiLCAiZmlsbE9wYWNpdHkiOiAwLjYsICJmaWxsUnVsZSI6ICJldmVub2RkIiwgImxpbmVDYXAiOiAicm91bmQiLCAibGluZUpvaW4iOiAicm91bmQiLCAib3BhY2l0eSI6IDEuMCwgInJhZGl1cyI6IDUsICJzdHJva2UiOiB0cnVlLCAid2VpZ2h0IjogM30KICAgICAgICAgICAgKS5hZGRUbyhtYXBfNTQ5MzFmZWM4NzY5NDM5NTg5NTdhNjA0NTc3NGUzYTYpOwogICAgICAgIAogICAgCiAgICAgICAgdmFyIHBvcHVwXzRjYjg0NWY1NGI5MjQzZGY5ZTA5YzNiZGRhYjhlZWQyID0gTC5wb3B1cCh7Im1heFdpZHRoIjogIjEwMCUifSk7CgogICAgICAgIAogICAgICAgICAgICB2YXIgaHRtbF84ZmQ5NGRkZjUwOTk0NTcwOWI0Njc5MjkxYjAxNGI2NSA9ICQoYDxkaXYgaWQ9Imh0bWxfOGZkOTRkZGY1MDk5NDU3MDliNDY3OTI5MWIwMTRiNjUiIHN0eWxlPSJ3aWR0aDogMTAwLjAlOyBoZWlnaHQ6IDEwMC4wJTsiPkhvdGVsIEJhcjwvZGl2PmApWzBdOwogICAgICAgICAgICBwb3B1cF80Y2I4NDVmNTRiOTI0M2RmOWUwOWMzYmRkYWI4ZWVkMi5zZXRDb250ZW50KGh0bWxfOGZkOTRkZGY1MDk5NDU3MDliNDY3OTI5MWIwMTRiNjUpOwogICAgICAgIAoKICAgICAgICBjaXJjbGVfbWFya2VyXzllZGRlNWZjOTdmZjRjZDc5M2FmOTFlMDY4M2JmZTU0LmJpbmRQb3B1cChwb3B1cF80Y2I4NDVmNTRiOTI0M2RmOWUwOWMzYmRkYWI4ZWVkMikKICAgICAgICA7CgogICAgICAgIAogICAgCiAgICAKICAgICAgICAgICAgdmFyIGNpcmNsZV9tYXJrZXJfZDFhY2UzMjY1ZjZjNDI3M2I1ZjhjMmM3NDcxMmI1ODYgPSBMLmNpcmNsZU1hcmtlcigKICAgICAgICAgICAgICAgIFszMS42MTkwNzIyNzczMjg5ODYsIC04LjAwOTI5NjQ2NDY3NjIyXSwKICAgICAgICAgICAgICAgIHsiYnViYmxpbmdNb3VzZUV2ZW50cyI6IHRydWUsICJjb2xvciI6ICJibHVlIiwgImRhc2hBcnJheSI6IG51bGwsICJkYXNoT2Zmc2V0IjogbnVsbCwgImZpbGwiOiB0cnVlLCAiZmlsbENvbG9yIjogImJsdWUiLCAiZmlsbE9wYWNpdHkiOiAwLjYsICJmaWxsUnVsZSI6ICJldmVub2RkIiwgImxpbmVDYXAiOiAicm91bmQiLCAibGluZUpvaW4iOiAicm91bmQiLCAib3BhY2l0eSI6IDEuMCwgInJhZGl1cyI6IDUsICJzdHJva2UiOiB0cnVlLCAid2VpZ2h0IjogM30KICAgICAgICAgICAgKS5hZGRUbyhtYXBfNTQ5MzFmZWM4NzY5NDM5NTg5NTdhNjA0NTc3NGUzYTYpOwogICAgICAgIAogICAgCiAgICAgICAgdmFyIHBvcHVwXzgzZjE0YWNiZWU5YTQ3NzdiZmM0NWY4YjE3YzhhZjhmID0gTC5wb3B1cCh7Im1heFdpZHRoIjogIjEwMCUifSk7CgogICAgICAgIAogICAgICAgICAgICB2YXIgaHRtbF8xNzY5YWYxZTc0MzM0MGZkYTkzNzM0YWVhMzNiZjE2YiA9ICQoYDxkaXYgaWQ9Imh0bWxfMTc2OWFmMWU3NDMzNDBmZGE5MzczNGFlYTMzYmYxNmIiIHN0eWxlPSJ3aWR0aDogMTAwLjAlOyBoZWlnaHQ6IDEwMC4wJTsiPlRleC1NZXggUmVzdGF1cmFudDwvZGl2PmApWzBdOwogICAgICAgICAgICBwb3B1cF84M2YxNGFjYmVlOWE0Nzc3YmZjNDVmOGIxN2M4YWY4Zi5zZXRDb250ZW50KGh0bWxfMTc2OWFmMWU3NDMzNDBmZGE5MzczNGFlYTMzYmYxNmIpOwogICAgICAgIAoKICAgICAgICBjaXJjbGVfbWFya2VyX2QxYWNlMzI2NWY2YzQyNzNiNWY4YzJjNzQ3MTJiNTg2LmJpbmRQb3B1cChwb3B1cF84M2YxNGFjYmVlOWE0Nzc3YmZjNDVmOGIxN2M4YWY4ZikKICAgICAgICA7CgogICAgICAgIAogICAgCjwvc2NyaXB0Pg== onload=\"this.contentDocument.open();this.contentDocument.write(atob(this.getAttribute('data-html')));this.contentDocument.close();\" allowfullscreen webkitallowfullscreen mozallowfullscreen></iframe></div></div>"
      ],
      "text/plain": [
       "<folium.folium.Map at 0x1488da48e80>"
      ]
     },
     "execution_count": 27,
     "metadata": {},
     "output_type": "execute_result"
    }
   ],
   "source": [
    "venues_map = folium.Map(location=[latitude, longitude], zoom_start=13) \n",
    "\n",
    "\n",
    "folium.CircleMarker(\n",
    "    [latitude, longitude],\n",
    "    radius=10,\n",
    "    color='red',\n",
    "    fill = True,\n",
    "    fill_color = 'red',\n",
    "    fill_opacity = 0.6\n",
    ").add_to(venues_map)\n",
    "\n",
    "\n",
    "for lat, lng, label in zip(dataframe_filtered.lat, dataframe_filtered.lng, dataframe_filtered.categories):\n",
    "    folium.CircleMarker(\n",
    "        [lat, lng],\n",
    "        radius=5,\n",
    "        color='blue',\n",
    "        popup=label,\n",
    "        fill = True,\n",
    "        fill_color='blue',\n",
    "        fill_opacity=0.6\n",
    "    ).add_to(venues_map)\n",
    "\n",
    "# display map\n",
    "venues_map"
   ]
  },
  {
   "cell_type": "markdown",
   "metadata": {
    "button": false,
    "new_sheet": false,
    "run_control": {
     "read_only": false
    }
   },
   "source": [
    "\n"
   ]
  },
  {
   "cell_type": "markdown",
   "metadata": {
    "button": false,
    "new_sheet": false,
    "run_control": {
     "read_only": false
    }
   },
   "source": [
    "<a id=\"item2\"></a>\n"
   ]
  },
  {
   "cell_type": "markdown",
   "metadata": {
    "button": false,
    "new_sheet": false,
    "run_control": {
     "read_only": false
    }
   },
   "source": [
    "## 2. Explore a Given Venue\n",
    "\n"
   ]
  },
  {
   "cell_type": "markdown",
   "metadata": {
    "button": false,
    "new_sheet": false,
    "run_control": {
     "read_only": false
    }
   },
   "source": [
    "### A. Let's explore the closest One-- _Inara Bar and Lounge at Four Seasons Resort Marrakech_\n"
   ]
  },
  {
   "cell_type": "code",
   "execution_count": 35,
   "metadata": {
    "button": false,
    "jupyter": {
     "outputs_hidden": false
    },
    "new_sheet": false,
    "run_control": {
     "read_only": false
    }
   },
   "outputs": [
    {
     "data": {
      "text/plain": [
       "'https://api.foursquare.com/v2/venues/4e42ea831fc78b855c199b61?client_id=MFW2HK5GAQTV31UUEMWA3GY5RJHEAWLSH5GMRMD0S5D0B0CG&client_secret=12120DVOH2CZU0YRRNA4JP00V2VDJKL5QTAA035AGNULYO15&oauth_token=E3LQ05DBS5WOS50GX40UGCUVDGCF2HE41UTOS3WSJDJZF3AP&v=20180604'"
      ]
     },
     "execution_count": 35,
     "metadata": {},
     "output_type": "execute_result"
    }
   ],
   "source": [
    "venue_id = '4e42ea831fc78b855c199b61' \n",
    "url = 'https://api.foursquare.com/v2/venues/{}?client_id={}&client_secret={}&oauth_token={}&v={}'.format(venue_id, CLIENT_ID, CLIENT_SECRET,ACCESS_TOKEN, VERSION)\n",
    "url"
   ]
  },
  {
   "cell_type": "markdown",
   "metadata": {
    "button": false,
    "new_sheet": false,
    "run_control": {
     "read_only": false
    }
   },
   "source": [
    "#### Send GET request for result\n"
   ]
  },
  {
   "cell_type": "code",
   "execution_count": 36,
   "metadata": {
    "button": false,
    "jupyter": {
     "outputs_hidden": false
    },
    "new_sheet": false,
    "run_control": {
     "read_only": false
    }
   },
   "outputs": [
    {
     "name": "stdout",
     "output_type": "stream",
     "text": [
      "dict_keys(['id', 'name', 'contact', 'location', 'canonicalUrl', 'categories', 'verified', 'stats', 'url', 'price', 'likes', 'like', 'dislike', 'ok', 'allowMenuUrlEdit', 'beenHere', 'specials', 'photos', 'reasons', 'description', 'storeId', 'page', 'hereNow', 'createdAt', 'tips', 'shortUrl', 'timeZone', 'listed', 'seasonalHours', 'pageUpdates', 'inbox', 'attributes', 'bestPhoto', 'colors'])\n"
     ]
    },
    {
     "data": {
      "text/plain": [
       "{'id': '4e42ea831fc78b855c199b61',\n",
       " 'name': 'Inara Bar and Lounge at Four Seasons Resort Marrakech',\n",
       " 'contact': {'phone': '+212524359200',\n",
       "  'formattedPhone': '+212 5243-59200',\n",
       "  'twitter': 'fourseasons',\n",
       "  'facebook': '106280431030',\n",
       "  'facebookUsername': 'FourSeasons',\n",
       "  'facebookName': 'Four Seasons Hotels and Resorts'},\n",
       " 'location': {'address': '1 Boulevard de la Menara',\n",
       "  'lat': 31.621666920228197,\n",
       "  'lng': -7.984399795532227,\n",
       "  'labeledLatLngs': [{'label': 'display',\n",
       "    'lat': 31.621666920228197,\n",
       "    'lng': -7.984399795532227}],\n",
       "  'postalCode': '40000',\n",
       "  'cc': 'MA',\n",
       "  'city': 'مراكش',\n",
       "  'state': 'Marrakech-Tensift-Al Haouz',\n",
       "  'country': 'المغرب',\n",
       "  'formattedAddress': ['1 Boulevard de la Menara', '40000 مراكش', 'المغرب']},\n",
       " 'canonicalUrl': 'https://foursquare.com/v/inara-bar-and-lounge-at-four-seasons-resort-marrakech/4e42ea831fc78b855c199b61',\n",
       " 'categories': [{'id': '4bf58dd8d48988d121941735',\n",
       "   'name': 'Lounge',\n",
       "   'pluralName': 'Lounges',\n",
       "   'shortName': 'Lounge',\n",
       "   'icon': {'prefix': 'https://ss3.4sqi.net/img/categories_v2/nightlife/default_',\n",
       "    'suffix': '.png'},\n",
       "   'primary': True}],\n",
       " 'verified': True,\n",
       " 'stats': {'tipCount': 0},\n",
       " 'url': 'http://www.fourseasons.com/marrakech/dining/lounges/inara_bar_and_lounge/',\n",
       " 'price': {'tier': 3, 'message': 'Expensive', 'currency': '$'},\n",
       " 'likes': {'count': 1,\n",
       "  'groups': [{'type': 'others',\n",
       "    'count': 1,\n",
       "    'items': [{'id': '2751244',\n",
       "      'isSanctioned': False,\n",
       "      'firstName': 'Byron',\n",
       "      'lastName': 'Wilkes',\n",
       "      'gender': 'none',\n",
       "      'countryCode': 'US',\n",
       "      'photo': {'prefix': 'https://fastly.4sqi.net/img/user/',\n",
       "       'suffix': '/GL2PNVO4EGNHADZA.jpg'}}]}],\n",
       "  'summary': 'Byron Wilkes'},\n",
       " 'like': False,\n",
       " 'dislike': False,\n",
       " 'ok': False,\n",
       " 'allowMenuUrlEdit': True,\n",
       " 'beenHere': {'count': 0,\n",
       "  'unconfirmedCount': 0,\n",
       "  'marked': False,\n",
       "  'lastCheckinExpiredAt': 0},\n",
       " 'specials': {'count': 0, 'items': []},\n",
       " 'photos': {'count': 8,\n",
       "  'groups': [{'type': 'venue',\n",
       "    'name': 'Venue photos',\n",
       "    'count': 8,\n",
       "    'items': [{'id': '5d96f33dcf827200077be020',\n",
       "      'createdAt': 1570173757,\n",
       "      'source': {'name': 'Swarm for iOS', 'url': 'https://www.swarmapp.com'},\n",
       "      'prefix': 'https://fastly.4sqi.net/img/general/',\n",
       "      'suffix': '/407933215_FzI9oTCng_f4JufrSQzLHPvN2MPLZoLcX-LZBaAJOG8.jpg',\n",
       "      'width': 1440,\n",
       "      'height': 1920,\n",
       "      'user': {'id': '407933215',\n",
       "       'isSanctioned': False,\n",
       "       'firstName': 'Marina',\n",
       "       'lastName': 'Budnikova',\n",
       "       'gender': 'female',\n",
       "       'countryCode': 'RU',\n",
       "       'photo': {'prefix': 'https://fastly.4sqi.net/img/user/',\n",
       "        'suffix': '/407933215_pJyayfVT_J-0lHlYj-MbyBngotDbIqlEvemE03EcCatM61CnnolqAnn4euIam-Z1jDs-F7wmc.jpg'}},\n",
       "      'visibility': 'public'}]}]},\n",
       " 'reasons': {'count': 0, 'items': []},\n",
       " 'description': \"Located in the lobby, Inara Bar and Lounge offers intimate indoor and outdoor settings for guests to enjoy light meals, traditional afternoon tea and cocktails throughout the day. As one of the Resort's best meeting spots, Inara is the place to see and be seen in Marrakech.\",\n",
       " 'storeId': '',\n",
       " 'page': {'pageInfo': {'description': \"Four Seasons Hotels and Resorts are a true home away from home - extending a caring welcome to some of the world's most inspiring destinations.\",\n",
       "   'banner': 'https://is1.4sqi.net/userpix/HYXP42HONSOHHSTN.jpg',\n",
       "   'links': {'count': 1, 'items': [{'url': 'http://www.fourseasons.com/'}]}},\n",
       "  'user': {'id': '2199283',\n",
       "   'isSanctioned': False,\n",
       "   'firstName': 'Four Seasons Hotels and Resorts',\n",
       "   'gender': 'none',\n",
       "   'countryCode': 'TR',\n",
       "   'photo': {'prefix': 'https://fastly.4sqi.net/img/user/',\n",
       "    'suffix': '/2199283-G4LDKNKOMPF5OR1N.png'},\n",
       "   'type': 'chain',\n",
       "   'tips': {'count': 241},\n",
       "   'lists': {'groups': [{'type': 'created', 'count': 2, 'items': []}]},\n",
       "   'homeCity': 'Toronto, Ontario',\n",
       "   'bio': '',\n",
       "   'contact': {'twitter': 'fourseasons'}}},\n",
       " 'hereNow': {'count': 0, 'summary': 'Nobody here', 'groups': []},\n",
       " 'createdAt': 1313008259,\n",
       " 'tips': {'count': 0, 'groups': []},\n",
       " 'shortUrl': 'http://4sq.com/uCBf57',\n",
       " 'timeZone': 'Africa/Casablanca',\n",
       " 'listed': {'count': 5,\n",
       "  'groups': [{'type': 'others',\n",
       "    'name': 'Lists from other people',\n",
       "    'count': 5,\n",
       "    'items': [{'id': '5122fd56e4b0b1303f034d19',\n",
       "      'name': \"My wine's spots\",\n",
       "      'description': 'Generated by The Winestersquare - http://thewinestersquare.appspot.com',\n",
       "      'entities': [{'indices': [34, 70],\n",
       "        'type': 'url',\n",
       "        'object': {'url': 'http://thewinestersquare.appspot.com'}}],\n",
       "      'type': 'others',\n",
       "      'user': {'id': '23433572',\n",
       "       'isSanctioned': False,\n",
       "       'firstName': 'DMV Group',\n",
       "       'lastName': 'Media',\n",
       "       'gender': 'none',\n",
       "       'countryCode': 'US',\n",
       "       'photo': {'prefix': 'https://fastly.4sqi.net/img/user/',\n",
       "        'suffix': '/23433572-OX4Z3HJDQWXZE422.jpg'}},\n",
       "      'editable': False,\n",
       "      'public': True,\n",
       "      'collaborative': False,\n",
       "      'url': '/dmvgroupmedia/list/my-wines-spots',\n",
       "      'canonicalUrl': 'https://foursquare.com/dmvgroupmedia/list/my-wines-spots',\n",
       "      'createdAt': 1361247574,\n",
       "      'updatedAt': 1361505050,\n",
       "      'followers': {'count': 0},\n",
       "      'listItems': {'count': 4,\n",
       "       'items': [{'id': 'v4e42ea831fc78b855c199b61',\n",
       "         'createdAt': 1361376524}]}},\n",
       "     {'id': '5585f967498e2e7dce472cfa',\n",
       "      'name': 'Marrakech kafè',\n",
       "      'description': '',\n",
       "      'type': 'others',\n",
       "      'user': {'id': '132029599',\n",
       "       'isSanctioned': False,\n",
       "       'firstName': 'Mariken',\n",
       "       'lastName': 'Westli',\n",
       "       'gender': 'female',\n",
       "       'countryCode': 'US',\n",
       "       'photo': {'prefix': 'https://fastly.4sqi.net/img/user/',\n",
       "        'suffix': '/132029599-QP2SMGQGBTWFHVWN.jpg'}},\n",
       "      'editable': False,\n",
       "      'public': True,\n",
       "      'collaborative': False,\n",
       "      'url': '/user/132029599/list/marrakech-kaf%C3%A8',\n",
       "      'canonicalUrl': 'https://foursquare.com/user/132029599/list/marrakech-kaf%C3%A8',\n",
       "      'createdAt': 1434843495,\n",
       "      'updatedAt': 1434894126,\n",
       "      'followers': {'count': 0},\n",
       "      'listItems': {'count': 7,\n",
       "       'items': [{'id': 'v4e42ea831fc78b855c199b61',\n",
       "         'createdAt': 1434894126}]}}]}]},\n",
       " 'seasonalHours': [],\n",
       " 'pageUpdates': {'count': 0, 'items': []},\n",
       " 'inbox': {'count': 0, 'items': []},\n",
       " 'attributes': {'groups': [{'type': 'price',\n",
       "    'name': 'Price',\n",
       "    'summary': '$$$',\n",
       "    'count': 1,\n",
       "    'items': [{'displayName': 'Price',\n",
       "      'displayValue': '$$$',\n",
       "      'priceTier': 3}]}]},\n",
       " 'bestPhoto': {'id': '5d96f33dcf827200077be020',\n",
       "  'createdAt': 1570173757,\n",
       "  'source': {'name': 'Swarm for iOS', 'url': 'https://www.swarmapp.com'},\n",
       "  'prefix': 'https://fastly.4sqi.net/img/general/',\n",
       "  'suffix': '/407933215_FzI9oTCng_f4JufrSQzLHPvN2MPLZoLcX-LZBaAJOG8.jpg',\n",
       "  'width': 1440,\n",
       "  'height': 1920,\n",
       "  'visibility': 'public'},\n",
       " 'colors': {'highlightColor': {'photoId': '5d96f33dcf827200077be020',\n",
       "   'value': -14151680},\n",
       "  'highlightTextColor': {'photoId': '5d96f33dcf827200077be020', 'value': -1},\n",
       "  'algoVersion': 3}}"
      ]
     },
     "execution_count": 36,
     "metadata": {},
     "output_type": "execute_result"
    }
   ],
   "source": [
    "result = requests.get(url).json()\n",
    "print(result['response']['venue'].keys())\n",
    "result['response']['venue']"
   ]
  },
  {
   "cell_type": "markdown",
   "metadata": {
    "button": false,
    "new_sheet": false,
    "run_control": {
     "read_only": false
    }
   },
   "source": [
    "### B. Get the venue's overall rating\n"
   ]
  },
  {
   "cell_type": "code",
   "execution_count": 37,
   "metadata": {
    "button": false,
    "jupyter": {
     "outputs_hidden": false
    },
    "new_sheet": false,
    "run_control": {
     "read_only": false
    }
   },
   "outputs": [
    {
     "name": "stdout",
     "output_type": "stream",
     "text": [
      "This venue has not been rated yet.\n"
     ]
    }
   ],
   "source": [
    "try:\n",
    "    print(result['response']['venue']['rating'])\n",
    "except:\n",
    "    print('This venue has not been rated yet.')"
   ]
  },
  {
   "cell_type": "markdown",
   "metadata": {
    "button": false,
    "new_sheet": false,
    "run_control": {
     "read_only": false
    }
   },
   "source": [
    "That is not a very good rating. Let's check the rating of the second closest Italian restaurant.\n"
   ]
  },
  {
   "cell_type": "code",
   "execution_count": 39,
   "metadata": {
    "button": false,
    "jupyter": {
     "outputs_hidden": false
    },
    "new_sheet": false,
    "run_control": {
     "read_only": false
    }
   },
   "outputs": [
    {
     "name": "stdout",
     "output_type": "stream",
     "text": [
      "This venue has not been rated yet.\n"
     ]
    }
   ],
   "source": [
    "venue_id = '5a243af8b37e2b5bbfd62cc3' \n",
    "url = 'https://api.foursquare.com/v2/venues/{}?client_id={}&client_secret={}&oauth_token={}&v={}'.format(venue_id, CLIENT_ID, CLIENT_SECRET,ACCESS_TOKEN, VERSION)\n",
    "\n",
    "result = requests.get(url).json()\n",
    "try:\n",
    "    print(result['response']['venue']['rating'])\n",
    "except:\n",
    "    print('This venue has not been rated yet.')"
   ]
  },
  {
   "cell_type": "markdown",
   "metadata": {
    "button": false,
    "new_sheet": false,
    "run_control": {
     "read_only": false
    }
   },
   "source": [
    "Since this restaurant has no ratings, let's check the third restaurant.\n"
   ]
  },
  {
   "cell_type": "code",
   "execution_count": 41,
   "metadata": {
    "button": false,
    "jupyter": {
     "outputs_hidden": false
    },
    "new_sheet": false,
    "run_control": {
     "read_only": false
    }
   },
   "outputs": [
    {
     "name": "stdout",
     "output_type": "stream",
     "text": [
      "This venue has not been rated yet.\n"
     ]
    }
   ],
   "source": [
    "venue_id = '4e5e9cf262e121012040f109'\n",
    "url = 'https://api.foursquare.com/v2/venues/{}?client_id={}&client_secret={}&oauth_token={}&v={}'.format(venue_id, CLIENT_ID, CLIENT_SECRET,ACCESS_TOKEN, VERSION)\n",
    "\n",
    "result = requests.get(url).json()\n",
    "try:\n",
    "    print(result['response']['venue']['rating'])\n",
    "except:\n",
    "    print('This venue has not been rated yet.')"
   ]
  },
  {
   "cell_type": "markdown",
   "metadata": {},
   "source": [
    "The only rated one is the fifth one"
   ]
  },
  {
   "cell_type": "code",
   "execution_count": 47,
   "metadata": {},
   "outputs": [
    {
     "name": "stdout",
     "output_type": "stream",
     "text": [
      "8.1\n"
     ]
    }
   ],
   "source": [
    "venue_id = '4f2db27ee4b0c1a8190d8c5d'\n",
    "url = 'https://api.foursquare.com/v2/venues/{}?client_id={}&client_secret={}&oauth_token={}&v={}'.format(venue_id, CLIENT_ID, CLIENT_SECRET,ACCESS_TOKEN, VERSION)\n",
    "\n",
    "result = requests.get(url).json()\n",
    "try:\n",
    "    print(result['response']['venue']['rating'])\n",
    "except:\n",
    "    print('This venue has not been rated yet.')"
   ]
  },
  {
   "cell_type": "markdown",
   "metadata": {
    "button": false,
    "new_sheet": false,
    "run_control": {
     "read_only": false
    }
   },
   "source": [
    "### C. Get the number of tips\n"
   ]
  },
  {
   "cell_type": "code",
   "execution_count": 48,
   "metadata": {
    "button": false,
    "jupyter": {
     "outputs_hidden": false
    },
    "new_sheet": false,
    "run_control": {
     "read_only": false
    }
   },
   "outputs": [
    {
     "data": {
      "text/plain": [
       "10"
      ]
     },
     "execution_count": 48,
     "metadata": {},
     "output_type": "execute_result"
    }
   ],
   "source": [
    "result['response']['venue']['tips']['count']"
   ]
  },
  {
   "cell_type": "markdown",
   "metadata": {
    "button": false,
    "new_sheet": false,
    "run_control": {
     "read_only": false
    }
   },
   "source": [
    "### D. Get the venue's tips\n",
    "\n",
    "\n"
   ]
  },
  {
   "cell_type": "markdown",
   "metadata": {
    "button": false,
    "new_sheet": false,
    "run_control": {
     "read_only": false
    }
   },
   "source": [
    "#### Create URL and send GET request. Make sure to set limit to get all tips\n"
   ]
  },
  {
   "cell_type": "code",
   "execution_count": 50,
   "metadata": {
    "button": false,
    "jupyter": {
     "outputs_hidden": false
    },
    "new_sheet": false,
    "run_control": {
     "read_only": false
    }
   },
   "outputs": [
    {
     "data": {
      "text/plain": [
       "{'meta': {'code': 200, 'requestId': '5fc5034b0525d44519900fe0'},\n",
       " 'notifications': [{'type': 'notificationTray', 'item': {'unreadCount': 0}}],\n",
       " 'response': {'tips': {'count': 9,\n",
       "   'items': [{'id': '5543b447498ebe2fd26a1885',\n",
       "     'createdAt': 1430500423,\n",
       "     'text': 'Part of the LaMamounia Hotel. Very great food, really nice atmosphere, so elegant staff and obviously expensive prices. However, it is a \"must\" to have a drink, walk around the garden, so beautiful.',\n",
       "     'type': 'user',\n",
       "     'canonicalUrl': 'https://foursquare.com/item/5543b447498ebe2fd26a1885',\n",
       "     'likes': {'count': 0, 'groups': []},\n",
       "     'like': False,\n",
       "     'logView': True,\n",
       "     'agreeCount': 2,\n",
       "     'disagreeCount': 0,\n",
       "     'todo': {'count': 0},\n",
       "     'user': {'id': '40829472',\n",
       "      'isSanctioned': False,\n",
       "      'firstName': 'Murat',\n",
       "      'gender': 'male',\n",
       "      'countryCode': 'DK',\n",
       "      'photo': {'prefix': 'https://fastly.4sqi.net/img/user/',\n",
       "       'suffix': '/40829472_l6ehLc1Q_8oVwBHt40noyiEbWXbX7pYPwsHEnINCpgh55J_xgjKGCmnQhBpQgF7yf1bjvfOZo.jpg'}},\n",
       "     'authorInteractionType': 'liked'}]}}}"
      ]
     },
     "execution_count": 50,
     "metadata": {},
     "output_type": "execute_result"
    }
   ],
   "source": [
    "limit = 10 \n",
    "url = 'https://api.foursquare.com/v2/venues/{}/tips?client_id={}&client_secret={}&oauth_token={}&v={}&limit={}'.format(venue_id, CLIENT_ID, CLIENT_SECRET,ACCESS_TOKEN, VERSION, limit)\n",
    "\n",
    "results = requests.get(url).json()\n",
    "results"
   ]
  },
  {
   "cell_type": "markdown",
   "metadata": {
    "button": false,
    "new_sheet": false,
    "run_control": {
     "read_only": false
    }
   },
   "source": [
    "#### Get tips and list of associated features\n"
   ]
  },
  {
   "cell_type": "code",
   "execution_count": 51,
   "metadata": {
    "button": false,
    "jupyter": {
     "outputs_hidden": false
    },
    "new_sheet": false,
    "run_control": {
     "read_only": false
    }
   },
   "outputs": [
    {
     "data": {
      "text/plain": [
       "dict_keys(['id', 'createdAt', 'text', 'type', 'canonicalUrl', 'likes', 'like', 'logView', 'agreeCount', 'disagreeCount', 'todo', 'user', 'authorInteractionType'])"
      ]
     },
     "execution_count": 51,
     "metadata": {},
     "output_type": "execute_result"
    }
   ],
   "source": [
    "tips = results['response']['tips']['items']\n",
    "\n",
    "tip = results['response']['tips']['items'][0]\n",
    "tip.keys()"
   ]
  },
  {
   "cell_type": "markdown",
   "metadata": {
    "button": false,
    "new_sheet": false,
    "run_control": {
     "read_only": false
    }
   },
   "source": [
    "#### Format column width and display all tips\n"
   ]
  },
  {
   "cell_type": "code",
   "execution_count": 66,
   "metadata": {},
   "outputs": [
    {
     "data": {
      "text/html": [
       "<div>\n",
       "<style scoped>\n",
       "    .dataframe tbody tr th:only-of-type {\n",
       "        vertical-align: middle;\n",
       "    }\n",
       "\n",
       "    .dataframe tbody tr th {\n",
       "        vertical-align: top;\n",
       "    }\n",
       "\n",
       "    .dataframe thead th {\n",
       "        text-align: right;\n",
       "    }\n",
       "</style>\n",
       "<table border=\"1\" class=\"dataframe\">\n",
       "  <thead>\n",
       "    <tr style=\"text-align: right;\">\n",
       "      <th></th>\n",
       "      <th>id</th>\n",
       "      <th>createdAt</th>\n",
       "      <th>text</th>\n",
       "      <th>type</th>\n",
       "      <th>canonicalUrl</th>\n",
       "      <th>like</th>\n",
       "      <th>logView</th>\n",
       "      <th>agreeCount</th>\n",
       "      <th>disagreeCount</th>\n",
       "      <th>authorInteractionType</th>\n",
       "      <th>likes.count</th>\n",
       "      <th>likes.groups</th>\n",
       "      <th>todo.count</th>\n",
       "      <th>user.id</th>\n",
       "      <th>user.isSanctioned</th>\n",
       "      <th>user.firstName</th>\n",
       "      <th>user.gender</th>\n",
       "      <th>user.countryCode</th>\n",
       "      <th>user.photo.prefix</th>\n",
       "      <th>user.photo.suffix</th>\n",
       "    </tr>\n",
       "  </thead>\n",
       "  <tbody>\n",
       "    <tr>\n",
       "      <th>0</th>\n",
       "      <td>5543b447498ebe2fd26a1885</td>\n",
       "      <td>1430500423</td>\n",
       "      <td>Part of the LaMamounia Hotel. Very great food, really nice atmosphere, so elegant staff and obviously expensive prices. However, it is a \"must\" to have a drink, walk around the garden, so beautiful.</td>\n",
       "      <td>user</td>\n",
       "      <td>https://foursquare.com/item/5543b447498ebe2fd26a1885</td>\n",
       "      <td>False</td>\n",
       "      <td>True</td>\n",
       "      <td>2</td>\n",
       "      <td>0</td>\n",
       "      <td>liked</td>\n",
       "      <td>0</td>\n",
       "      <td>[]</td>\n",
       "      <td>0</td>\n",
       "      <td>40829472</td>\n",
       "      <td>False</td>\n",
       "      <td>Murat</td>\n",
       "      <td>male</td>\n",
       "      <td>DK</td>\n",
       "      <td>https://fastly.4sqi.net/img/user/</td>\n",
       "      <td>/40829472_l6ehLc1Q_8oVwBHt40noyiEbWXbX7pYPwsHEnINCpgh55J_xgjKGCmnQhBpQgF7yf1bjvfOZo.jpg</td>\n",
       "    </tr>\n",
       "  </tbody>\n",
       "</table>\n",
       "</div>"
      ],
      "text/plain": [
       "                         id   createdAt  \\\n",
       "0  5543b447498ebe2fd26a1885  1430500423   \n",
       "\n",
       "                                                                                                                                                                                                     text  \\\n",
       "0  Part of the LaMamounia Hotel. Very great food, really nice atmosphere, so elegant staff and obviously expensive prices. However, it is a \"must\" to have a drink, walk around the garden, so beautiful.   \n",
       "\n",
       "   type                                          canonicalUrl   like  logView  \\\n",
       "0  user  https://foursquare.com/item/5543b447498ebe2fd26a1885  False  True      \n",
       "\n",
       "   agreeCount  disagreeCount authorInteractionType  likes.count likes.groups  \\\n",
       "0  2           0              liked                 0            []            \n",
       "\n",
       "   todo.count   user.id  user.isSanctioned user.firstName user.gender  \\\n",
       "0  0           40829472  False              Murat          male         \n",
       "\n",
       "  user.countryCode                  user.photo.prefix  \\\n",
       "0  DK               https://fastly.4sqi.net/img/user/   \n",
       "\n",
       "                                                                         user.photo.suffix  \n",
       "0  /40829472_l6ehLc1Q_8oVwBHt40noyiEbWXbX7pYPwsHEnINCpgh55J_xgjKGCmnQhBpQgF7yf1bjvfOZo.jpg  "
      ]
     },
     "execution_count": 66,
     "metadata": {},
     "output_type": "execute_result"
    }
   ],
   "source": [
    "tips_df"
   ]
  },
  {
   "cell_type": "code",
   "execution_count": 59,
   "metadata": {
    "button": false,
    "jupyter": {
     "outputs_hidden": false
    },
    "new_sheet": false,
    "run_control": {
     "read_only": false
    }
   },
   "outputs": [
    {
     "name": "stderr",
     "output_type": "stream",
     "text": [
      "<ipython-input-59-f63b6be65858>:1: FutureWarning: Passing a negative integer is deprecated in version 1.0 and will not be supported in future version. Instead, use None to not limit the column width.\n",
      "  pd.set_option('display.max_colwidth', -1)\n",
      "<ipython-input-59-f63b6be65858>:3: FutureWarning: pandas.io.json.json_normalize is deprecated, use pandas.json_normalize instead\n",
      "  tips_df = json_normalize(tips) # json normalize tips\n"
     ]
    },
    {
     "data": {
      "text/html": [
       "<div>\n",
       "<style scoped>\n",
       "    .dataframe tbody tr th:only-of-type {\n",
       "        vertical-align: middle;\n",
       "    }\n",
       "\n",
       "    .dataframe tbody tr th {\n",
       "        vertical-align: top;\n",
       "    }\n",
       "\n",
       "    .dataframe thead th {\n",
       "        text-align: right;\n",
       "    }\n",
       "</style>\n",
       "<table border=\"1\" class=\"dataframe\">\n",
       "  <thead>\n",
       "    <tr style=\"text-align: right;\">\n",
       "      <th></th>\n",
       "      <th>text</th>\n",
       "      <th>agreeCount</th>\n",
       "      <th>disagreeCount</th>\n",
       "      <th>id</th>\n",
       "      <th>user.id</th>\n",
       "    </tr>\n",
       "  </thead>\n",
       "  <tbody>\n",
       "    <tr>\n",
       "      <th>0</th>\n",
       "      <td>Part of the LaMamounia Hotel. Very great food, really nice atmosphere, so elegant staff and obviously expensive prices. However, it is a \"must\" to have a drink, walk around the garden, so beautiful.</td>\n",
       "      <td>2</td>\n",
       "      <td>0</td>\n",
       "      <td>5543b447498ebe2fd26a1885</td>\n",
       "      <td>40829472</td>\n",
       "    </tr>\n",
       "  </tbody>\n",
       "</table>\n",
       "</div>"
      ],
      "text/plain": [
       "                                                                                                                                                                                                     text  \\\n",
       "0  Part of the LaMamounia Hotel. Very great food, really nice atmosphere, so elegant staff and obviously expensive prices. However, it is a \"must\" to have a drink, walk around the garden, so beautiful.   \n",
       "\n",
       "   agreeCount  disagreeCount                        id   user.id  \n",
       "0  2           0              5543b447498ebe2fd26a1885  40829472  "
      ]
     },
     "execution_count": 59,
     "metadata": {},
     "output_type": "execute_result"
    }
   ],
   "source": [
    "pd.set_option('display.max_colwidth', -1)\n",
    "\n",
    "tips_df = json_normalize(tips) # json normalize tips\n",
    "\n",
    "# columns to keep\n",
    "filtered_columns = ['text', 'agreeCount', 'disagreeCount', 'id',  'user.id']\n",
    "tips_filtered = tips_df[filtered_columns]\n",
    "\n",
    "# display tips\n",
    "tips_filtered.reindex()"
   ]
  },
  {
   "cell_type": "markdown",
   "metadata": {
    "button": false,
    "new_sheet": false,
    "run_control": {
     "read_only": false
    }
   },
   "source": [
    "\n"
   ]
  },
  {
   "cell_type": "markdown",
   "metadata": {
    "button": false,
    "new_sheet": false,
    "run_control": {
     "read_only": false
    }
   },
   "source": [
    "<a id=\"item3\"></a>\n"
   ]
  },
  {
   "cell_type": "markdown",
   "metadata": {
    "button": false,
    "new_sheet": false,
    "run_control": {
     "read_only": false
    }
   },
   "source": [
    "## 3. Search a Foursquare User\n",
    "\n"
   ]
  },
  {
   "cell_type": "markdown",
   "metadata": {
    "button": false,
    "new_sheet": false,
    "run_control": {
     "read_only": false
    }
   },
   "source": [
    "### Define URL, send GET request and display features associated with user\n"
   ]
  },
  {
   "cell_type": "code",
   "execution_count": 62,
   "metadata": {
    "button": false,
    "jupyter": {
     "outputs_hidden": false
    },
    "new_sheet": false,
    "run_control": {
     "read_only": false
    }
   },
   "outputs": [
    {
     "name": "stderr",
     "output_type": "stream",
     "text": [
      "<ipython-input-62-2c7409855d4f>:8: FutureWarning: Passing a negative integer is deprecated in version 1.0 and will not be supported in future version. Instead, use None to not limit the column width.\n",
      "  pd.set_option('display.max_colwidth', -1)\n",
      "<ipython-input-62-2c7409855d4f>:10: FutureWarning: pandas.io.json.json_normalize is deprecated, use pandas.json_normalize instead\n",
      "  users_df = json_normalize(user_data)\n"
     ]
    },
    {
     "data": {
      "text/html": [
       "<div>\n",
       "<style scoped>\n",
       "    .dataframe tbody tr th:only-of-type {\n",
       "        vertical-align: middle;\n",
       "    }\n",
       "\n",
       "    .dataframe tbody tr th {\n",
       "        vertical-align: top;\n",
       "    }\n",
       "\n",
       "    .dataframe thead th {\n",
       "        text-align: right;\n",
       "    }\n",
       "</style>\n",
       "<table border=\"1\" class=\"dataframe\">\n",
       "  <thead>\n",
       "    <tr style=\"text-align: right;\">\n",
       "      <th></th>\n",
       "      <th>id</th>\n",
       "      <th>user.id</th>\n",
       "      <th>user.firstName</th>\n",
       "    </tr>\n",
       "  </thead>\n",
       "  <tbody>\n",
       "    <tr>\n",
       "      <th>0</th>\n",
       "      <td>5fc288935e4a23458f27c567</td>\n",
       "      <td>40829472</td>\n",
       "      <td>Murat</td>\n",
       "    </tr>\n",
       "  </tbody>\n",
       "</table>\n",
       "</div>"
      ],
      "text/plain": [
       "                         id   user.id user.firstName\n",
       "0  5fc288935e4a23458f27c567  40829472  Murat        "
      ]
     },
     "execution_count": 62,
     "metadata": {},
     "output_type": "execute_result"
    }
   ],
   "source": [
    "idnumber = '40829472' \n",
    "\n",
    "url = 'https://api.foursquare.com/v2/users/{}/tips?client_id={}&client_secret={}&oauth_token={}&v={}'.format(idnumber, CLIENT_ID, CLIENT_SECRET, ACCESS_TOKEN,VERSION) # define URL\n",
    "\n",
    "results = requests.get(url).json()\n",
    "user_data=results['response']['tips']['items'][0]['venue']['photos']['groups'][0]['items']\n",
    "\n",
    "pd.set_option('display.max_colwidth', -1)\n",
    "\n",
    "users_df = json_normalize(user_data)\n",
    "\n",
    "filtered_columns = ['id','user.id','user.firstName']\n",
    "tips_filtered = users_df[filtered_columns]\n",
    "\n",
    "df=tips_filtered\n",
    "df\n"
   ]
  },
  {
   "cell_type": "code",
   "execution_count": 64,
   "metadata": {},
   "outputs": [
    {
     "name": "stdout",
     "output_type": "stream",
     "text": [
      "0    First Name: Murat\n",
      "Name: user.firstName, dtype: object\n"
     ]
    }
   ],
   "source": [
    "\n",
    "g=df.loc[df['user.id'] == '40829472']\n",
    "print('First Name: ' + g['user.firstName'])\n"
   ]
  },
  {
   "cell_type": "markdown",
   "metadata": {},
   "source": [
    "### Retrieve the User's Profile Image\n"
   ]
  },
  {
   "cell_type": "code",
   "execution_count": 67,
   "metadata": {},
   "outputs": [
    {
     "data": {
      "text/html": [
       "<img src=\"https://fastly.4sqi.net/img/general/540x920/40829472_l6ehLc1Q_8oVwBHt40noyiEbWXbX7pYPwsHEnINCpgh55J_xgjKGCmnQhBpQgF7yf1bjvfOZo.jpg\"/>"
      ],
      "text/plain": [
       "<IPython.core.display.Image object>"
      ]
     },
     "execution_count": 67,
     "metadata": {},
     "output_type": "execute_result"
    }
   ],
   "source": [
    "\n",
    "Image(url='https://fastly.4sqi.net/img/general/540x920/40829472_l6ehLc1Q_8oVwBHt40noyiEbWXbX7pYPwsHEnINCpgh55J_xgjKGCmnQhBpQgF7yf1bjvfOZo.jpg')"
   ]
  },
  {
   "cell_type": "markdown",
   "metadata": {
    "button": false,
    "new_sheet": false,
    "run_control": {
     "read_only": false
    }
   },
   "source": [
    "### Get User's tips\n"
   ]
  },
  {
   "cell_type": "code",
   "execution_count": 68,
   "metadata": {
    "button": false,
    "jupyter": {
     "outputs_hidden": false
    },
    "new_sheet": false,
    "run_control": {
     "read_only": false
    }
   },
   "outputs": [
    {
     "name": "stderr",
     "output_type": "stream",
     "text": [
      "<ipython-input-68-cd3f62ccf00c>:7: FutureWarning: Passing a negative integer is deprecated in version 1.0 and will not be supported in future version. Instead, use None to not limit the column width.\n",
      "  pd.set_option('display.max_colwidth', -1)\n",
      "<ipython-input-68-cd3f62ccf00c>:9: FutureWarning: pandas.io.json.json_normalize is deprecated, use pandas.json_normalize instead\n",
      "  tips_df = json_normalize(tips)\n"
     ]
    },
    {
     "data": {
      "text/html": [
       "<div>\n",
       "<style scoped>\n",
       "    .dataframe tbody tr th:only-of-type {\n",
       "        vertical-align: middle;\n",
       "    }\n",
       "\n",
       "    .dataframe tbody tr th {\n",
       "        vertical-align: top;\n",
       "    }\n",
       "\n",
       "    .dataframe thead th {\n",
       "        text-align: right;\n",
       "    }\n",
       "</style>\n",
       "<table border=\"1\" class=\"dataframe\">\n",
       "  <thead>\n",
       "    <tr style=\"text-align: right;\">\n",
       "      <th></th>\n",
       "      <th>text</th>\n",
       "      <th>agreeCount</th>\n",
       "      <th>disagreeCount</th>\n",
       "      <th>id</th>\n",
       "    </tr>\n",
       "  </thead>\n",
       "  <tbody>\n",
       "    <tr>\n",
       "      <th>0</th>\n",
       "      <td>Local neighbourhood sushi place with running sushi option. Food is delicious, prices are very affordable. Service is fast, but busy place.  Reservation required.</td>\n",
       "      <td>0</td>\n",
       "      <td>0</td>\n",
       "      <td>5fc2940ccbeec42860d814a1</td>\n",
       "    </tr>\n",
       "    <tr>\n",
       "      <th>1</th>\n",
       "      <td>Great whisky!</td>\n",
       "      <td>0</td>\n",
       "      <td>0</td>\n",
       "      <td>5fc27b67cbeec42860ae7371</td>\n",
       "    </tr>\n",
       "    <tr>\n",
       "      <th>2</th>\n",
       "      <td>Centrally located, close to many touristic places. Holds many different household stuff. Prices are affordable.</td>\n",
       "      <td>0</td>\n",
       "      <td>0</td>\n",
       "      <td>5fc27ac4e932664224587eb0</td>\n",
       "    </tr>\n",
       "    <tr>\n",
       "      <th>3</th>\n",
       "      <td>Nice local neighbourhood bar, small, but big enough for groups. Prices are great, staff is very kind and friendly. Outdoor seating is available.</td>\n",
       "      <td>0</td>\n",
       "      <td>0</td>\n",
       "      <td>5fb4fd7344fb3878957c1699</td>\n",
       "    </tr>\n",
       "    <tr>\n",
       "      <th>4</th>\n",
       "      <td>Very centrally located, in OldTown. Big, have upstairs; with great items and ideas. Expensive.</td>\n",
       "      <td>0</td>\n",
       "      <td>0</td>\n",
       "      <td>5f9d23813ade2d214e6a268e</td>\n",
       "    </tr>\n",
       "    <tr>\n",
       "      <th>5</th>\n",
       "      <td>Fantastic location, central and close to many venues and touristic places. Cozy, also big enough for groups. Cocktails are great, prices are affordable. Staff is also very kind.</td>\n",
       "      <td>0</td>\n",
       "      <td>0</td>\n",
       "      <td>5f8ff206040081672670dc9a</td>\n",
       "    </tr>\n",
       "    <tr>\n",
       "      <th>6</th>\n",
       "      <td>Hidden gem, with very delicious food and great atmosphere. Staff is very welcoming and friendly. Perfect for couples, not for groups or events. Wine list is cool, prices are affordable. Rez needed.</td>\n",
       "      <td>0</td>\n",
       "      <td>0</td>\n",
       "      <td>5f8f295cb8126841feba8da4</td>\n",
       "    </tr>\n",
       "    <tr>\n",
       "      <th>7</th>\n",
       "      <td>Cosy, cute, off center. Easy to access (Bus14 stops just in front). Food is delicious, wine list is great. Staff is nice, prices are affordable. Great for couples, small groups and private parties.</td>\n",
       "      <td>0</td>\n",
       "      <td>0</td>\n",
       "      <td>5f7f4c329abeff18891470f8</td>\n",
       "    </tr>\n",
       "    <tr>\n",
       "      <th>8</th>\n",
       "      <td>Part of Tivoli food court, with great food. Service is fast, staff is welcoming. Prices are affordable.</td>\n",
       "      <td>0</td>\n",
       "      <td>0</td>\n",
       "      <td>5f7cb99d9abeff18890a6909</td>\n",
       "    </tr>\n",
       "    <tr>\n",
       "      <th>9</th>\n",
       "      <td>Small cosy wine and gintonic bar, with mainly outdoor seating. Gets sun during the day, but shadow in the afternoon. Prices are average.</td>\n",
       "      <td>0</td>\n",
       "      <td>0</td>\n",
       "      <td>5f5ee9167242fc71888f5ca8</td>\n",
       "    </tr>\n",
       "  </tbody>\n",
       "</table>\n",
       "</div>"
      ],
      "text/plain": [
       "                                                                                                                                                                                                    text  \\\n",
       "0  Local neighbourhood sushi place with running sushi option. Food is delicious, prices are very affordable. Service is fast, but busy place.  Reservation required.                                       \n",
       "1  Great whisky!                                                                                                                                                                                           \n",
       "2  Centrally located, close to many touristic places. Holds many different household stuff. Prices are affordable.                                                                                         \n",
       "3  Nice local neighbourhood bar, small, but big enough for groups. Prices are great, staff is very kind and friendly. Outdoor seating is available.                                                        \n",
       "4  Very centrally located, in OldTown. Big, have upstairs; with great items and ideas. Expensive.                                                                                                          \n",
       "5  Fantastic location, central and close to many venues and touristic places. Cozy, also big enough for groups. Cocktails are great, prices are affordable. Staff is also very kind.                       \n",
       "6  Hidden gem, with very delicious food and great atmosphere. Staff is very welcoming and friendly. Perfect for couples, not for groups or events. Wine list is cool, prices are affordable. Rez needed.   \n",
       "7  Cosy, cute, off center. Easy to access (Bus14 stops just in front). Food is delicious, wine list is great. Staff is nice, prices are affordable. Great for couples, small groups and private parties.   \n",
       "8  Part of Tivoli food court, with great food. Service is fast, staff is welcoming. Prices are affordable.                                                                                                 \n",
       "9  Small cosy wine and gintonic bar, with mainly outdoor seating. Gets sun during the day, but shadow in the afternoon. Prices are average.                                                                \n",
       "\n",
       "   agreeCount  disagreeCount                        id  \n",
       "0  0           0              5fc2940ccbeec42860d814a1  \n",
       "1  0           0              5fc27b67cbeec42860ae7371  \n",
       "2  0           0              5fc27ac4e932664224587eb0  \n",
       "3  0           0              5fb4fd7344fb3878957c1699  \n",
       "4  0           0              5f9d23813ade2d214e6a268e  \n",
       "5  0           0              5f8ff206040081672670dc9a  \n",
       "6  0           0              5f8f295cb8126841feba8da4  \n",
       "7  0           0              5f7f4c329abeff18891470f8  \n",
       "8  0           0              5f7cb99d9abeff18890a6909  \n",
       "9  0           0              5f5ee9167242fc71888f5ca8  "
      ]
     },
     "execution_count": 68,
     "metadata": {},
     "output_type": "execute_result"
    }
   ],
   "source": [
    "user_id='40829472'\n",
    "url = 'https://api.foursquare.com/v2/users/{}/tips?client_id={}&client_secret={}&oauth_token={}&v={}&limit={}'.format(user_id, CLIENT_ID, CLIENT_SECRET,ACCESS_TOKEN,VERSION, limit)\n",
    "\n",
    "results = requests.get(url).json()\n",
    "tips = results['response']['tips']['items']\n",
    "\n",
    "pd.set_option('display.max_colwidth', -1)\n",
    "\n",
    "tips_df = json_normalize(tips)\n",
    "\n",
    "filtered_columns = ['text', 'agreeCount', 'disagreeCount', 'id']\n",
    "tips_filtered = tips_df[filtered_columns]\n",
    "\n",
    "# display user's tips\n",
    "tips_filtered"
   ]
  },
  {
   "cell_type": "code",
   "execution_count": 69,
   "metadata": {
    "button": false,
    "jupyter": {
     "outputs_hidden": false
    },
    "new_sheet": false,
    "run_control": {
     "read_only": false
    }
   },
   "outputs": [
    {
     "name": "stdout",
     "output_type": "stream",
     "text": [
      "Hufu Running Sushi\n",
      "{'address': 'Sølvgade 84', 'lat': 55.689686, 'lng': 12.574034, 'labeledLatLngs': [{'label': 'display', 'lat': 55.689686, 'lng': 12.574034}], 'postalCode': '1307', 'cc': 'DK', 'city': 'København', 'state': 'Region Hovedstaden', 'country': 'Danmark', 'formattedAddress': ['Sølvgade 84', '1307 København', 'Danmark']}\n"
     ]
    }
   ],
   "source": [
    "tip_id = '5fc2940ccbeec42860d814a1' \n",
    "\n",
    "url = 'https://api.foursquare.com/v2/users/{}/tips?client_id={}&client_secret={}&oauth_token={}&v={}'.format(idnumber, CLIENT_ID, CLIENT_SECRET,ACCESS_TOKEN, VERSION) # define URL\n",
    "\n",
    "\n",
    "result = requests.get(url).json()\n",
    "print(result['response']['tips']['items'][0]['venue']['name'])\n",
    "print(result['response']['tips']['items'][0]['venue']['location'])"
   ]
  },
  {
   "cell_type": "markdown",
   "metadata": {
    "button": false,
    "new_sheet": false,
    "run_control": {
     "read_only": false
    }
   },
   "source": [
    "## 4. Explore a location\n",
    "\n",
    "\n"
   ]
  },
  {
   "cell_type": "code",
   "execution_count": 70,
   "metadata": {},
   "outputs": [
    {
     "data": {
      "text/html": [
       "<div>\n",
       "<style scoped>\n",
       "    .dataframe tbody tr th:only-of-type {\n",
       "        vertical-align: middle;\n",
       "    }\n",
       "\n",
       "    .dataframe tbody tr th {\n",
       "        vertical-align: top;\n",
       "    }\n",
       "\n",
       "    .dataframe thead th {\n",
       "        text-align: right;\n",
       "    }\n",
       "</style>\n",
       "<table border=\"1\" class=\"dataframe\">\n",
       "  <thead>\n",
       "    <tr style=\"text-align: right;\">\n",
       "      <th></th>\n",
       "      <th>name</th>\n",
       "      <th>categories</th>\n",
       "      <th>address</th>\n",
       "      <th>lat</th>\n",
       "      <th>lng</th>\n",
       "      <th>labeledLatLngs</th>\n",
       "      <th>distance</th>\n",
       "      <th>postalCode</th>\n",
       "      <th>cc</th>\n",
       "      <th>city</th>\n",
       "      <th>state</th>\n",
       "      <th>country</th>\n",
       "      <th>formattedAddress</th>\n",
       "      <th>crossStreet</th>\n",
       "      <th>id</th>\n",
       "    </tr>\n",
       "  </thead>\n",
       "  <tbody>\n",
       "    <tr>\n",
       "      <th>0</th>\n",
       "      <td>Inara Bar and Lounge at Four Seasons Resort Marrakech</td>\n",
       "      <td>Lounge</td>\n",
       "      <td>1 Boulevard de la Menara</td>\n",
       "      <td>31.621667</td>\n",
       "      <td>-7.984400</td>\n",
       "      <td>[{'label': 'display', 'lat': 31.621666920228197, 'lng': -7.984399795532227}]</td>\n",
       "      <td>646</td>\n",
       "      <td>40000</td>\n",
       "      <td>MA</td>\n",
       "      <td>مراكش</td>\n",
       "      <td>Marrakech-Tensift-Al Haouz</td>\n",
       "      <td>المغرب</td>\n",
       "      <td>[1 Boulevard de la Menara, 40000 مراكش, المغرب]</td>\n",
       "      <td>NaN</td>\n",
       "      <td>4e42ea831fc78b855c199b61</td>\n",
       "    </tr>\n",
       "    <tr>\n",
       "      <th>1</th>\n",
       "      <td>Le Bar</td>\n",
       "      <td>Hotel Bar</td>\n",
       "      <td>NaN</td>\n",
       "      <td>31.625750</td>\n",
       "      <td>-7.998657</td>\n",
       "      <td>[{'label': 'display', 'lat': 31.62575, 'lng': -7.998657}]</td>\n",
       "      <td>900</td>\n",
       "      <td>40000</td>\n",
       "      <td>MA</td>\n",
       "      <td>Marrakech Médina</td>\n",
       "      <td>Marrakech-Tensift-Al Haouz</td>\n",
       "      <td>المغرب</td>\n",
       "      <td>[40000 Marrakech Médina, المغرب]</td>\n",
       "      <td>NaN</td>\n",
       "      <td>5a243af8b37e2b5bbfd62cc3</td>\n",
       "    </tr>\n",
       "    <tr>\n",
       "      <th>2</th>\n",
       "      <td>Lawrence Bar at Sofitel Marrakech</td>\n",
       "      <td>None</td>\n",
       "      <td>Rue Harroun Errachid, Quartier de L'Hivernage</td>\n",
       "      <td>31.621408</td>\n",
       "      <td>-8.002334</td>\n",
       "      <td>[{'label': 'display', 'lat': 31.62140831776903, 'lng': -8.002334257289304}]</td>\n",
       "      <td>1342</td>\n",
       "      <td>NaN</td>\n",
       "      <td>MA</td>\n",
       "      <td>40000 Marrakech</td>\n",
       "      <td>40000 Marrakech</td>\n",
       "      <td>المغرب</td>\n",
       "      <td>[Rue Harroun Errachid, Quartier de L'Hivernage, 40000 Marrakech, المغرب]</td>\n",
       "      <td>NaN</td>\n",
       "      <td>4e5e9cf262e121012040f109</td>\n",
       "    </tr>\n",
       "    <tr>\n",
       "      <th>3</th>\n",
       "      <td>Nuphar bar</td>\n",
       "      <td>Hotel Bar</td>\n",
       "      <td>rue Djbel Lakhder</td>\n",
       "      <td>31.628368</td>\n",
       "      <td>-7.994823</td>\n",
       "      <td>[{'label': 'display', 'lat': 31.628368, 'lng': -7.994823}]</td>\n",
       "      <td>606</td>\n",
       "      <td>40000</td>\n",
       "      <td>MA</td>\n",
       "      <td>مراكش</td>\n",
       "      <td>Marrakech-Tensift-Al Haouz</td>\n",
       "      <td>المغرب</td>\n",
       "      <td>[rue Djbel Lakhder (Bab Doukkala), 40000 مراكش, المغرب]</td>\n",
       "      <td>Bab Doukkala</td>\n",
       "      <td>51e07588498e838526a55355</td>\n",
       "    </tr>\n",
       "    <tr>\n",
       "      <th>4</th>\n",
       "      <td>Le bar Italien - La Mamounia Marrakech</td>\n",
       "      <td>Cocktail Bar</td>\n",
       "      <td>1 Avenue Bab Jdid</td>\n",
       "      <td>31.620873</td>\n",
       "      <td>-7.997202</td>\n",
       "      <td>[{'label': 'display', 'lat': 31.62087309937967, 'lng': -7.997202096409871}]</td>\n",
       "      <td>940</td>\n",
       "      <td>40000</td>\n",
       "      <td>MA</td>\n",
       "      <td>مراكش</td>\n",
       "      <td>Marrakech-Tensift-Al Haouz</td>\n",
       "      <td>المغرب</td>\n",
       "      <td>[1 Avenue Bab Jdid, 40000 مراكش, المغرب]</td>\n",
       "      <td>NaN</td>\n",
       "      <td>4f2db27ee4b0c1a8190d8c5d</td>\n",
       "    </tr>\n",
       "  </tbody>\n",
       "</table>\n",
       "</div>"
      ],
      "text/plain": [
       "                                                    name    categories  \\\n",
       "0  Inara Bar and Lounge at Four Seasons Resort Marrakech  Lounge         \n",
       "1  Le Bar                                                 Hotel Bar      \n",
       "2  Lawrence Bar at Sofitel Marrakech                      None           \n",
       "3  Nuphar bar                                             Hotel Bar      \n",
       "4  Le bar Italien - La Mamounia Marrakech                 Cocktail Bar   \n",
       "\n",
       "                                         address        lat       lng  \\\n",
       "0  1 Boulevard de la Menara                       31.621667 -7.984400   \n",
       "1  NaN                                            31.625750 -7.998657   \n",
       "2  Rue Harroun Errachid, Quartier de L'Hivernage  31.621408 -8.002334   \n",
       "3  rue Djbel Lakhder                              31.628368 -7.994823   \n",
       "4  1 Avenue Bab Jdid                              31.620873 -7.997202   \n",
       "\n",
       "                                                                 labeledLatLngs  \\\n",
       "0  [{'label': 'display', 'lat': 31.621666920228197, 'lng': -7.984399795532227}]   \n",
       "1  [{'label': 'display', 'lat': 31.62575, 'lng': -7.998657}]                      \n",
       "2  [{'label': 'display', 'lat': 31.62140831776903, 'lng': -8.002334257289304}]    \n",
       "3  [{'label': 'display', 'lat': 31.628368, 'lng': -7.994823}]                     \n",
       "4  [{'label': 'display', 'lat': 31.62087309937967, 'lng': -7.997202096409871}]    \n",
       "\n",
       "   distance postalCode  cc              city                       state  \\\n",
       "0  646       40000      MA  مراكش             Marrakech-Tensift-Al Haouz   \n",
       "1  900       40000      MA  Marrakech Médina  Marrakech-Tensift-Al Haouz   \n",
       "2  1342      NaN        MA  40000 Marrakech   40000 Marrakech              \n",
       "3  606       40000      MA  مراكش             Marrakech-Tensift-Al Haouz   \n",
       "4  940       40000      MA  مراكش             Marrakech-Tensift-Al Haouz   \n",
       "\n",
       "  country  \\\n",
       "0  المغرب   \n",
       "1  المغرب   \n",
       "2  المغرب   \n",
       "3  المغرب   \n",
       "4  المغرب   \n",
       "\n",
       "                                                           formattedAddress  \\\n",
       "0  [1 Boulevard de la Menara, 40000 مراكش, المغرب]                            \n",
       "1  [40000 Marrakech Médina, المغرب]                                           \n",
       "2  [Rue Harroun Errachid, Quartier de L'Hivernage, 40000 Marrakech, المغرب]   \n",
       "3  [rue Djbel Lakhder (Bab Doukkala), 40000 مراكش, المغرب]                    \n",
       "4  [1 Avenue Bab Jdid, 40000 مراكش, المغرب]                                   \n",
       "\n",
       "    crossStreet                        id  \n",
       "0  NaN           4e42ea831fc78b855c199b61  \n",
       "1  NaN           5a243af8b37e2b5bbfd62cc3  \n",
       "2  NaN           4e5e9cf262e121012040f109  \n",
       "3  Bab Doukkala  51e07588498e838526a55355  \n",
       "4  NaN           4f2db27ee4b0c1a8190d8c5d  "
      ]
     },
     "execution_count": 70,
     "metadata": {},
     "output_type": "execute_result"
    }
   ],
   "source": [
    "dataframe_filtered.head()"
   ]
  },
  {
   "cell_type": "code",
   "execution_count": 71,
   "metadata": {
    "button": false,
    "new_sheet": false,
    "run_control": {
     "read_only": false
    }
   },
   "outputs": [],
   "source": [
    "latitude = 31.620873\n",
    "longitude = -7.997202"
   ]
  },
  {
   "cell_type": "markdown",
   "metadata": {
    "button": false,
    "new_sheet": false,
    "run_control": {
     "read_only": false
    }
   },
   "source": [
    "#### Define URL\n"
   ]
  },
  {
   "cell_type": "code",
   "execution_count": 72,
   "metadata": {
    "button": false,
    "jupyter": {
     "outputs_hidden": false
    },
    "new_sheet": false,
    "run_control": {
     "read_only": false
    }
   },
   "outputs": [
    {
     "data": {
      "text/plain": [
       "'https://api.foursquare.com/v2/venues/explore?client_id=MFW2HK5GAQTV31UUEMWA3GY5RJHEAWLSH5GMRMD0S5D0B0CG&client_secret=12120DVOH2CZU0YRRNA4JP00V2VDJKL5QTAA035AGNULYO15&ll=31.620873,-7.997202&v=20180604&radius=10000&limit=30'"
      ]
     },
     "execution_count": 72,
     "metadata": {},
     "output_type": "execute_result"
    }
   ],
   "source": [
    "url = 'https://api.foursquare.com/v2/venues/explore?client_id={}&client_secret={}&ll={},{}&v={}&radius={}&limit={}'.format(CLIENT_ID, CLIENT_SECRET, latitude, longitude, VERSION, radius, LIMIT)\n",
    "url"
   ]
  },
  {
   "cell_type": "markdown",
   "metadata": {
    "button": false,
    "new_sheet": false,
    "run_control": {
     "read_only": false
    }
   },
   "source": [
    "#### Send GET request and examine results\n"
   ]
  },
  {
   "cell_type": "code",
   "execution_count": 73,
   "metadata": {
    "button": false,
    "new_sheet": false,
    "run_control": {
     "read_only": false
    }
   },
   "outputs": [],
   "source": [
    "import requests"
   ]
  },
  {
   "cell_type": "code",
   "execution_count": 75,
   "metadata": {
    "button": false,
    "jupyter": {
     "outputs_hidden": false
    },
    "new_sheet": false,
    "run_control": {
     "read_only": false
    }
   },
   "outputs": [
    {
     "data": {
      "text/plain": [
       "'There are 30 around this restaurant.'"
      ]
     },
     "execution_count": 75,
     "metadata": {},
     "output_type": "execute_result"
    }
   ],
   "source": [
    "results = requests.get(url).json()\n",
    "'There are {} around this restaurant.'.format(len(results['response']['groups'][0]['items']))"
   ]
  },
  {
   "cell_type": "markdown",
   "metadata": {
    "button": false,
    "new_sheet": false,
    "run_control": {
     "read_only": false
    }
   },
   "source": [
    "#### Get relevant part of JSON\n"
   ]
  },
  {
   "cell_type": "code",
   "execution_count": 76,
   "metadata": {
    "button": false,
    "jupyter": {
     "outputs_hidden": false
    },
    "new_sheet": false,
    "run_control": {
     "read_only": false
    }
   },
   "outputs": [
    {
     "data": {
      "text/plain": [
       "{'reasons': {'count': 0,\n",
       "  'items': [{'summary': 'This spot is popular',\n",
       "    'type': 'general',\n",
       "    'reasonName': 'globalInteractionReason'}]},\n",
       " 'venue': {'id': '4bb857703db7b713e73d219a',\n",
       "  'name': 'La Mamounia',\n",
       "  'location': {'address': '1 Avenue Bab Jdid',\n",
       "   'lat': 31.620867243132132,\n",
       "   'lng': -7.997152920436632,\n",
       "   'labeledLatLngs': [{'label': 'display',\n",
       "     'lat': 31.620867243132132,\n",
       "     'lng': -7.997152920436632}],\n",
       "   'distance': 4,\n",
       "   'postalCode': '40000',\n",
       "   'cc': 'MA',\n",
       "   'city': 'مراكش',\n",
       "   'state': 'Marrakech-Tensift-Al Haouz',\n",
       "   'country': 'المغرب',\n",
       "   'formattedAddress': ['1 Avenue Bab Jdid', '40000 مراكش', 'المغرب']},\n",
       "  'categories': [{'id': '4bf58dd8d48988d1fa931735',\n",
       "    'name': 'Hotel',\n",
       "    'pluralName': 'Hotels',\n",
       "    'shortName': 'Hotel',\n",
       "    'icon': {'prefix': 'https://ss3.4sqi.net/img/categories_v2/travel/hotel_',\n",
       "     'suffix': '.png'},\n",
       "    'primary': True}],\n",
       "  'photos': {'count': 0, 'groups': []}},\n",
       " 'referralId': 'e-0-4bb857703db7b713e73d219a-0'}"
      ]
     },
     "execution_count": 76,
     "metadata": {},
     "output_type": "execute_result"
    }
   ],
   "source": [
    "items = results['response']['groups'][0]['items']\n",
    "items[0]"
   ]
  },
  {
   "cell_type": "markdown",
   "metadata": {
    "button": false,
    "new_sheet": false,
    "run_control": {
     "read_only": false
    }
   },
   "source": [
    "#### Process JSON and convert it to a clean dataframe\n"
   ]
  },
  {
   "cell_type": "code",
   "execution_count": 77,
   "metadata": {
    "button": false,
    "jupyter": {
     "outputs_hidden": false
    },
    "new_sheet": false,
    "run_control": {
     "read_only": false
    }
   },
   "outputs": [
    {
     "name": "stderr",
     "output_type": "stream",
     "text": [
      "<ipython-input-77-b7321e367fed>:1: FutureWarning: pandas.io.json.json_normalize is deprecated, use pandas.json_normalize instead\n",
      "  dataframe = json_normalize(items) # flatten JSON\n"
     ]
    },
    {
     "data": {
      "text/html": [
       "<div>\n",
       "<style scoped>\n",
       "    .dataframe tbody tr th:only-of-type {\n",
       "        vertical-align: middle;\n",
       "    }\n",
       "\n",
       "    .dataframe tbody tr th {\n",
       "        vertical-align: top;\n",
       "    }\n",
       "\n",
       "    .dataframe thead th {\n",
       "        text-align: right;\n",
       "    }\n",
       "</style>\n",
       "<table border=\"1\" class=\"dataframe\">\n",
       "  <thead>\n",
       "    <tr style=\"text-align: right;\">\n",
       "      <th></th>\n",
       "      <th>name</th>\n",
       "      <th>categories</th>\n",
       "      <th>address</th>\n",
       "      <th>lat</th>\n",
       "      <th>lng</th>\n",
       "      <th>labeledLatLngs</th>\n",
       "      <th>distance</th>\n",
       "      <th>postalCode</th>\n",
       "      <th>cc</th>\n",
       "      <th>city</th>\n",
       "      <th>state</th>\n",
       "      <th>country</th>\n",
       "      <th>formattedAddress</th>\n",
       "      <th>crossStreet</th>\n",
       "      <th>neighborhood</th>\n",
       "      <th>id</th>\n",
       "    </tr>\n",
       "  </thead>\n",
       "  <tbody>\n",
       "    <tr>\n",
       "      <th>0</th>\n",
       "      <td>La Mamounia</td>\n",
       "      <td>Hotel</td>\n",
       "      <td>1 Avenue Bab Jdid</td>\n",
       "      <td>31.620867</td>\n",
       "      <td>-7.997153</td>\n",
       "      <td>[{'label': 'display', 'lat': 31.620867243132132, 'lng': -7.997152920436632}]</td>\n",
       "      <td>4</td>\n",
       "      <td>40000</td>\n",
       "      <td>MA</td>\n",
       "      <td>مراكش</td>\n",
       "      <td>Marrakech-Tensift-Al Haouz</td>\n",
       "      <td>المغرب</td>\n",
       "      <td>[1 Avenue Bab Jdid, 40000 مراكش, المغرب]</td>\n",
       "      <td>NaN</td>\n",
       "      <td>NaN</td>\n",
       "      <td>4bb857703db7b713e73d219a</td>\n",
       "    </tr>\n",
       "    <tr>\n",
       "      <th>1</th>\n",
       "      <td>Royal Mansour, Marrakech</td>\n",
       "      <td>Hotel</td>\n",
       "      <td>Rue Abou Abbas</td>\n",
       "      <td>31.625658</td>\n",
       "      <td>-7.998619</td>\n",
       "      <td>[{'label': 'display', 'lat': 31.625657973672205, 'lng': -7.99861893878652}]</td>\n",
       "      <td>549</td>\n",
       "      <td>NaN</td>\n",
       "      <td>MA</td>\n",
       "      <td>مراكش</td>\n",
       "      <td>Marrakech-Tensift-Al Haouz</td>\n",
       "      <td>المغرب</td>\n",
       "      <td>[Rue Abou Abbas (El Sebti 40 000), مراكش, المغرب]</td>\n",
       "      <td>El Sebti 40 000</td>\n",
       "      <td>NaN</td>\n",
       "      <td>531b5353498e44240903bc82</td>\n",
       "    </tr>\n",
       "    <tr>\n",
       "      <th>2</th>\n",
       "      <td>Sofitel Marrakech Palais Impérial</td>\n",
       "      <td>Hotel</td>\n",
       "      <td>Rue Harroun Errachid, Hivernage</td>\n",
       "      <td>31.621666</td>\n",
       "      <td>-8.001213</td>\n",
       "      <td>[{'label': 'display', 'lat': 31.62166583452359, 'lng': -8.00121256508669}]</td>\n",
       "      <td>390</td>\n",
       "      <td>40000</td>\n",
       "      <td>MA</td>\n",
       "      <td>مراكش</td>\n",
       "      <td>Marrakech-Tensift-Al Haouz</td>\n",
       "      <td>المغرب</td>\n",
       "      <td>[Rue Harroun Errachid, Hivernage, 40000 مراكش, المغرب]</td>\n",
       "      <td>NaN</td>\n",
       "      <td>NaN</td>\n",
       "      <td>5050712b83026c62b892acb5</td>\n",
       "    </tr>\n",
       "    <tr>\n",
       "      <th>3</th>\n",
       "      <td>La Villa Des Orangers Hotel Marrakech</td>\n",
       "      <td>Hotel</td>\n",
       "      <td>6 Rue Stdi Mimoun</td>\n",
       "      <td>31.620410</td>\n",
       "      <td>-7.991444</td>\n",
       "      <td>[{'label': 'display', 'lat': 31.620409930952487, 'lng': -7.991444262063387}]</td>\n",
       "      <td>548</td>\n",
       "      <td>NaN</td>\n",
       "      <td>MA</td>\n",
       "      <td>مراكش</td>\n",
       "      <td>Marrakech-Tensift-Al Haouz</td>\n",
       "      <td>المغرب</td>\n",
       "      <td>[6 Rue Stdi Mimoun, مراكش, المغرب]</td>\n",
       "      <td>NaN</td>\n",
       "      <td>NaN</td>\n",
       "      <td>4bc78dc393bdeee1398237ae</td>\n",
       "    </tr>\n",
       "    <tr>\n",
       "      <th>4</th>\n",
       "      <td>Es Saadi Palace &amp; Villas</td>\n",
       "      <td>Hotel</td>\n",
       "      <td>Avenue Ibrahim El Mazini</td>\n",
       "      <td>31.620622</td>\n",
       "      <td>-8.004233</td>\n",
       "      <td>[{'label': 'display', 'lat': 31.620622277463514, 'lng': -8.00423307013306}]</td>\n",
       "      <td>667</td>\n",
       "      <td>NaN</td>\n",
       "      <td>MA</td>\n",
       "      <td>مراكش</td>\n",
       "      <td>Marrakech-Tensift-Al Haouz</td>\n",
       "      <td>المغرب</td>\n",
       "      <td>[Avenue Ibrahim El Mazini, مراكش, المغرب]</td>\n",
       "      <td>NaN</td>\n",
       "      <td>NaN</td>\n",
       "      <td>4cfe901a66ee9eb05edea64e</td>\n",
       "    </tr>\n",
       "    <tr>\n",
       "      <th>5</th>\n",
       "      <td>Comptoir Darna</td>\n",
       "      <td>Moroccan Restaurant</td>\n",
       "      <td>Avenue Echouhada Hivernage</td>\n",
       "      <td>31.623892</td>\n",
       "      <td>-8.003084</td>\n",
       "      <td>[{'label': 'display', 'lat': 31.62389178678802, 'lng': -8.003083701217452}]</td>\n",
       "      <td>650</td>\n",
       "      <td>NaN</td>\n",
       "      <td>MA</td>\n",
       "      <td>مراكش</td>\n",
       "      <td>Marrakech-Tensift-Al Haouz</td>\n",
       "      <td>المغرب</td>\n",
       "      <td>[Avenue Echouhada Hivernage, مراكش, المغرب]</td>\n",
       "      <td>NaN</td>\n",
       "      <td>Hivernage</td>\n",
       "      <td>4bd35f8877b29c7409b19082</td>\n",
       "    </tr>\n",
       "    <tr>\n",
       "      <th>6</th>\n",
       "      <td>Epicurien</td>\n",
       "      <td>French Restaurant</td>\n",
       "      <td>Rue Ibrahim El Mazini</td>\n",
       "      <td>31.621330</td>\n",
       "      <td>-8.004994</td>\n",
       "      <td>[{'label': 'display', 'lat': 31.621330057199156, 'lng': -8.004993634941597}]</td>\n",
       "      <td>740</td>\n",
       "      <td>NaN</td>\n",
       "      <td>MA</td>\n",
       "      <td>مراكش</td>\n",
       "      <td>Marrakech-Tensift-Al Haouz</td>\n",
       "      <td>المغرب</td>\n",
       "      <td>[Rue Ibrahim El Mazini, مراكش, المغرب]</td>\n",
       "      <td>NaN</td>\n",
       "      <td>Hivernage</td>\n",
       "      <td>4cb65efa589f236a9d56373d</td>\n",
       "    </tr>\n",
       "    <tr>\n",
       "      <th>7</th>\n",
       "      <td>Maison Arabe</td>\n",
       "      <td>Moroccan Restaurant</td>\n",
       "      <td>1 Derb Assehbe</td>\n",
       "      <td>31.630771</td>\n",
       "      <td>-7.996060</td>\n",
       "      <td>[{'label': 'display', 'lat': 31.630770644495836, 'lng': -7.996060150821936}]</td>\n",
       "      <td>1107</td>\n",
       "      <td>NaN</td>\n",
       "      <td>MA</td>\n",
       "      <td>Marrakech Menara</td>\n",
       "      <td>Marrakech-Tensift-El</td>\n",
       "      <td>المغرب</td>\n",
       "      <td>[1 Derb Assehbe, Marrakech Menara, المغرب]</td>\n",
       "      <td>NaN</td>\n",
       "      <td>NaN</td>\n",
       "      <td>4c3a41bc0a71c9b6cdf443c9</td>\n",
       "    </tr>\n",
       "    <tr>\n",
       "      <th>8</th>\n",
       "      <td>Riad Monceau</td>\n",
       "      <td>Hotel</td>\n",
       "      <td>NaN</td>\n",
       "      <td>31.624644</td>\n",
       "      <td>-7.987033</td>\n",
       "      <td>[{'label': 'display', 'lat': 31.624644492033465, 'lng': -7.987032796630782}]</td>\n",
       "      <td>1051</td>\n",
       "      <td>NaN</td>\n",
       "      <td>MA</td>\n",
       "      <td>مراكش</td>\n",
       "      <td>Marrakech-Tensift-Al Haouz</td>\n",
       "      <td>المغرب</td>\n",
       "      <td>[مراكش, المغرب]</td>\n",
       "      <td>NaN</td>\n",
       "      <td>NaN</td>\n",
       "      <td>4bd4c9056798ef3ba868628d</td>\n",
       "    </tr>\n",
       "    <tr>\n",
       "      <th>9</th>\n",
       "      <td>La Sultana Marrakech</td>\n",
       "      <td>Moroccan Restaurant</td>\n",
       "      <td>403 rue de la Kasbah</td>\n",
       "      <td>31.617013</td>\n",
       "      <td>-7.988531</td>\n",
       "      <td>[{'label': 'display', 'lat': 31.617012942416643, 'lng': -7.988531252375962}]</td>\n",
       "      <td>927</td>\n",
       "      <td>40000</td>\n",
       "      <td>MA</td>\n",
       "      <td>Marrakech</td>\n",
       "      <td>Marrakech-Tensift-El</td>\n",
       "      <td>المغرب</td>\n",
       "      <td>[403 rue de la Kasbah, 40000 Marrakech, المغرب]</td>\n",
       "      <td>NaN</td>\n",
       "      <td>NaN</td>\n",
       "      <td>4bbf73c930c99c74353a5511</td>\n",
       "    </tr>\n",
       "  </tbody>\n",
       "</table>\n",
       "</div>"
      ],
      "text/plain": [
       "                                    name           categories  \\\n",
       "0  La Mamounia                            Hotel                 \n",
       "1  Royal Mansour, Marrakech               Hotel                 \n",
       "2  Sofitel Marrakech Palais Impérial      Hotel                 \n",
       "3  La Villa Des Orangers Hotel Marrakech  Hotel                 \n",
       "4  Es Saadi Palace & Villas               Hotel                 \n",
       "5  Comptoir Darna                         Moroccan Restaurant   \n",
       "6  Epicurien                              French Restaurant     \n",
       "7  Maison Arabe                           Moroccan Restaurant   \n",
       "8  Riad Monceau                           Hotel                 \n",
       "9  La Sultana Marrakech                   Moroccan Restaurant   \n",
       "\n",
       "                           address        lat       lng  \\\n",
       "0  1 Avenue Bab Jdid                31.620867 -7.997153   \n",
       "1  Rue Abou Abbas                   31.625658 -7.998619   \n",
       "2  Rue Harroun Errachid, Hivernage  31.621666 -8.001213   \n",
       "3  6 Rue Stdi Mimoun                31.620410 -7.991444   \n",
       "4  Avenue Ibrahim El Mazini         31.620622 -8.004233   \n",
       "5  Avenue Echouhada Hivernage       31.623892 -8.003084   \n",
       "6  Rue Ibrahim El Mazini            31.621330 -8.004994   \n",
       "7  1 Derb Assehbe                   31.630771 -7.996060   \n",
       "8  NaN                              31.624644 -7.987033   \n",
       "9  403 rue de la Kasbah             31.617013 -7.988531   \n",
       "\n",
       "                                                                 labeledLatLngs  \\\n",
       "0  [{'label': 'display', 'lat': 31.620867243132132, 'lng': -7.997152920436632}]   \n",
       "1  [{'label': 'display', 'lat': 31.625657973672205, 'lng': -7.99861893878652}]    \n",
       "2  [{'label': 'display', 'lat': 31.62166583452359, 'lng': -8.00121256508669}]     \n",
       "3  [{'label': 'display', 'lat': 31.620409930952487, 'lng': -7.991444262063387}]   \n",
       "4  [{'label': 'display', 'lat': 31.620622277463514, 'lng': -8.00423307013306}]    \n",
       "5  [{'label': 'display', 'lat': 31.62389178678802, 'lng': -8.003083701217452}]    \n",
       "6  [{'label': 'display', 'lat': 31.621330057199156, 'lng': -8.004993634941597}]   \n",
       "7  [{'label': 'display', 'lat': 31.630770644495836, 'lng': -7.996060150821936}]   \n",
       "8  [{'label': 'display', 'lat': 31.624644492033465, 'lng': -7.987032796630782}]   \n",
       "9  [{'label': 'display', 'lat': 31.617012942416643, 'lng': -7.988531252375962}]   \n",
       "\n",
       "   distance postalCode  cc              city                       state  \\\n",
       "0  4         40000      MA  مراكش             Marrakech-Tensift-Al Haouz   \n",
       "1  549       NaN        MA  مراكش             Marrakech-Tensift-Al Haouz   \n",
       "2  390       40000      MA  مراكش             Marrakech-Tensift-Al Haouz   \n",
       "3  548       NaN        MA  مراكش             Marrakech-Tensift-Al Haouz   \n",
       "4  667       NaN        MA  مراكش             Marrakech-Tensift-Al Haouz   \n",
       "5  650       NaN        MA  مراكش             Marrakech-Tensift-Al Haouz   \n",
       "6  740       NaN        MA  مراكش             Marrakech-Tensift-Al Haouz   \n",
       "7  1107      NaN        MA  Marrakech Menara  Marrakech-Tensift-El         \n",
       "8  1051      NaN        MA  مراكش             Marrakech-Tensift-Al Haouz   \n",
       "9  927       40000      MA  Marrakech         Marrakech-Tensift-El         \n",
       "\n",
       "  country                                        formattedAddress  \\\n",
       "0  المغرب  [1 Avenue Bab Jdid, 40000 مراكش, المغرب]                 \n",
       "1  المغرب  [Rue Abou Abbas (El Sebti 40 000), مراكش, المغرب]        \n",
       "2  المغرب  [Rue Harroun Errachid, Hivernage, 40000 مراكش, المغرب]   \n",
       "3  المغرب  [6 Rue Stdi Mimoun, مراكش, المغرب]                       \n",
       "4  المغرب  [Avenue Ibrahim El Mazini, مراكش, المغرب]                \n",
       "5  المغرب  [Avenue Echouhada Hivernage, مراكش, المغرب]              \n",
       "6  المغرب  [Rue Ibrahim El Mazini, مراكش, المغرب]                   \n",
       "7  المغرب  [1 Derb Assehbe, Marrakech Menara, المغرب]               \n",
       "8  المغرب  [مراكش, المغرب]                                          \n",
       "9  المغرب  [403 rue de la Kasbah, 40000 Marrakech, المغرب]          \n",
       "\n",
       "       crossStreet neighborhood                        id  \n",
       "0  NaN              NaN          4bb857703db7b713e73d219a  \n",
       "1  El Sebti 40 000  NaN          531b5353498e44240903bc82  \n",
       "2  NaN              NaN          5050712b83026c62b892acb5  \n",
       "3  NaN              NaN          4bc78dc393bdeee1398237ae  \n",
       "4  NaN              NaN          4cfe901a66ee9eb05edea64e  \n",
       "5  NaN              Hivernage    4bd35f8877b29c7409b19082  \n",
       "6  NaN              Hivernage    4cb65efa589f236a9d56373d  \n",
       "7  NaN              NaN          4c3a41bc0a71c9b6cdf443c9  \n",
       "8  NaN              NaN          4bd4c9056798ef3ba868628d  \n",
       "9  NaN              NaN          4bbf73c930c99c74353a5511  "
      ]
     },
     "execution_count": 77,
     "metadata": {},
     "output_type": "execute_result"
    }
   ],
   "source": [
    "dataframe = json_normalize(items) # flatten JSON\n",
    "\n",
    "# filter columns\n",
    "filtered_columns = ['venue.name', 'venue.categories'] + [col for col in dataframe.columns if col.startswith('venue.location.')] + ['venue.id']\n",
    "dataframe_filtered = dataframe.loc[:, filtered_columns]\n",
    "\n",
    "# filter the category for each row\n",
    "dataframe_filtered['venue.categories'] = dataframe_filtered.apply(get_category_type, axis=1)\n",
    "\n",
    "# clean columns\n",
    "dataframe_filtered.columns = [col.split('.')[-1] for col in dataframe_filtered.columns]\n",
    "\n",
    "dataframe_filtered.head(10)"
   ]
  },
  {
   "cell_type": "markdown",
   "metadata": {
    "button": false,
    "new_sheet": false,
    "run_control": {
     "read_only": false
    }
   },
   "source": [
    "#### Let's visualize these items on the map around our location\n"
   ]
  },
  {
   "cell_type": "code",
   "execution_count": 78,
   "metadata": {
    "button": false,
    "jupyter": {
     "outputs_hidden": false
    },
    "new_sheet": false,
    "run_control": {
     "read_only": false
    },
    "scrolled": true
   },
   "outputs": [
    {
     "data": {
      "text/html": [
       "<div style=\"width:100%;\"><div style=\"position:relative;width:100%;height:0;padding-bottom:60%;\"><span style=\"color:#565656\">Make this Notebook Trusted to load map: File -> Trust Notebook</span><iframe src=\"about:blank\" style=\"position:absolute;width:100%;height:100%;left:0;top:0;border:none !important;\" data-html=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 onload=\"this.contentDocument.open();this.contentDocument.write(atob(this.getAttribute('data-html')));this.contentDocument.close();\" allowfullscreen webkitallowfullscreen mozallowfullscreen></iframe></div></div>"
      ],
      "text/plain": [
       "<folium.folium.Map at 0x1488de7e190>"
      ]
     },
     "execution_count": 78,
     "metadata": {},
     "output_type": "execute_result"
    }
   ],
   "source": [
    "venues_map = folium.Map(location=[latitude, longitude], zoom_start=15) # generate map centred around the restaurant\n",
    "\n",
    "\n",
    "# add restaurant as a red circle mark\n",
    "folium.CircleMarker(\n",
    "    [latitude, longitude],\n",
    "    radius=10,\n",
    "    fill=True,\n",
    "    color='red',\n",
    "    fill_color='red',\n",
    "    fill_opacity=0.6\n",
    "    ).add_to(venues_map)\n",
    "\n",
    "\n",
    "# add popular spots to the map as blue circle markers\n",
    "for lat, lng, label in zip(dataframe_filtered.lat, dataframe_filtered.lng, dataframe_filtered.categories):\n",
    "    folium.CircleMarker(\n",
    "        [lat, lng],\n",
    "        radius=5,\n",
    "        popup=label,\n",
    "        fill=True,\n",
    "        color='blue',\n",
    "        fill_color='blue',\n",
    "        fill_opacity=0.6\n",
    "        ).add_to(venues_map)\n",
    "\n",
    "# display map\n",
    "venues_map"
   ]
  },
  {
   "cell_type": "markdown",
   "metadata": {
    "button": false,
    "new_sheet": false,
    "run_control": {
     "read_only": false
    }
   },
   "source": [
    "\n"
   ]
  },
  {
   "cell_type": "markdown",
   "metadata": {
    "button": false,
    "new_sheet": false,
    "run_control": {
     "read_only": false
    }
   },
   "source": [
    "<a id=\"item5\"></a>\n"
   ]
  },
  {
   "cell_type": "markdown",
   "metadata": {
    "button": false,
    "new_sheet": false,
    "run_control": {
     "read_only": false
    }
   },
   "source": [
    "## 5. Explore Trending Venues\n",
    "\n",
    "\n"
   ]
  },
  {
   "cell_type": "markdown",
   "metadata": {
    "button": false,
    "new_sheet": false,
    "run_control": {
     "read_only": false
    }
   },
   "source": [
    "#### Now, instead of simply exploring the area around restaurant, we are interested in knowing the venues that are trending at the time we are done with the party, meaning the places with the highest foot traffic. So let's do that and get the trending venues around restaurant.\n"
   ]
  },
  {
   "cell_type": "code",
   "execution_count": 79,
   "metadata": {
    "button": false,
    "jupyter": {
     "outputs_hidden": false
    },
    "new_sheet": false,
    "run_control": {
     "read_only": false
    }
   },
   "outputs": [
    {
     "data": {
      "text/plain": [
       "{'meta': {'code': 200, 'requestId': '5fc5062cb144236e128b9235'},\n",
       " 'response': {'venues': []}}"
      ]
     },
     "execution_count": 79,
     "metadata": {},
     "output_type": "execute_result"
    }
   ],
   "source": [
    "# define URL\n",
    "url = 'https://api.foursquare.com/v2/venues/trending?client_id={}&client_secret={}&ll={},{}&v={}'.format(CLIENT_ID, CLIENT_SECRET, latitude, longitude, VERSION)\n",
    "\n",
    "# send GET request and get trending venues\n",
    "results = requests.get(url).json()\n",
    "results"
   ]
  },
  {
   "cell_type": "markdown",
   "metadata": {
    "button": false,
    "new_sheet": false,
    "run_control": {
     "read_only": false
    }
   },
   "source": [
    "### Check if any venues are trending at this time\n"
   ]
  },
  {
   "cell_type": "code",
   "execution_count": 80,
   "metadata": {
    "button": false,
    "jupyter": {
     "outputs_hidden": true
    },
    "new_sheet": false,
    "run_control": {
     "read_only": false
    }
   },
   "outputs": [],
   "source": [
    "if len(results['response']['venues']) == 0:\n",
    "    trending_venues_df = 'No trending venues are available at the moment!'\n",
    "    \n",
    "else:\n",
    "    trending_venues = results['response']['venues']\n",
    "    trending_venues_df = json_normalize(trending_venues)\n",
    "\n",
    "    # filter columns\n",
    "    columns_filtered = ['name', 'categories'] + ['location.distance', 'location.city', 'location.postalCode', 'location.state', 'location.country', 'location.lat', 'location.lng']\n",
    "    trending_venues_df = trending_venues_df.loc[:, columns_filtered]\n",
    "\n",
    "    # filter the category for each row\n",
    "    trending_venues_df['categories'] = trending_venues_df.apply(get_category_type, axis=1)"
   ]
  },
  {
   "cell_type": "code",
   "execution_count": null,
   "metadata": {
    "button": false,
    "jupyter": {
     "outputs_hidden": false
    },
    "new_sheet": false,
    "run_control": {
     "read_only": false
    }
   },
   "outputs": [],
   "source": [
    "# display trending venues\n",
    "trending_venues_df"
   ]
  },
  {
   "cell_type": "markdown",
   "metadata": {
    "button": false,
    "new_sheet": false,
    "run_control": {
     "read_only": false
    }
   },
   "source": [
    "Now, depending on when you run the above code, you might get different venues since the venues with the highest foot traffic are fetched live. \n"
   ]
  },
  {
   "cell_type": "markdown",
   "metadata": {
    "button": false,
    "new_sheet": false,
    "run_control": {
     "read_only": false
    }
   },
   "source": [
    "### Visualize trending venues\n"
   ]
  },
  {
   "cell_type": "code",
   "execution_count": null,
   "metadata": {
    "button": false,
    "jupyter": {
     "outputs_hidden": false
    },
    "new_sheet": false,
    "run_control": {
     "read_only": false
    }
   },
   "outputs": [],
   "source": [
    "if len(results['response']['venues']) == 0:\n",
    "    venues_map = 'Cannot generate visual as no trending venues are available at the moment!'\n",
    "\n",
    "else:\n",
    "    venues_map = folium.Map(location=[latitude, longitude], zoom_start=15) # generate map centred around Ecco\n",
    "\n",
    "\n",
    "    # add Ecco as a red circle mark\n",
    "    folium.CircleMarker(\n",
    "        [latitude, longitude],\n",
    "        radius=10,\n",
    "        popup='Ecco',\n",
    "        fill=True,\n",
    "        color='red',\n",
    "        fill_color='red',\n",
    "        fill_opacity=0.6\n",
    "    ).add_to(venues_map)\n",
    "\n",
    "\n",
    "    # add the trending venues as blue circle markers\n",
    "    for lat, lng, label in zip(trending_venues_df['location.lat'], trending_venues_df['location.lng'], trending_venues_df['name']):\n",
    "        folium.CircleMarker(\n",
    "            [lat, lng],\n",
    "            radius=5,\n",
    "            poup=label,\n",
    "            fill=True,\n",
    "            color='blue',\n",
    "            fill_color='blue',\n",
    "            fill_opacity=0.6\n",
    "        ).add_to(venues_map)"
   ]
  },
  {
   "cell_type": "code",
   "execution_count": null,
   "metadata": {
    "button": false,
    "jupyter": {
     "outputs_hidden": false
    },
    "new_sheet": false,
    "run_control": {
     "read_only": false
    },
    "scrolled": true
   },
   "outputs": [],
   "source": [
    "# display map\n",
    "venues_map"
   ]
  },
  {
   "cell_type": "markdown",
   "metadata": {
    "button": false,
    "new_sheet": false,
    "run_control": {
     "read_only": false
    }
   },
   "source": [
    "<a id=\"item6\"></a>\n"
   ]
  },
  {
   "cell_type": "markdown",
   "metadata": {
    "button": false,
    "new_sheet": false,
    "run_control": {
     "read_only": false
    }
   },
   "source": [
    "\n"
   ]
  },
  {
   "cell_type": "markdown",
   "metadata": {
    "button": false,
    "new_sheet": false,
    "run_control": {
     "read_only": false
    }
   },
   "source": [
    "### Thank you for completing this lab!\n",
    "\n",
    "This notebook was created by [Alex Aklson](https://www.linkedin.com/in/aklson?cm_mmc=Email_Newsletter-_-Developer_Ed%2BTech-_-WW_WW-_-SkillsNetwork-Courses-IBMDeveloperSkillsNetwork-DS0701EN-SkillsNetwork-21253531&cm_mmca1=000026UJ&cm_mmca2=10006555&cm_mmca3=M12345678&cvosrc=email.Newsletter.M12345678&cvo_campaign=000026UJ&cm_mmc=Email_Newsletter-_-Developer_Ed%2BTech-_-WW_WW-_-SkillsNetwork-Courses-IBMDeveloperSkillsNetwork-DS0701EN-SkillsNetwork-21253531&cm_mmca1=000026UJ&cm_mmca2=10006555&cm_mmca3=M12345678&cvosrc=email.Newsletter.M12345678&cvo_campaign=000026UJ). I hope you found this lab interesting and educational. Feel free to contact me if you have any questions!\n",
    "\n",
    "This notebook modified by Nayef Abou Tayoun ([https://www.linkedin.com/in/nayefaboutayoun/](https://www.linkedin.com/in/nayefaboutayoun?cm_mmc=Email_Newsletter-_-Developer_Ed%2BTech-_-WW_WW-_-SkillsNetwork-Courses-IBMDeveloperSkillsNetwork-DS0701EN-SkillsNetwork-21253531&cm_mmca1=000026UJ&cm_mmca2=10006555&cm_mmca3=M12345678&cvosrc=email.Newsletter.M12345678&cvo_campaign=000026UJ))\n"
   ]
  },
  {
   "cell_type": "markdown",
   "metadata": {
    "button": false,
    "new_sheet": false,
    "run_control": {
     "read_only": false
    }
   },
   "source": [
    "This notebook is part of a course on **Coursera** called _Applied Data Science Capstone_. If you accessed this notebook outside the course, you can take this course online by clicking [here](http://cocl.us/DP0701EN_Coursera_Week2_LAB1).\n"
   ]
  },
  {
   "cell_type": "markdown",
   "metadata": {
    "button": false,
    "new_sheet": false,
    "run_control": {
     "read_only": false
    }
   },
   "source": [
    "## Change Log\n",
    "\n",
    "| Date (YYYY-MM-DD) | Version | Changed By    | Change Description         |\n",
    "| ----------------- | ------- | ------------- | -------------------------- |\n",
    "| 2020-11-26        | 2.0     | Lakshmi Holla | Updated the markdown cells |\n",
    "|                   |         |               |                            |\n",
    "|                   |         |               |                            |\n",
    "\n",
    "## <h3 align=\"center\"> © IBM Corporation 2020. All rights reserved. <h3/>\n"
   ]
  },
  {
   "cell_type": "code",
   "execution_count": null,
   "metadata": {},
   "outputs": [],
   "source": []
  }
 ],
 "metadata": {
  "kernelspec": {
   "display_name": "Python 3",
   "language": "python",
   "name": "python3"
  },
  "language_info": {
   "codemirror_mode": {
    "name": "ipython",
    "version": 3
   },
   "file_extension": ".py",
   "mimetype": "text/x-python",
   "name": "python",
   "nbconvert_exporter": "python",
   "pygments_lexer": "ipython3",
   "version": "3.8.3"
  },
  "widgets": {
   "state": {},
   "version": "1.1.2"
  }
 },
 "nbformat": 4,
 "nbformat_minor": 4
}
